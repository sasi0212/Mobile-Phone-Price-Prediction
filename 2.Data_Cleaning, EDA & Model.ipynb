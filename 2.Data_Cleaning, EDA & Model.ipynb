{
 "cells": [
  {
   "cell_type": "code",
   "execution_count": 1,
   "metadata": {},
   "outputs": [],
   "source": [
    "# Importing neccessary libraries\n",
    "\n",
    "import numpy as np\n",
    "import pandas as pd\n",
    "import re\n",
    "import matplotlib.pyplot as plt\n",
    "import seaborn as sns\n",
    "from sklearn.preprocessing import LabelEncoder, StandardScaler\n",
    "from sklearn.model_selection import train_test_split,GridSearchCV, cross_val_score, StratifiedKFold\n",
    "from sklearn.ensemble import RandomForestRegressor, GradientBoostingRegressor\n",
    "from sklearn.neighbors import KNeighborsRegressor\n",
    "from sklearn.svm import SVR\n",
    "from sklearn.linear_model import Ridge, Lasso\n",
    "from sklearn.decomposition import PCA\n",
    "from xgboost import XGBRegressor as xgbr\n",
    "from sklearn.metrics import mean_absolute_error, mean_squared_error, make_scorer\n",
    "%matplotlib inline"
   ]
  },
  {
   "cell_type": "markdown",
   "metadata": {},
   "source": [
    "# Data Cleaning"
   ]
  },
  {
   "cell_type": "code",
   "execution_count": 2,
   "metadata": {},
   "outputs": [
    {
     "data": {
      "text/html": [
       "<div>\n",
       "<style scoped>\n",
       "    .dataframe tbody tr th:only-of-type {\n",
       "        vertical-align: middle;\n",
       "    }\n",
       "\n",
       "    .dataframe tbody tr th {\n",
       "        vertical-align: top;\n",
       "    }\n",
       "\n",
       "    .dataframe thead th {\n",
       "        text-align: right;\n",
       "    }\n",
       "</style>\n",
       "<table border=\"1\" class=\"dataframe\">\n",
       "  <thead>\n",
       "    <tr style=\"text-align: right;\">\n",
       "      <th></th>\n",
       "      <th>brandName</th>\n",
       "      <th>os</th>\n",
       "      <th>osVersion</th>\n",
       "      <th>screenSizeInInches</th>\n",
       "      <th>displayType</th>\n",
       "      <th>resolutionInPixels</th>\n",
       "      <th>pixelDensity</th>\n",
       "      <th>rearCamera</th>\n",
       "      <th>frontCamera</th>\n",
       "      <th>batteryCapacity</th>\n",
       "      <th>fastCharging</th>\n",
       "      <th>cpuSpeed</th>\n",
       "      <th>processorCores</th>\n",
       "      <th>ramCapacity</th>\n",
       "      <th>gpuType</th>\n",
       "      <th>weight</th>\n",
       "      <th>internalStorage</th>\n",
       "      <th>externalStorage</th>\n",
       "      <th>yearOfRelease</th>\n",
       "      <th>price</th>\n",
       "    </tr>\n",
       "  </thead>\n",
       "  <tbody>\n",
       "    <tr>\n",
       "      <th>0</th>\n",
       "      <td>OnePlus</td>\n",
       "      <td>Android</td>\n",
       "      <td>10</td>\n",
       "      <td>6.44</td>\n",
       "      <td>NaN</td>\n",
       "      <td>1080 x 2400</td>\n",
       "      <td>402</td>\n",
       "      <td>48 + 8 + 5 + 2</td>\n",
       "      <td>32</td>\n",
       "      <td>4115.0</td>\n",
       "      <td>Yes</td>\n",
       "      <td>1x2.4 GHz, 1x2.2 GHz, 6x1.8 GHz</td>\n",
       "      <td>Octa-core</td>\n",
       "      <td>8 GB</td>\n",
       "      <td>Adreno 620</td>\n",
       "      <td>184</td>\n",
       "      <td>128 GB</td>\n",
       "      <td>NaN</td>\n",
       "      <td>2020</td>\n",
       "      <td>27999</td>\n",
       "    </tr>\n",
       "    <tr>\n",
       "      <th>1</th>\n",
       "      <td>OnePlus</td>\n",
       "      <td>Android</td>\n",
       "      <td>10</td>\n",
       "      <td>6.44</td>\n",
       "      <td>NaN</td>\n",
       "      <td>1080 x 2400</td>\n",
       "      <td>402</td>\n",
       "      <td>48 + 8 + 5 + 2</td>\n",
       "      <td>32</td>\n",
       "      <td>4115.0</td>\n",
       "      <td>Yes</td>\n",
       "      <td>1x2.4 GHz, 1x2.2 GHz, 6x1.8 GHz</td>\n",
       "      <td>Octa-core</td>\n",
       "      <td>6 GB</td>\n",
       "      <td>Adreno 620</td>\n",
       "      <td>184</td>\n",
       "      <td>64GB</td>\n",
       "      <td>NaN</td>\n",
       "      <td>2020</td>\n",
       "      <td>24999</td>\n",
       "    </tr>\n",
       "    <tr>\n",
       "      <th>2</th>\n",
       "      <td>OnePlus</td>\n",
       "      <td>Android</td>\n",
       "      <td>10</td>\n",
       "      <td>6.44</td>\n",
       "      <td>NaN</td>\n",
       "      <td>1080 x 2400</td>\n",
       "      <td>402</td>\n",
       "      <td>48 + 8 + 5 + 2</td>\n",
       "      <td>32</td>\n",
       "      <td>4115.0</td>\n",
       "      <td>Yes</td>\n",
       "      <td>1x2.4 GHz, 1x2.2 GHz, 6x1.8 GHz</td>\n",
       "      <td>Octa-core</td>\n",
       "      <td>12 GB</td>\n",
       "      <td>Adreno 620</td>\n",
       "      <td>184</td>\n",
       "      <td>256GB</td>\n",
       "      <td>NaN</td>\n",
       "      <td>2020</td>\n",
       "      <td>29999</td>\n",
       "    </tr>\n",
       "    <tr>\n",
       "      <th>3</th>\n",
       "      <td>Redmi</td>\n",
       "      <td>Android</td>\n",
       "      <td>10</td>\n",
       "      <td>6.67</td>\n",
       "      <td>NaN</td>\n",
       "      <td>1080 x 2400</td>\n",
       "      <td>395</td>\n",
       "      <td>48 + 8 + 5 + 2</td>\n",
       "      <td>16</td>\n",
       "      <td>5020.0</td>\n",
       "      <td>Yes</td>\n",
       "      <td>2x2.3 GHz, 6x1.8 GHz</td>\n",
       "      <td>Octa-core</td>\n",
       "      <td>6 GB</td>\n",
       "      <td>Adreno 618</td>\n",
       "      <td>209</td>\n",
       "      <td>128 GB</td>\n",
       "      <td>NaN</td>\n",
       "      <td>2020</td>\n",
       "      <td>16999</td>\n",
       "    </tr>\n",
       "    <tr>\n",
       "      <th>4</th>\n",
       "      <td>Redmi</td>\n",
       "      <td>Android</td>\n",
       "      <td>10</td>\n",
       "      <td>6.67</td>\n",
       "      <td>NaN</td>\n",
       "      <td>1080 x 2400</td>\n",
       "      <td>395</td>\n",
       "      <td>48 + 8 + 5 + 2</td>\n",
       "      <td>16</td>\n",
       "      <td>5020.0</td>\n",
       "      <td>Yes</td>\n",
       "      <td>2x2.3 GHz, 6x1.8 GHz</td>\n",
       "      <td>Octa-core</td>\n",
       "      <td>6 GB</td>\n",
       "      <td>Adreno 618</td>\n",
       "      <td>209</td>\n",
       "      <td>64 GB</td>\n",
       "      <td>NaN</td>\n",
       "      <td>2020</td>\n",
       "      <td>13999</td>\n",
       "    </tr>\n",
       "  </tbody>\n",
       "</table>\n",
       "</div>"
      ],
      "text/plain": [
       "  brandName       os osVersion screenSizeInInches displayType  \\\n",
       "0   OnePlus  Android        10               6.44         NaN   \n",
       "1   OnePlus  Android        10               6.44         NaN   \n",
       "2   OnePlus  Android        10               6.44         NaN   \n",
       "3     Redmi  Android        10               6.67         NaN   \n",
       "4     Redmi  Android        10               6.67         NaN   \n",
       "\n",
       "  resolutionInPixels pixelDensity      rearCamera frontCamera  \\\n",
       "0        1080 x 2400          402  48 + 8 + 5 + 2          32   \n",
       "1        1080 x 2400          402  48 + 8 + 5 + 2          32   \n",
       "2        1080 x 2400          402  48 + 8 + 5 + 2          32   \n",
       "3        1080 x 2400          395  48 + 8 + 5 + 2          16   \n",
       "4        1080 x 2400          395  48 + 8 + 5 + 2          16   \n",
       "\n",
       "   batteryCapacity fastCharging                         cpuSpeed  \\\n",
       "0           4115.0          Yes  1x2.4 GHz, 1x2.2 GHz, 6x1.8 GHz   \n",
       "1           4115.0          Yes  1x2.4 GHz, 1x2.2 GHz, 6x1.8 GHz   \n",
       "2           4115.0          Yes  1x2.4 GHz, 1x2.2 GHz, 6x1.8 GHz   \n",
       "3           5020.0          Yes             2x2.3 GHz, 6x1.8 GHz   \n",
       "4           5020.0          Yes             2x2.3 GHz, 6x1.8 GHz   \n",
       "\n",
       "  processorCores ramCapacity     gpuType weight internalStorage  \\\n",
       "0      Octa-core        8 GB  Adreno 620    184          128 GB   \n",
       "1      Octa-core        6 GB  Adreno 620    184            64GB   \n",
       "2      Octa-core       12 GB  Adreno 620    184           256GB   \n",
       "3      Octa-core        6 GB  Adreno 618    209          128 GB   \n",
       "4      Octa-core        6 GB  Adreno 618    209           64 GB   \n",
       "\n",
       "  externalStorage  yearOfRelease  price  \n",
       "0             NaN           2020  27999  \n",
       "1             NaN           2020  24999  \n",
       "2             NaN           2020  29999  \n",
       "3             NaN           2020  16999  \n",
       "4             NaN           2020  13999  "
      ]
     },
     "execution_count": 2,
     "metadata": {},
     "output_type": "execute_result"
    }
   ],
   "source": [
    "# Exported the database table created as csv and read as pandas dataframe\n",
    "\n",
    "mobile_df = pd.read_csv('MobileData.csv')\n",
    "mobile_df.head()"
   ]
  },
  {
   "cell_type": "code",
   "execution_count": 3,
   "metadata": {},
   "outputs": [
    {
     "name": "stdout",
     "output_type": "stream",
     "text": [
      "<class 'pandas.core.frame.DataFrame'>\n",
      "RangeIndex: 1366 entries, 0 to 1365\n",
      "Data columns (total 20 columns):\n",
      " #   Column              Non-Null Count  Dtype  \n",
      "---  ------              --------------  -----  \n",
      " 0   brandName           1366 non-null   object \n",
      " 1   os                  1353 non-null   object \n",
      " 2   osVersion           1338 non-null   object \n",
      " 3   screenSizeInInches  1364 non-null   object \n",
      " 4   displayType         1160 non-null   object \n",
      " 5   resolutionInPixels  1303 non-null   object \n",
      " 6   pixelDensity        1075 non-null   object \n",
      " 7   rearCamera          1357 non-null   object \n",
      " 8   frontCamera         1334 non-null   object \n",
      " 9   batteryCapacity     1361 non-null   float64\n",
      " 10  fastCharging        692 non-null    object \n",
      " 11  cpuSpeed            1140 non-null   object \n",
      " 12  processorCores      1283 non-null   object \n",
      " 13  ramCapacity         1358 non-null   object \n",
      " 14  gpuType             985 non-null    object \n",
      " 15  weight              1112 non-null   object \n",
      " 16  internalStorage     1361 non-null   object \n",
      " 17  externalStorage     821 non-null    object \n",
      " 18  yearOfRelease       1366 non-null   int64  \n",
      " 19  price               1366 non-null   int64  \n",
      "dtypes: float64(1), int64(2), object(17)\n",
      "memory usage: 213.6+ KB\n"
     ]
    }
   ],
   "source": [
    "# Getting the info of the data to chank for null values and datatypes\n",
    "\n",
    "mobile_df.info()"
   ]
  },
  {
   "cell_type": "code",
   "execution_count": 4,
   "metadata": {},
   "outputs": [],
   "source": [
    "mobile_df.drop_duplicates(inplace=True)"
   ]
  },
  {
   "cell_type": "code",
   "execution_count": 5,
   "metadata": {},
   "outputs": [],
   "source": [
    "# Filling all NaN values with np.nan\n",
    "\n",
    "mobile_df = mobile_df.fillna(np.nan)"
   ]
  },
  {
   "cell_type": "code",
   "execution_count": 6,
   "metadata": {},
   "outputs": [],
   "source": [
    "# Dropping all rows where brand name is not present \n",
    "\n",
    "mobile_df = mobile_df.loc[mobile_df.brandName!=0]"
   ]
  },
  {
   "cell_type": "code",
   "execution_count": 7,
   "metadata": {},
   "outputs": [],
   "source": [
    "# Correct misspelled word and add in the same category level\n",
    "# Keep the popular mobile phone brand in the category level and code all other levels as 'Others'\n",
    "\n",
    "def get_binned_values(col_dict, colName, code_others):\n",
    "    \n",
    "    popular_values = [item for item in col_dict.keys()]\n",
    "\n",
    "    for key, value in col_dict.items():\n",
    "        mobile_df.loc[mobile_df[colName].str.lower().isin(value), colName] = key\n",
    "    \n",
    "    if code_others:\n",
    "        mobile_df.loc[~mobile_df[colName].isin(popular_values), colName] = 'Others'"
   ]
  },
  {
   "cell_type": "code",
   "execution_count": 8,
   "metadata": {},
   "outputs": [],
   "source": [
    "# Extract only the numerical values from a string\n",
    "\n",
    "def get_numerical_value(colName, pattern):\n",
    "    mobile_df[colName] = mobile_df[colName].apply(lambda x: float(re.findall(pattern, str(x))[0]) \n",
    "                                                  if len(re.findall(pattern, str(x))) != 0 else 0.0)"
   ]
  },
  {
   "cell_type": "code",
   "execution_count": 9,
   "metadata": {},
   "outputs": [],
   "source": [
    "# As TB,GB,MB and KB is attatched to some values, removing GB from the values.\n",
    "# Some value are in TB, MB and KB, converting to GB values.\n",
    "\n",
    "def convert_to_gb(series):\n",
    "    external_storage = []\n",
    "    for val in series:\n",
    "        converted_value = re.findall('\\d+', str(val))\n",
    "        if val == 0 or str(val).lower() == 'no' or len(converted_value)==0: \n",
    "            external_storage.append(0)\n",
    "        elif 'TB' in str(val):\n",
    "            external_storage.append(round(int(converted_value[0])*1000,2))\n",
    "        elif 'MB' in str(val):\n",
    "            external_storage.append(round(int(converted_value[0])*0.001,2))\n",
    "        elif 'KB' in str(val):\n",
    "            external_storage.append(round(int(converted_value[0])*0.000001,2))\n",
    "        else:\n",
    "            external_storage.append(int(re.findall('\\d+', str(val))[0]))\n",
    "    external_storage = pd.DataFrame({'storage_GB':external_storage})\n",
    "    return external_storage"
   ]
  },
  {
   "cell_type": "code",
   "execution_count": 10,
   "metadata": {},
   "outputs": [],
   "source": [
    "# add all the pixel values present in the rear and front camera\n",
    "\n",
    "def add_pixels(colName):\n",
    "    mobile_df[colName] = mobile_df[colName].apply(lambda x: re.findall('\\d*[.]?\\d+', str(x)))\n",
    "    mobile_df[colName] = mobile_df[colName].apply(lambda x: round(sum([float(elem) for elem in x]),2) \n",
    "                                                        if len(x) > 0 else np.nan)"
   ]
  },
  {
   "cell_type": "code",
   "execution_count": 11,
   "metadata": {},
   "outputs": [
    {
     "data": {
      "text/plain": [
       "array(['OnePlus', 'Redmi', 'Samsung', 'Realme', 'POCO', 'Oneplus',\n",
       "       'REALME', 'VIVO', 'Vivo', 'Oppo', 'Apple', 'Poco', 'Motorola',\n",
       "       'Infinix', 'Xiaomi', 'Realme C2', 'iQOO', 'Asus', 'Nokia', 'Moto',\n",
       "       'samsung', 'Tecno', 'Huawei', 'vivo', 'Itel', 'Jio', 'Micromax',\n",
       "       'Honor', 'VIivo', 'Black Shark', 'Lenovo', 'ZTE', 'Google', 'iQoo',\n",
       "       'LG', 'Coolpad', 'Hauwei', 'Nubia', 'Lava', 'Gionee', '10.or',\n",
       "       'BlackBerry', 'Blackberry', 'Unihertz', 'Razer', 'Alcatel', 'vIVO',\n",
       "       'HTC', 'IQOO', 'Techno', 'Meizu', 'Mobiistar', 'Xolo', 'Sharp',\n",
       "       'Sony', 'Panasonic', 'Comio', 'InFocus', 'Cat', 'Tambo', 'Kult',\n",
       "       'Intex', 'Detel', 'Homtom', 'iVoomi', 'Celkon', 'Blu', 'Trio',\n",
       "       'Karbonn', 'Jivi', 'UR MOBILE', 'Centric', 'Ziox', 'Smartron',\n",
       "       'Innelo', 'TP Link', 'Ulefone', 'Infocus', 'iVooMi', 'Swipe',\n",
       "       'Gfive', 'Lenovo S5 Pro GT', 'Aqua'], dtype=object)"
      ]
     },
     "execution_count": 11,
     "metadata": {},
     "output_type": "execute_result"
    }
   ],
   "source": [
    "mobile_df.brandName.unique()"
   ]
  },
  {
   "cell_type": "code",
   "execution_count": 12,
   "metadata": {},
   "outputs": [],
   "source": [
    "# Many brand values are duplicated because of captilization of letters. Binning those as one single brand.\n",
    "\n",
    "# Considering only major market players and binning all other brands as 'Others'\n",
    "\n",
    "brands_dict = {'OnePlus': ['oneplus'], 'Redmi': ['redmi'], 'Samsung': ['samsung'], 'Realme': ['realme', 'realme c2'], \n",
    "          'Poco': ['poco'], 'Nokia': ['nokia'], 'Vivo': ['vivo', 'viivo'], 'Oppo': ['oppo'], 'Apple': ['apple'],\n",
    "          'Motorola': ['motorola', 'moto'], 'Xiaomi': ['xiaomi'], 'Asus': ['asus'], 'Huawei': ['huawei', 'hauwei'],\n",
    "          'Honor': ['honor'], 'Google': ['google'], 'HTC': ['htc'], 'Lenovo':['lenovo', 'lenovo s5 pro gt']}\n",
    "\n",
    "get_binned_values(col_dict=brands_dict, colName='brandName', code_others=True)"
   ]
  },
  {
   "cell_type": "code",
   "execution_count": 13,
   "metadata": {},
   "outputs": [
    {
     "data": {
      "text/plain": [
       "array(['Android', 'iOS', 'Android One', 'KAI', nan, 'Android Go',\n",
       "       'Android Pie', 'Andoid'], dtype=object)"
      ]
     },
     "execution_count": 13,
     "metadata": {},
     "output_type": "execute_result"
    }
   ],
   "source": [
    "mobile_df.os.unique()"
   ]
  },
  {
   "cell_type": "code",
   "execution_count": 14,
   "metadata": {},
   "outputs": [],
   "source": [
    "# Many OS names are misspelled.\n",
    "\n",
    "# Android and iOS are considered as major OS options and all other os options are marked as others\n",
    "\n",
    "os_dict = {'Android': ['android', 'android one', 'android go', 'android pie', 'andoid'], 'iOS': ['ios']}\n",
    "\n",
    "get_binned_values(col_dict=os_dict, colName='os', code_others=True)"
   ]
  },
  {
   "cell_type": "code",
   "execution_count": 15,
   "metadata": {},
   "outputs": [
    {
     "data": {
      "text/plain": [
       "array(['10', '9', '13', '8.1', '9.0', 'Android 9.0', nan, '8', '12',\n",
       "       'v9.0', '7.1', '8.0', 'iOS', '8.1 Oreo Go', '7.0',\n",
       "       'Oreo (Go edition)', '8.2', 'Android 9', '6.0', '6.0.1', 'v10 (Q)',\n",
       "       '8.0 Oreo Go', '7', 'Android 9 Pie', '4.4'], dtype=object)"
      ]
     },
     "execution_count": 15,
     "metadata": {},
     "output_type": "execute_result"
    }
   ],
   "source": [
    "mobile_df.osVersion.unique()"
   ]
  },
  {
   "cell_type": "code",
   "execution_count": 16,
   "metadata": {},
   "outputs": [],
   "source": [
    "# extracting only the numerical value and removing any text attached to the value\n",
    "\n",
    "get_numerical_value(colName='osVersion', pattern='^\\d*[.]?\\d')"
   ]
  },
  {
   "cell_type": "code",
   "execution_count": 17,
   "metadata": {},
   "outputs": [
    {
     "data": {
      "text/plain": [
       "array(['6.44', '6.67', '6.5', '6.3', '6.39', '6.52', '6.4', '6.53',\n",
       "       '6.50', '6.78', '6.65', '6.35', '6.40', '5.8', '6.7', '6.6',\n",
       "       '6.22', '6.2', '5.45', '6.1', '6.38', '6.59', '6.01', '5', '6.18',\n",
       "       '6.55', '6.51', '5.5', '6', '6.41', '2.45', '6.23', '6.0', '6.26',\n",
       "       '6.14', '6.8', '6.57', '6.47', '5.99', '6.70', '5.26', '6.56',\n",
       "       '5.84', '2.4', '5.6', '5.71', '4.7', '5.0', '4.5', '5.7', '6.21',\n",
       "       '6.28', '6.81', '6.19', '5.9', '6.42', '6.95', '5.2', '6.66',\n",
       "       '7.3', '5.93', '1.77', '6.15', '6.9', '5.86', '6.43', '5.65',\n",
       "       '6.08', '7.8', '1.80', '6.20', '1.8', '6.09', '6.89', '5.34',\n",
       "       '1.44', '4', nan, '4.95', '2/.8', '5.67', '5.3'], dtype=object)"
      ]
     },
     "execution_count": 17,
     "metadata": {},
     "output_type": "execute_result"
    }
   ],
   "source": [
    "mobile_df.screenSizeInInches.unique()"
   ]
  },
  {
   "cell_type": "code",
   "execution_count": 18,
   "metadata": {},
   "outputs": [],
   "source": [
    "# removing the row with invalid data\n",
    "\n",
    "mobile_df = mobile_df[~(mobile_df.screenSizeInInches=='2/.8')]"
   ]
  },
  {
   "cell_type": "code",
   "execution_count": 19,
   "metadata": {},
   "outputs": [
    {
     "data": {
      "text/plain": [
       "array([nan, 'IPS', 'Super AMOLED', 'FHD Plus', 'OLED', 'Dynamic AMOLED',\n",
       "       'Full HD', 'IPS LCD', 'HD Plus', 'HD+', 'HD', 'FHD+',\n",
       "       'Fluid AMOLED', 'AMOLED', 'TFT', 'LTPS IPS LCD', 'FHD',\n",
       "       'Optic AMOLED', 'QHD +', 'Super AMOLED capacitive',\n",
       "       'Super AMOLED Capacitive with Multitouch',\n",
       "       'IPS LCD capacitive touchscreen', 'LCD', 'QHFD',\n",
       "       'AMOLED capacitive', 'Full HD LTPS IPS', 'QXGA+ Dynamic AMOLED',\n",
       "       'P-OLED', 'Capacitive', 'Foldable Dynamic AMOLED',\n",
       "       'TFT LCD display', 'IGZO IPS LCD', 'Super Amoled',\n",
       "       'Full view display', 'ips', 'FWVGA+', 'QHD IPS', 'FWVGA',\n",
       "       'Full HD Super AMOLED Capacitive touch', 'HD IPS', 'QHD', 'QVGA',\n",
       "       'Super LCD', 'QQVGA',\n",
       "       'Full HD Super AMOLED Capacitive Touchscreen',\n",
       "       'HD+ Incell Full View', 'TFT LCD', 'HD Infinity Edge Display',\n",
       "       'Capacitive Touchscreen', 'WVGA'], dtype=object)"
      ]
     },
     "execution_count": 19,
     "metadata": {},
     "output_type": "execute_result"
    }
   ],
   "source": [
    "mobile_df.displayType.unique()"
   ]
  },
  {
   "cell_type": "code",
   "execution_count": 20,
   "metadata": {},
   "outputs": [],
   "source": [
    "display_type_series = []\n",
    "for value in mobile_df.displayType:\n",
    "    if type(value)==float:\n",
    "        display_type_series.append(np.nan)\n",
    "    elif 'AMOLED' in value.upper():\n",
    "        display_type_series.append('AMOLED')\n",
    "    elif 'OLED' in value.upper():\n",
    "        display_type_series.append('OLED')\n",
    "    elif 'QHD' in value.upper():\n",
    "        display_type_series.append('QHD')\n",
    "    elif ('FHD' in value.upper()) or ('FULL HD' in value.upper()):\n",
    "        display_type_series.append('FHD')\n",
    "    elif 'HD' in value.upper():\n",
    "        display_type_series.append('HD')\n",
    "    elif 'LCD' in value.upper():\n",
    "        display_type_series.append('LCD')\n",
    "    elif 'IPS' in value.upper():\n",
    "        display_type_series.append('IPS')\n",
    "    else:\n",
    "        display_type_series.append('Others')\n",
    "        \n",
    "mobile_df['display_type'] = pd.Series(display_type_series, index=mobile_df.index)\n",
    "mobile_df.drop(['displayType'], axis=1, inplace=True)"
   ]
  },
  {
   "cell_type": "code",
   "execution_count": 21,
   "metadata": {},
   "outputs": [],
   "source": [
    "pixel_width = []\n",
    "pixel_height = []\n",
    "for val in mobile_df.resolutionInPixels:\n",
    "    pixels = re.findall('\\d*[.]?\\d+', str(val))\n",
    "    if len(pixels) > 1:\n",
    "        pixel_width.append(pixels[0])\n",
    "        pixel_height.append(pixels[1])\n",
    "    else:\n",
    "        pixel_width.append(np.nan)\n",
    "        pixel_height.append(np.nan)\n",
    "        \n",
    "resolution_df = pd.DataFrame({'pixel_width':pixel_width, 'pixel_height':pixel_height}, index=mobile_df.index)"
   ]
  },
  {
   "cell_type": "code",
   "execution_count": 22,
   "metadata": {},
   "outputs": [],
   "source": [
    "# Dropping \n",
    "\n",
    "mobile_df.drop(['resolutionInPixels'], axis=1, inplace=True)\n",
    "mobile_df = mobile_df.join(resolution_df)"
   ]
  },
  {
   "cell_type": "code",
   "execution_count": 23,
   "metadata": {},
   "outputs": [],
   "source": [
    "mobile_df.drop(['pixelDensity'], axis=1, inplace=True)"
   ]
  },
  {
   "cell_type": "code",
   "execution_count": 24,
   "metadata": {},
   "outputs": [],
   "source": [
    "# adding all pixel values offered by each rear camera  \n",
    "\n",
    "add_pixels(colName='rearCamera')"
   ]
  },
  {
   "cell_type": "code",
   "execution_count": 25,
   "metadata": {},
   "outputs": [],
   "source": [
    "# adding all pixel values offered by each front camera \n",
    "\n",
    "add_pixels(colName='frontCamera')"
   ]
  },
  {
   "cell_type": "code",
   "execution_count": 26,
   "metadata": {},
   "outputs": [
    {
     "data": {
      "text/plain": [
       "array(['Yes', nan, 'USB', 'No', 'na'], dtype=object)"
      ]
     },
     "execution_count": 26,
     "metadata": {},
     "output_type": "execute_result"
    }
   ],
   "source": [
    "mobile_df.fastCharging.unique()"
   ]
  },
  {
   "cell_type": "code",
   "execution_count": 27,
   "metadata": {},
   "outputs": [],
   "source": [
    "# Replacing no for all values other than Yes\n",
    "\n",
    "fast_charging_dict = {'No': ['usb', 'no', 'na']}\n",
    "\n",
    "get_binned_values(col_dict=fast_charging_dict, colName='fastCharging', code_others=False)\n",
    "\n",
    "mobile_df.fastCharging = mobile_df.fastCharging.fillna('No')"
   ]
  },
  {
   "cell_type": "code",
   "execution_count": 28,
   "metadata": {},
   "outputs": [],
   "source": [
    "# calculating entire cpu speed by combining all speed offered by each core of the cpu\n",
    "\n",
    "cpu_speed = []\n",
    "for item in mobile_df.cpuSpeed:\n",
    "    temp = re.findall('\\d*[x]\\d*[.]?\\d+|\\d*[.]?\\d+', str(item).lower())\n",
    "    x = []\n",
    "    for elem in temp:\n",
    "        x1 = elem.split('x')\n",
    "        x.append(float(x1[0])*float(x1[1]) if len(x1)>1 else float(x1[0]))\n",
    "    if 'ghz' in str(item).lower():\n",
    "        cpu_speed.append(round(sum(x),2))\n",
    "    elif 'mhz' in str(item).lower():\n",
    "        cpu_speed.append(round(sum(x)*0.001,2))\n",
    "    else:\n",
    "        cpu_speed.append(np.nan)\n",
    "cpuSpeed = pd.DataFrame({'speed':cpu_speed})\n",
    "\n",
    "mobile_df.cpuSpeed = cpuSpeed['speed'].values"
   ]
  },
  {
   "cell_type": "code",
   "execution_count": 29,
   "metadata": {},
   "outputs": [
    {
     "data": {
      "text/plain": [
       "array(['Octa-core', 'octa', '1.8GHz octa', 'Octa', 'Hexa-core', nan,\n",
       "       'OCTA', 'Quad', 'Hexa Core', 'octa-core', 'Dual', 'hexa',\n",
       "       'Octa Core', 'Quad-core', 'quad',\n",
       "       '1x2.84 GHz, 3x2.42 GHz,4x1.8 GHz', 'Octa core', 'quad-core'],\n",
       "      dtype=object)"
      ]
     },
     "execution_count": 29,
     "metadata": {},
     "output_type": "execute_result"
    }
   ],
   "source": [
    "mobile_df.processorCores.unique()"
   ]
  },
  {
   "cell_type": "code",
   "execution_count": 30,
   "metadata": {},
   "outputs": [],
   "source": [
    "# Binning misspelled words in to single processor types\n",
    "\n",
    "processor_cores_dict = {\n",
    "    'Octa': ['octa-core', 'octa', '1.8ghz octa', 'octa-core', 'octa core', '1x2.84 ghz, 3x2.42 ghz,4x1.8 ghz'], \n",
    "    'Hexa': ['hexa-core', 'hexa', 'hexa core'],\n",
    "    'Quad': ['quad', 'quad-core'],\n",
    "    'Dual': ['dual']}\n",
    "\n",
    "get_binned_values(col_dict=processor_cores_dict, colName='processorCores', code_others=False)\n",
    "\n",
    "mobile_df.processorCores = mobile_df.processorCores.replace(to_replace='No', value=np.nan)"
   ]
  },
  {
   "cell_type": "code",
   "execution_count": 31,
   "metadata": {},
   "outputs": [
    {
     "data": {
      "text/plain": [
       "array(['8 GB', '6 GB', '12 GB', '4 GB', '4GB', '3GB', '3 GB', '6GB',\n",
       "       '2 GB', '2GB', '8GB', '12GB', '1GB', '512 MB', '8 MB', '1 GB',\n",
       "       '10 GB', '4 MB', nan, '16 MB', '3 & 4 GB', '4 & 6 GB', '8',\n",
       "       '1.5 GB', '32 MB', '4', '256 MB', '2 & 3 GB'], dtype=object)"
      ]
     },
     "execution_count": 31,
     "metadata": {},
     "output_type": "execute_result"
    }
   ],
   "source": [
    "mobile_df.ramCapacity.unique()"
   ]
  },
  {
   "cell_type": "code",
   "execution_count": 32,
   "metadata": {},
   "outputs": [],
   "source": [
    "#Getting only numeric values. Removing text like GB, MB attached to it and also converting all values in GB.\n",
    "\n",
    "mobile_df.ramCapacity = convert_to_gb(series=mobile_df.ramCapacity).values"
   ]
  },
  {
   "cell_type": "code",
   "execution_count": 33,
   "metadata": {},
   "outputs": [],
   "source": [
    "# Dropping gpu type as large number different gpu types \n",
    "# and also binning them don't make sense because each gpu is unique in ability\n",
    "\n",
    "mobile_df.drop(['gpuType'], axis=1, inplace=True)"
   ]
  },
  {
   "cell_type": "code",
   "execution_count": 34,
   "metadata": {},
   "outputs": [],
   "source": [
    "# Getting only numerical values. Removing text like 'g' attached to it\n",
    "\n",
    "get_numerical_value(colName='weight', pattern='^\\d*[.]?\\d')"
   ]
  },
  {
   "cell_type": "code",
   "execution_count": 35,
   "metadata": {},
   "outputs": [],
   "source": [
    "# Getting only numeric values. Removing text like GB, MB attached to it and also converting all values in GB.\n",
    "\n",
    "mobile_df.internalStorage = convert_to_gb(series=mobile_df.internalStorage).values"
   ]
  },
  {
   "cell_type": "code",
   "execution_count": 36,
   "metadata": {},
   "outputs": [],
   "source": [
    "# Getting only numeric values. Removing text like GB, MB attached to it and also converting all values in GB.\n",
    "\n",
    "mobile_df.externalStorage = convert_to_gb(series=mobile_df.externalStorage).values"
   ]
  },
  {
   "cell_type": "code",
   "execution_count": 37,
   "metadata": {},
   "outputs": [],
   "source": [
    "mobile_df.yearOfRelease = mobile_df.yearOfRelease.astype(object)"
   ]
  },
  {
   "cell_type": "markdown",
   "metadata": {},
   "source": [
    "# Exploratory Data Analysis"
   ]
  },
  {
   "cell_type": "code",
   "execution_count": 38,
   "metadata": {},
   "outputs": [
    {
     "data": {
      "text/html": [
       "<div>\n",
       "<style scoped>\n",
       "    .dataframe tbody tr th:only-of-type {\n",
       "        vertical-align: middle;\n",
       "    }\n",
       "\n",
       "    .dataframe tbody tr th {\n",
       "        vertical-align: top;\n",
       "    }\n",
       "\n",
       "    .dataframe thead th {\n",
       "        text-align: right;\n",
       "    }\n",
       "</style>\n",
       "<table border=\"1\" class=\"dataframe\">\n",
       "  <thead>\n",
       "    <tr style=\"text-align: right;\">\n",
       "      <th></th>\n",
       "      <th>osVersion</th>\n",
       "      <th>rearCamera</th>\n",
       "      <th>frontCamera</th>\n",
       "      <th>batteryCapacity</th>\n",
       "      <th>cpuSpeed</th>\n",
       "      <th>ramCapacity</th>\n",
       "      <th>weight</th>\n",
       "      <th>internalStorage</th>\n",
       "      <th>externalStorage</th>\n",
       "      <th>price</th>\n",
       "    </tr>\n",
       "  </thead>\n",
       "  <tbody>\n",
       "    <tr>\n",
       "      <th>count</th>\n",
       "      <td>835.000000</td>\n",
       "      <td>826.000000</td>\n",
       "      <td>808.000000</td>\n",
       "      <td>832.000000</td>\n",
       "      <td>660.000000</td>\n",
       "      <td>835.000000</td>\n",
       "      <td>835.000000</td>\n",
       "      <td>835.000000</td>\n",
       "      <td>835.000000</td>\n",
       "      <td>835.000000</td>\n",
       "    </tr>\n",
       "    <tr>\n",
       "      <th>mean</th>\n",
       "      <td>8.241437</td>\n",
       "      <td>31.316707</td>\n",
       "      <td>14.091089</td>\n",
       "      <td>3729.084135</td>\n",
       "      <td>4.303439</td>\n",
       "      <td>4.495964</td>\n",
       "      <td>138.946707</td>\n",
       "      <td>85.606132</td>\n",
       "      <td>183.358084</td>\n",
       "      <td>21102.552096</td>\n",
       "    </tr>\n",
       "    <tr>\n",
       "      <th>std</th>\n",
       "      <td>2.087581</td>\n",
       "      <td>26.425221</td>\n",
       "      <td>8.953056</td>\n",
       "      <td>866.822114</td>\n",
       "      <td>5.928795</td>\n",
       "      <td>2.551626</td>\n",
       "      <td>155.683225</td>\n",
       "      <td>84.883630</td>\n",
       "      <td>224.025285</td>\n",
       "      <td>20897.514169</td>\n",
       "    </tr>\n",
       "    <tr>\n",
       "      <th>min</th>\n",
       "      <td>0.000000</td>\n",
       "      <td>0.300000</td>\n",
       "      <td>1.300000</td>\n",
       "      <td>650.000000</td>\n",
       "      <td>1.000000</td>\n",
       "      <td>0.000000</td>\n",
       "      <td>0.000000</td>\n",
       "      <td>0.000000</td>\n",
       "      <td>0.000000</td>\n",
       "      <td>399.000000</td>\n",
       "    </tr>\n",
       "    <tr>\n",
       "      <th>25%</th>\n",
       "      <td>8.000000</td>\n",
       "      <td>13.000000</td>\n",
       "      <td>8.000000</td>\n",
       "      <td>3060.000000</td>\n",
       "      <td>1.800000</td>\n",
       "      <td>3.000000</td>\n",
       "      <td>130.100000</td>\n",
       "      <td>32.000000</td>\n",
       "      <td>0.000000</td>\n",
       "      <td>8990.000000</td>\n",
       "    </tr>\n",
       "    <tr>\n",
       "      <th>50%</th>\n",
       "      <td>8.100000</td>\n",
       "      <td>18.000000</td>\n",
       "      <td>13.000000</td>\n",
       "      <td>4000.000000</td>\n",
       "      <td>2.000000</td>\n",
       "      <td>4.000000</td>\n",
       "      <td>168.000000</td>\n",
       "      <td>64.000000</td>\n",
       "      <td>128.000000</td>\n",
       "      <td>13999.000000</td>\n",
       "    </tr>\n",
       "    <tr>\n",
       "      <th>75%</th>\n",
       "      <td>9.000000</td>\n",
       "      <td>46.500000</td>\n",
       "      <td>18.000000</td>\n",
       "      <td>4066.250000</td>\n",
       "      <td>2.700000</td>\n",
       "      <td>6.000000</td>\n",
       "      <td>186.350000</td>\n",
       "      <td>128.000000</td>\n",
       "      <td>256.000000</td>\n",
       "      <td>23199.500000</td>\n",
       "    </tr>\n",
       "    <tr>\n",
       "      <th>max</th>\n",
       "      <td>13.000000</td>\n",
       "      <td>168.300000</td>\n",
       "      <td>61.000000</td>\n",
       "      <td>6050.000000</td>\n",
       "      <td>80.800000</td>\n",
       "      <td>12.000000</td>\n",
       "      <td>4030.000000</td>\n",
       "      <td>512.000000</td>\n",
       "      <td>2000.000000</td>\n",
       "      <td>164999.000000</td>\n",
       "    </tr>\n",
       "  </tbody>\n",
       "</table>\n",
       "</div>"
      ],
      "text/plain": [
       "        osVersion  rearCamera  frontCamera  batteryCapacity    cpuSpeed  \\\n",
       "count  835.000000  826.000000   808.000000       832.000000  660.000000   \n",
       "mean     8.241437   31.316707    14.091089      3729.084135    4.303439   \n",
       "std      2.087581   26.425221     8.953056       866.822114    5.928795   \n",
       "min      0.000000    0.300000     1.300000       650.000000    1.000000   \n",
       "25%      8.000000   13.000000     8.000000      3060.000000    1.800000   \n",
       "50%      8.100000   18.000000    13.000000      4000.000000    2.000000   \n",
       "75%      9.000000   46.500000    18.000000      4066.250000    2.700000   \n",
       "max     13.000000  168.300000    61.000000      6050.000000   80.800000   \n",
       "\n",
       "       ramCapacity       weight  internalStorage  externalStorage  \\\n",
       "count   835.000000   835.000000       835.000000       835.000000   \n",
       "mean      4.495964   138.946707        85.606132       183.358084   \n",
       "std       2.551626   155.683225        84.883630       224.025285   \n",
       "min       0.000000     0.000000         0.000000         0.000000   \n",
       "25%       3.000000   130.100000        32.000000         0.000000   \n",
       "50%       4.000000   168.000000        64.000000       128.000000   \n",
       "75%       6.000000   186.350000       128.000000       256.000000   \n",
       "max      12.000000  4030.000000       512.000000      2000.000000   \n",
       "\n",
       "               price  \n",
       "count     835.000000  \n",
       "mean    21102.552096  \n",
       "std     20897.514169  \n",
       "min       399.000000  \n",
       "25%      8990.000000  \n",
       "50%     13999.000000  \n",
       "75%     23199.500000  \n",
       "max    164999.000000  "
      ]
     },
     "execution_count": 38,
     "metadata": {},
     "output_type": "execute_result"
    }
   ],
   "source": [
    "# describing numerical features\n",
    "\n",
    "mobile_df.describe()"
   ]
  },
  {
   "cell_type": "code",
   "execution_count": 39,
   "metadata": {},
   "outputs": [
    {
     "data": {
      "text/html": [
       "<div>\n",
       "<style scoped>\n",
       "    .dataframe tbody tr th:only-of-type {\n",
       "        vertical-align: middle;\n",
       "    }\n",
       "\n",
       "    .dataframe tbody tr th {\n",
       "        vertical-align: top;\n",
       "    }\n",
       "\n",
       "    .dataframe thead th {\n",
       "        text-align: right;\n",
       "    }\n",
       "</style>\n",
       "<table border=\"1\" class=\"dataframe\">\n",
       "  <thead>\n",
       "    <tr style=\"text-align: right;\">\n",
       "      <th></th>\n",
       "      <th>brandName</th>\n",
       "      <th>os</th>\n",
       "      <th>screenSizeInInches</th>\n",
       "      <th>fastCharging</th>\n",
       "      <th>processorCores</th>\n",
       "      <th>yearOfRelease</th>\n",
       "      <th>display_type</th>\n",
       "      <th>pixel_width</th>\n",
       "      <th>pixel_height</th>\n",
       "    </tr>\n",
       "  </thead>\n",
       "  <tbody>\n",
       "    <tr>\n",
       "      <th>count</th>\n",
       "      <td>835</td>\n",
       "      <td>835</td>\n",
       "      <td>833</td>\n",
       "      <td>835</td>\n",
       "      <td>780</td>\n",
       "      <td>835</td>\n",
       "      <td>696</td>\n",
       "      <td>783</td>\n",
       "      <td>783</td>\n",
       "    </tr>\n",
       "    <tr>\n",
       "      <th>unique</th>\n",
       "      <td>18</td>\n",
       "      <td>3</td>\n",
       "      <td>80</td>\n",
       "      <td>2</td>\n",
       "      <td>4</td>\n",
       "      <td>3</td>\n",
       "      <td>8</td>\n",
       "      <td>29</td>\n",
       "      <td>59</td>\n",
       "    </tr>\n",
       "    <tr>\n",
       "      <th>top</th>\n",
       "      <td>Others</td>\n",
       "      <td>Android</td>\n",
       "      <td>6.3</td>\n",
       "      <td>No</td>\n",
       "      <td>Octa</td>\n",
       "      <td>2018</td>\n",
       "      <td>LCD</td>\n",
       "      <td>1080</td>\n",
       "      <td>2340</td>\n",
       "    </tr>\n",
       "    <tr>\n",
       "      <th>freq</th>\n",
       "      <td>225</td>\n",
       "      <td>803</td>\n",
       "      <td>58</td>\n",
       "      <td>479</td>\n",
       "      <td>619</td>\n",
       "      <td>372</td>\n",
       "      <td>281</td>\n",
       "      <td>379</td>\n",
       "      <td>150</td>\n",
       "    </tr>\n",
       "  </tbody>\n",
       "</table>\n",
       "</div>"
      ],
      "text/plain": [
       "       brandName       os screenSizeInInches fastCharging processorCores  \\\n",
       "count        835      835                833          835            780   \n",
       "unique        18        3                 80            2              4   \n",
       "top       Others  Android                6.3           No           Octa   \n",
       "freq         225      803                 58          479            619   \n",
       "\n",
       "        yearOfRelease display_type pixel_width pixel_height  \n",
       "count             835          696         783          783  \n",
       "unique              3            8          29           59  \n",
       "top              2018          LCD        1080         2340  \n",
       "freq              372          281         379          150  "
      ]
     },
     "execution_count": 39,
     "metadata": {},
     "output_type": "execute_result"
    }
   ],
   "source": [
    "mobile_df.describe(include=object)"
   ]
  },
  {
   "cell_type": "code",
   "execution_count": 40,
   "metadata": {},
   "outputs": [
    {
     "data": {
      "text/plain": [
       "(835, 19)"
      ]
     },
     "execution_count": 40,
     "metadata": {},
     "output_type": "execute_result"
    }
   ],
   "source": [
    "mobile_df.shape"
   ]
  },
  {
   "cell_type": "code",
   "execution_count": 41,
   "metadata": {},
   "outputs": [],
   "source": [
    "# 0 value in this column represents missing values. replacing with nan values.\n",
    "\n",
    "for col in ['osVersion', 'screenSizeInInches', 'batteryCapacity', 'ramCapacity', 'weight', 'internalStorage']:\n",
    "    mobile_df[col] = mobile_df[col].apply(lambda x: np.nan if (x == 0 or x == 0.0) else x)"
   ]
  },
  {
   "cell_type": "code",
   "execution_count": 42,
   "metadata": {},
   "outputs": [],
   "source": [
    "# calculating percentage of missing values\n",
    "\n",
    "def missing_val_perc(df):\n",
    "    for col in df.columns:\n",
    "        print(\"Percentage of missing values in \" + col + \": \" + str(round(mobile_df[col].isna().sum()/mobile_df.shape[0],2)))"
   ]
  },
  {
   "cell_type": "code",
   "execution_count": 43,
   "metadata": {},
   "outputs": [
    {
     "name": "stdout",
     "output_type": "stream",
     "text": [
      "Percentage of missing values in brandName: 0.0\n",
      "Percentage of missing values in os: 0.0\n",
      "Percentage of missing values in osVersion: 0.04\n",
      "Percentage of missing values in screenSizeInInches: 0.0\n",
      "Percentage of missing values in rearCamera: 0.01\n",
      "Percentage of missing values in frontCamera: 0.03\n",
      "Percentage of missing values in batteryCapacity: 0.0\n",
      "Percentage of missing values in fastCharging: 0.0\n",
      "Percentage of missing values in cpuSpeed: 0.21\n",
      "Percentage of missing values in processorCores: 0.07\n",
      "Percentage of missing values in ramCapacity: 0.01\n",
      "Percentage of missing values in weight: 0.24\n",
      "Percentage of missing values in internalStorage: 0.01\n",
      "Percentage of missing values in externalStorage: 0.0\n",
      "Percentage of missing values in yearOfRelease: 0.0\n",
      "Percentage of missing values in price: 0.0\n",
      "Percentage of missing values in display_type: 0.17\n",
      "Percentage of missing values in pixel_width: 0.06\n",
      "Percentage of missing values in pixel_height: 0.06\n"
     ]
    }
   ],
   "source": [
    "missing_val_perc(df=mobile_df)"
   ]
  },
  {
   "cell_type": "code",
   "execution_count": 44,
   "metadata": {},
   "outputs": [],
   "source": [
    "# Dropping rows having missing values more than 8\n",
    "\n",
    "index_nums = [index for index, val in enumerate(mobile_df.isna().sum(axis=1)) if val>8]\n",
    "mobile_df.drop(mobile_df.index[index_nums], inplace=True)"
   ]
  },
  {
   "cell_type": "code",
   "execution_count": 45,
   "metadata": {},
   "outputs": [
    {
     "data": {
      "text/plain": [
       "(831, 19)"
      ]
     },
     "execution_count": 45,
     "metadata": {},
     "output_type": "execute_result"
    }
   ],
   "source": [
    "mobile_df.shape"
   ]
  },
  {
   "cell_type": "code",
   "execution_count": 46,
   "metadata": {},
   "outputs": [],
   "source": [
    "def cat_col_box_plot(colName, figSize):\n",
    "    fig, ax = plt.subplots(figsize=figSize)\n",
    "    fig = sns.boxplot(x=colName, y=\"price\", data=mobile_df)\n",
    "    fig.axis(ymin=0, ymax=200000)"
   ]
  },
  {
   "cell_type": "code",
   "execution_count": 47,
   "metadata": {},
   "outputs": [
    {
     "data": {
      "image/png": "[encoded data removed]",
      "text/plain": [
       "<Figure size 1080x360 with 1 Axes>"
      ]
     },
     "metadata": {
      "needs_background": "light"
     },
     "output_type": "display_data"
    }
   ],
   "source": [
    "cat_col_box_plot(colName='brandName', figSize=(15,5))"
   ]
  },
  {
   "cell_type": "code",
   "execution_count": 48,
   "metadata": {},
   "outputs": [
    {
     "data": {
      "image/png": "[encoded data removed]",
      "text/plain": [
       "<Figure size 504x360 with 1 Axes>"
      ]
     },
     "metadata": {
      "needs_background": "light"
     },
     "output_type": "display_data"
    }
   ],
   "source": [
    "cat_col_box_plot(colName='os', figSize=(7,5))"
   ]
  },
  {
   "cell_type": "code",
   "execution_count": 49,
   "metadata": {},
   "outputs": [
    {
     "data": {
      "image/png": "[encoded data removed]",
      "text/plain": [
       "<Figure size 576x360 with 1 Axes>"
      ]
     },
     "metadata": {
      "needs_background": "light"
     },
     "output_type": "display_data"
    }
   ],
   "source": [
    "cat_col_box_plot('processorCores', (8,5))"
   ]
  },
  {
   "cell_type": "code",
   "execution_count": 50,
   "metadata": {},
   "outputs": [
    {
     "data": {
      "text/plain": [
       "<matplotlib.axes._subplots.AxesSubplot at 0x2087b035508>"
      ]
     },
     "execution_count": 50,
     "metadata": {},
     "output_type": "execute_result"
    },
    {
     "data": {
      "image/png": "[encoded data removed]",
      "text/plain": [
       "<Figure size 432x288 with 1 Axes>"
      ]
     },
     "metadata": {
      "needs_background": "light"
     },
     "output_type": "display_data"
    }
   ],
   "source": [
    "sns.scatterplot(mobile_df.osVersion, mobile_df.price, hue=mobile_df.os)"
   ]
  },
  {
   "cell_type": "code",
   "execution_count": 51,
   "metadata": {},
   "outputs": [],
   "source": [
    "mobile_df.screenSizeInInches = mobile_df.screenSizeInInches.astype(float)"
   ]
  },
  {
   "cell_type": "code",
   "execution_count": 52,
   "metadata": {},
   "outputs": [
    {
     "data": {
      "text/plain": [
       "<matplotlib.axes._subplots.AxesSubplot at 0x2087b2d8788>"
      ]
     },
     "execution_count": 52,
     "metadata": {},
     "output_type": "execute_result"
    },
    {
     "data": {
      "image/png": "[encoded data removed]",
      "text/plain": [
       "<Figure size 1080x360 with 2 Axes>"
      ]
     },
     "metadata": {
      "needs_background": "light"
     },
     "output_type": "display_data"
    }
   ],
   "source": [
    "fig, ax = plt.subplots(1,2, figsize=(15,5))\n",
    "sns.scatterplot(mobile_df.screenSizeInInches, mobile_df.price, ax=ax[0])\n",
    "sns.boxplot([mobile_df.screenSizeInInches], ax=ax[1])"
   ]
  },
  {
   "cell_type": "code",
   "execution_count": 53,
   "metadata": {},
   "outputs": [
    {
     "data": {
      "text/plain": [
       "<matplotlib.axes._subplots.AxesSubplot at 0x2087b514588>"
      ]
     },
     "execution_count": 53,
     "metadata": {},
     "output_type": "execute_result"
    },
    {
     "data": {
      "image/png": "[encoded data removed]",
      "text/plain": [
       "<Figure size 432x288 with 1 Axes>"
      ]
     },
     "metadata": {
      "needs_background": "light"
     },
     "output_type": "display_data"
    }
   ],
   "source": [
    "screensize_3 = mobile_df[mobile_df.screenSizeInInches<=3]\n",
    "sns.scatterplot(screensize_3.screenSizeInInches, screensize_3.price)"
   ]
  },
  {
   "cell_type": "code",
   "execution_count": 54,
   "metadata": {},
   "outputs": [],
   "source": [
    "mobile_df = mobile_df[~((mobile_df.screenSizeInInches<=3)&(mobile_df.price>10000))]"
   ]
  },
  {
   "cell_type": "code",
   "execution_count": 55,
   "metadata": {},
   "outputs": [
    {
     "data": {
      "text/plain": [
       "<matplotlib.axes._subplots.AxesSubplot at 0x2087b393708>"
      ]
     },
     "execution_count": 55,
     "metadata": {},
     "output_type": "execute_result"
    },
    {
     "data": {
      "image/png": "[encoded data removed]",
      "text/plain": [
       "<Figure size 432x288 with 1 Axes>"
      ]
     },
     "metadata": {
      "needs_background": "light"
     },
     "output_type": "display_data"
    }
   ],
   "source": [
    "sns.scatterplot(x='ramCapacity', y=\"price\", data=mobile_df)"
   ]
  },
  {
   "cell_type": "code",
   "execution_count": 56,
   "metadata": {},
   "outputs": [
    {
     "data": {
      "text/plain": [
       "<matplotlib.axes._subplots.AxesSubplot at 0x2087b39a748>"
      ]
     },
     "execution_count": 56,
     "metadata": {},
     "output_type": "execute_result"
    },
    {
     "data": {
      "image/png": "[encoded data removed]",
      "text/plain": [
       "<Figure size 432x288 with 1 Axes>"
      ]
     },
     "metadata": {
      "needs_background": "light"
     },
     "output_type": "display_data"
    }
   ],
   "source": [
    "sns.scatterplot(mobile_df.cpuSpeed, mobile_df.price)"
   ]
  },
  {
   "cell_type": "code",
   "execution_count": 57,
   "metadata": {},
   "outputs": [],
   "source": [
    "mobile_df = mobile_df[~(mobile_df.cpuSpeed>30)]"
   ]
  },
  {
   "cell_type": "code",
   "execution_count": 58,
   "metadata": {},
   "outputs": [
    {
     "data": {
      "text/plain": [
       "<matplotlib.axes._subplots.AxesSubplot at 0x2087b03b308>"
      ]
     },
     "execution_count": 58,
     "metadata": {},
     "output_type": "execute_result"
    },
    {
     "data": {
      "image/png": "[encoded data removed]",
      "text/plain": [
       "<Figure size 432x288 with 1 Axes>"
      ]
     },
     "metadata": {
      "needs_background": "light"
     },
     "output_type": "display_data"
    }
   ],
   "source": [
    "sns.scatterplot(mobile_df.cpuSpeed, mobile_df.price, hue=mobile_df.os)"
   ]
  },
  {
   "cell_type": "code",
   "execution_count": 59,
   "metadata": {},
   "outputs": [
    {
     "data": {
      "text/plain": [
       "<matplotlib.axes._subplots.AxesSubplot at 0x2087a457788>"
      ]
     },
     "execution_count": 59,
     "metadata": {},
     "output_type": "execute_result"
    },
    {
     "data": {
      "image/png": "[encoded data removed]",
      "text/plain": [
       "<Figure size 432x288 with 1 Axes>"
      ]
     },
     "metadata": {
      "needs_background": "light"
     },
     "output_type": "display_data"
    }
   ],
   "source": [
    "sns.scatterplot(mobile_df.rearCamera, mobile_df.price)"
   ]
  },
  {
   "cell_type": "code",
   "execution_count": 60,
   "metadata": {},
   "outputs": [
    {
     "data": {
      "text/plain": [
       "<matplotlib.axes._subplots.AxesSubplot at 0x2087b117108>"
      ]
     },
     "execution_count": 60,
     "metadata": {},
     "output_type": "execute_result"
    },
    {
     "data": {
      "image/png": "[encoded data removed]",
      "text/plain": [
       "<Figure size 432x288 with 1 Axes>"
      ]
     },
     "metadata": {
      "needs_background": "light"
     },
     "output_type": "display_data"
    }
   ],
   "source": [
    "sns.scatterplot(mobile_df.frontCamera, mobile_df.price)"
   ]
  },
  {
   "cell_type": "code",
   "execution_count": 61,
   "metadata": {},
   "outputs": [
    {
     "data": {
      "text/plain": [
       "<matplotlib.axes._subplots.AxesSubplot at 0x2087afb49c8>"
      ]
     },
     "execution_count": 61,
     "metadata": {},
     "output_type": "execute_result"
    },
    {
     "data": {
      "image/png": "[encoded data removed]",
      "text/plain": [
       "<Figure size 432x288 with 1 Axes>"
      ]
     },
     "metadata": {
      "needs_background": "light"
     },
     "output_type": "display_data"
    }
   ],
   "source": [
    "sns.scatterplot(mobile_df.batteryCapacity, mobile_df.price)"
   ]
  },
  {
   "cell_type": "code",
   "execution_count": 62,
   "metadata": {},
   "outputs": [
    {
     "data": {
      "text/plain": [
       "<matplotlib.axes._subplots.AxesSubplot at 0x2087aeca888>"
      ]
     },
     "execution_count": 62,
     "metadata": {},
     "output_type": "execute_result"
    },
    {
     "data": {
      "image/png": "[encoded data removed]",
      "text/plain": [
       "<Figure size 432x288 with 1 Axes>"
      ]
     },
     "metadata": {
      "needs_background": "light"
     },
     "output_type": "display_data"
    }
   ],
   "source": [
    "sns.scatterplot(mobile_df.internalStorage, mobile_df.price,hue=mobile_df.os)"
   ]
  },
  {
   "cell_type": "code",
   "execution_count": 63,
   "metadata": {},
   "outputs": [
    {
     "data": {
      "text/plain": [
       "<matplotlib.axes._subplots.AxesSubplot at 0x2087ae06648>"
      ]
     },
     "execution_count": 63,
     "metadata": {},
     "output_type": "execute_result"
    },
    {
     "data": {
      "image/png": "[encoded data removed]",
      "text/plain": [
       "<Figure size 432x288 with 1 Axes>"
      ]
     },
     "metadata": {
      "needs_background": "light"
     },
     "output_type": "display_data"
    }
   ],
   "source": [
    "sns.scatterplot(mobile_df.externalStorage, mobile_df.price)"
   ]
  },
  {
   "cell_type": "code",
   "execution_count": 64,
   "metadata": {},
   "outputs": [
    {
     "data": {
      "text/plain": [
       "<matplotlib.axes._subplots.AxesSubplot at 0x2087ae3c088>"
      ]
     },
     "execution_count": 64,
     "metadata": {},
     "output_type": "execute_result"
    },
    {
     "data": {
      "image/png": "[encoded data removed]",
      "text/plain": [
       "<Figure size 432x288 with 1 Axes>"
      ]
     },
     "metadata": {
      "needs_background": "light"
     },
     "output_type": "display_data"
    }
   ],
   "source": [
    "sns.scatterplot(mobile_df.weight, mobile_df.price)"
   ]
  },
  {
   "cell_type": "code",
   "execution_count": 65,
   "metadata": {},
   "outputs": [],
   "source": [
    "mobile_df = mobile_df[~(mobile_df.weight>1000)]"
   ]
  },
  {
   "cell_type": "code",
   "execution_count": 66,
   "metadata": {},
   "outputs": [
    {
     "data": {
      "text/plain": [
       "<matplotlib.axes._subplots.AxesSubplot at 0x2087b191708>"
      ]
     },
     "execution_count": 66,
     "metadata": {},
     "output_type": "execute_result"
    },
    {
     "data": {
      "image/png": "[encoded data removed]",
      "text/plain": [
       "<Figure size 432x288 with 1 Axes>"
      ]
     },
     "metadata": {
      "needs_background": "light"
     },
     "output_type": "display_data"
    }
   ],
   "source": [
    "sns.scatterplot(mobile_df.weight, mobile_df.price)"
   ]
  },
  {
   "cell_type": "code",
   "execution_count": 67,
   "metadata": {},
   "outputs": [
    {
     "data": {
      "text/plain": [
       "<matplotlib.axes._subplots.AxesSubplot at 0x2087b20e148>"
      ]
     },
     "execution_count": 67,
     "metadata": {},
     "output_type": "execute_result"
    },
    {
     "data": {
      "image/png": "[encoded data removed]",
      "text/plain": [
       "<Figure size 432x288 with 1 Axes>"
      ]
     },
     "metadata": {
      "needs_background": "light"
     },
     "output_type": "display_data"
    }
   ],
   "source": [
    "sns.distplot(mobile_df.price)"
   ]
  },
  {
   "cell_type": "code",
   "execution_count": 68,
   "metadata": {},
   "outputs": [],
   "source": [
    "mobile_df_imputed = mobile_df.copy(deep=True)"
   ]
  },
  {
   "cell_type": "code",
   "execution_count": 69,
   "metadata": {},
   "outputs": [],
   "source": [
    "osmask = mobile_df_imputed[(mobile_df_imputed.brandName=='Apple')&(mobile_df_imputed.os=='Android')].index\n",
    "mobile_df_imputed.loc[osmask, 'os'] = 'iOS'"
   ]
  },
  {
   "cell_type": "code",
   "execution_count": 70,
   "metadata": {},
   "outputs": [],
   "source": [
    "osversion_mask_1 = mobile_df_imputed[(mobile_df_imputed.osVersion.isna())&(mobile_df_imputed.price<=6000)].index\n",
    "osversion_mask_2 = mobile_df_imputed[(mobile_df_imputed.osVersion.isna())&(mobile_df_imputed.os=='iOS')].index\n",
    "osversion_mask_3 = mobile_df_imputed[(mobile_df_imputed.osVersion.isna())&(mobile_df_imputed.price>6000)].index\n",
    "mobile_df_imputed.loc[osversion_mask_1, 'osVersion'] = mobile_df_imputed[mobile_df_imputed.price<=6000].osVersion.mode()[0]\n",
    "mobile_df_imputed.loc[osversion_mask_2, 'osVersion'] = mobile_df_imputed[mobile_df_imputed.os=='iOS'].osVersion.mode()[0]\n",
    "mobile_df_imputed.loc[osversion_mask_3, 'osVersion'] = mobile_df_imputed[mobile_df_imputed.price>6000].osVersion.mode()[0]"
   ]
  },
  {
   "cell_type": "code",
   "execution_count": 71,
   "metadata": {},
   "outputs": [],
   "source": [
    "mobile_df_imputed.screenSizeInInches = mobile_df_imputed.screenSizeInInches.fillna(\n",
    "                                                                            mobile_df_imputed.screenSizeInInches.mode()[0])"
   ]
  },
  {
   "cell_type": "code",
   "execution_count": 72,
   "metadata": {},
   "outputs": [],
   "source": [
    "mobile_df_imputed.rearCamera = mobile_df_imputed.rearCamera.fillna(0)"
   ]
  },
  {
   "cell_type": "code",
   "execution_count": 73,
   "metadata": {},
   "outputs": [],
   "source": [
    "front_cam_mask1 = mobile_df_imputed[(mobile_df_imputed.frontCamera.isna()) & (mobile_df_imputed.price<=5000)].index\n",
    "front_cam_mask2 = mobile_df_imputed[(mobile_df_imputed.frontCamera.isna()) & \n",
    "                                    ((mobile_df_imputed.price>5000) & (mobile_df_imputed.price<=12000))].index\n",
    "front_cam_mask3 =  mobile_df_imputed[(mobile_df_imputed.frontCamera.isna()) & (mobile_df_imputed.price>12000)].index\n",
    "mobile_df_imputed.loc[front_cam_mask1, 'frontCamera'] = 0\n",
    "mobile_df_imputed.loc[front_cam_mask2, 'frontCamera'] = mobile_df_imputed[(mobile_df_imputed.price>5000) & \n",
    "                                                                          (mobile_df_imputed.price<=20000)].frontCamera.mean()\n",
    "mobile_df_imputed.loc[front_cam_mask3, 'frontCamera'] = mobile_df_imputed[mobile_df_imputed.price>20000].frontCamera.mean()"
   ]
  },
  {
   "cell_type": "code",
   "execution_count": 74,
   "metadata": {},
   "outputs": [],
   "source": [
    "mobile_df_imputed.batteryCapacity = mobile_df_imputed.batteryCapacity.fillna(mobile_df_imputed.batteryCapacity.mean())"
   ]
  },
  {
   "cell_type": "code",
   "execution_count": 75,
   "metadata": {},
   "outputs": [],
   "source": [
    "core_mask1 = mobile_df_imputed[(mobile_df_imputed.processorCores.isna()) & (mobile_df_imputed.price<=10000)].index\n",
    "core_mask2 = mobile_df_imputed[(mobile_df_imputed.processorCores.isna()) & \n",
    "                                    ((mobile_df_imputed.price>10000) & (mobile_df_imputed.price<=50000))].index\n",
    "core_mask3 =  mobile_df_imputed[(mobile_df_imputed.processorCores.isna()) & (mobile_df_imputed.price>50000)].index\n",
    "mobile_df_imputed.loc[core_mask1, 'processorCores'] = mobile_df_imputed[mobile_df_imputed.price<=10000].processorCores.mode()[0]\n",
    "mobile_df_imputed.loc[core_mask2, 'processorCores'] = mobile_df_imputed[(mobile_df_imputed.price>10000) & \n",
    "                                                                          (mobile_df_imputed.price<=50000)].processorCores.mode()[0]\n",
    "mobile_df_imputed.loc[core_mask3, 'processorCores'] = mobile_df_imputed[mobile_df_imputed.price>50000].processorCores.mode()[0]"
   ]
  },
  {
   "cell_type": "code",
   "execution_count": 76,
   "metadata": {},
   "outputs": [],
   "source": [
    "speed_mask1 = mobile_df_imputed[(mobile_df_imputed.cpuSpeed.isna()) & (mobile_df_imputed.processorCores=='Octa')].index\n",
    "speed_mask2 = mobile_df_imputed[(mobile_df_imputed.cpuSpeed.isna()) & (mobile_df_imputed.processorCores=='Hexa')].index\n",
    "speed_mask3 = mobile_df_imputed[(mobile_df_imputed.cpuSpeed.isna()) & (mobile_df_imputed.processorCores=='Quad')].index\n",
    "speed_mask4 = mobile_df_imputed[(mobile_df_imputed.cpuSpeed.isna()) & (mobile_df_imputed.processorCores=='Dual')].index\n",
    "mobile_df_imputed.loc[speed_mask1, 'cpuSpeed'] = mobile_df_imputed[mobile_df_imputed.processorCores=='Octa'].cpuSpeed.mean()\n",
    "mobile_df_imputed.loc[speed_mask2, 'cpuSpeed'] = mobile_df_imputed[mobile_df_imputed.processorCores=='Hexa'].cpuSpeed.mean()\n",
    "mobile_df_imputed.loc[speed_mask3, 'cpuSpeed'] = mobile_df_imputed[mobile_df_imputed.processorCores=='Quad'].cpuSpeed.mean()\n",
    "mobile_df_imputed.loc[speed_mask4, 'cpuSpeed'] = mobile_df_imputed[mobile_df_imputed.processorCores=='Dual'].cpuSpeed.mean()"
   ]
  },
  {
   "cell_type": "code",
   "execution_count": 77,
   "metadata": {},
   "outputs": [],
   "source": [
    "ram_mask1 = mobile_df_imputed[(mobile_df_imputed.ramCapacity.isna()) & (mobile_df_imputed.price<=6000)].index\n",
    "ram_mask2 = mobile_df_imputed[(mobile_df_imputed.ramCapacity.isna()) & \n",
    "                                    ((mobile_df_imputed.price>10000) & (mobile_df_imputed.price<=20000))].index\n",
    "mobile_df_imputed.loc[ram_mask1, 'ramCapacity'] = mobile_df_imputed[mobile_df_imputed.price<=6000].ramCapacity.mean()\n",
    "mobile_df_imputed.loc[ram_mask2, 'ramCapacity'] = mobile_df_imputed[(mobile_df_imputed.price>10000) & \n",
    "                                                                    (mobile_df_imputed.price<=20000)].ramCapacity.mean()"
   ]
  },
  {
   "cell_type": "code",
   "execution_count": 78,
   "metadata": {},
   "outputs": [],
   "source": [
    "weight_mask1 = mobile_df_imputed[(mobile_df_imputed.weight.isna()) & (mobile_df_imputed.price<=6000)].index\n",
    "weight_mask2 = mobile_df_imputed[(mobile_df_imputed.weight.isna()) & \n",
    "                                    ((mobile_df_imputed.price>6000) & (mobile_df_imputed.price<=40000))].index\n",
    "weight_mask3 =  mobile_df_imputed[(mobile_df_imputed.weight.isna()) & (mobile_df_imputed.price>40000)].index\n",
    "mobile_df_imputed.loc[weight_mask1, 'weight'] = mobile_df_imputed[mobile_df_imputed.price<=6000].weight.mode()[1]\n",
    "mobile_df_imputed.loc[weight_mask2, 'weight'] = mobile_df_imputed[(mobile_df_imputed.price>6000) & \n",
    "                                                                          (mobile_df_imputed.price<=40000)].weight.mode()[0]\n",
    "mobile_df_imputed.loc[weight_mask3, 'weight'] = mobile_df_imputed[mobile_df_imputed.price>40000].weight.mode()[0]"
   ]
  },
  {
   "cell_type": "code",
   "execution_count": 79,
   "metadata": {},
   "outputs": [],
   "source": [
    "mobile_df_imputed.internalStorage = mobile_df_imputed.internalStorage.fillna(0)"
   ]
  },
  {
   "cell_type": "code",
   "execution_count": 80,
   "metadata": {},
   "outputs": [],
   "source": [
    "dispType_mask1 = mobile_df_imputed[(mobile_df_imputed.display_type.isna())&(mobile_df_imputed.price<=6000)].index\n",
    "dispType_mask2 = mobile_df_imputed[(mobile_df_imputed.display_type.isna())&((mobile_df_imputed.price>6000)&\n",
    "                                                                           (mobile_df_imputed.price<=20000))].index\n",
    "dispType_mask3 = mobile_df_imputed[(mobile_df_imputed.display_type.isna())&(mobile_df_imputed.price>20000)].index\n",
    "mobile_df_imputed.loc[dispType_mask1, 'display_type'] = mobile_df_imputed[mobile_df_imputed.price<=6000].display_type.mode()[0]\n",
    "mobile_df_imputed.loc[dispType_mask2, 'display_type'] = mobile_df_imputed[(mobile_df_imputed.price>6000) & \n",
    "                                                                          (mobile_df_imputed.price<=20000)].display_type.mode()[0]\n",
    "mobile_df_imputed.loc[dispType_mask3, 'display_type'] = mobile_df_imputed[mobile_df_imputed.price>20000].display_type.mode()[0]"
   ]
  },
  {
   "cell_type": "code",
   "execution_count": 81,
   "metadata": {},
   "outputs": [],
   "source": [
    "pixel_wdh_mask1 = mobile_df_imputed[(mobile_df_imputed.pixel_width.isna()) & (mobile_df_imputed.price<=6000)].index\n",
    "pixel_wdh_mask2 = mobile_df_imputed[(mobile_df_imputed.pixel_width.isna()) & \n",
    "                                    ((mobile_df_imputed.price>6000) & (mobile_df_imputed.price<=30000))].index\n",
    "pixel_wdh_mask3 =  mobile_df_imputed[(mobile_df_imputed.pixel_width.isna()) & (mobile_df_imputed.price>30000)].index\n",
    "mobile_df_imputed.loc[pixel_wdh_mask1, 'pixel_width'] = mobile_df_imputed[mobile_df_imputed.price<6000].pixel_width.mode()[0]\n",
    "mobile_df_imputed.loc[pixel_wdh_mask2, 'pixel_width'] = mobile_df_imputed[(mobile_df_imputed.price>6000) & \n",
    "                                                                          (mobile_df_imputed.price<=30000)].pixel_width.mode()[0]\n",
    "mobile_df_imputed.loc[pixel_wdh_mask3, 'pixel_width'] = mobile_df_imputed[mobile_df_imputed.price>30000].pixel_width.mode()[0]"
   ]
  },
  {
   "cell_type": "code",
   "execution_count": 82,
   "metadata": {},
   "outputs": [],
   "source": [
    "pixel_hgt_mask1 = mobile_df_imputed[(mobile_df_imputed.pixel_height.isna()) & (mobile_df_imputed.price<=6000)].index\n",
    "pixel_hgt_mask2 = mobile_df_imputed[(mobile_df_imputed.pixel_height.isna()) & \n",
    "                                    ((mobile_df_imputed.price>6000) & (mobile_df_imputed.price<=30000))].index\n",
    "pixel_hgt_mask3 =  mobile_df_imputed[(mobile_df_imputed.pixel_height.isna()) & (mobile_df_imputed.price>30000)].index\n",
    "mobile_df_imputed.loc[pixel_hgt_mask1, 'pixel_height'] = mobile_df_imputed[mobile_df_imputed.price<6000].pixel_height.mode()[0]\n",
    "mobile_df_imputed.loc[pixel_hgt_mask2, 'pixel_height'] = mobile_df_imputed[(mobile_df_imputed.price>6000) & \n",
    "                                                                          (mobile_df_imputed.price<=30000)].pixel_height.mode()[0]\n",
    "mobile_df_imputed.loc[pixel_hgt_mask3, 'pixel_height'] = mobile_df_imputed[mobile_df_imputed.price>30000].pixel_height.mode()[0]"
   ]
  },
  {
   "cell_type": "code",
   "execution_count": 83,
   "metadata": {},
   "outputs": [],
   "source": [
    "brandName_cat = pd.Categorical(mobile_df_imputed.brandName, \n",
    "                                    categories = ['Samsung', 'Apple', 'Google', 'Huawei', 'OnePlus', 'Xiaomi',\n",
    "                                                  'Redmi', 'Realme', 'Poco', 'Oppo', 'Vivo', \n",
    "                                                  'Asus', 'Nokia', 'Lenovo', 'HTC', 'Motorola', \n",
    "                                                  'Honor', 'Others'], ordered=True)\n",
    "brandName_cat_labels, _ = pd.factorize(brandName_cat, sort=True)\n",
    "mobile_df_imputed.brandName = brandName_cat_labels"
   ]
  },
  {
   "cell_type": "code",
   "execution_count": 84,
   "metadata": {},
   "outputs": [],
   "source": [
    "display_type_cat = pd.Categorical(mobile_df_imputed.display_type, \n",
    "                                    categories = ['AMOLED', 'OLED', 'QHD', 'IPS', 'FHD', 'HD', 'LCD', 'Others'], ordered=True)\n",
    "display_type_cat_labels, _ = pd.factorize(display_type_cat, sort=True)\n",
    "mobile_df_imputed.display_type = display_type_cat_labels"
   ]
  },
  {
   "cell_type": "code",
   "execution_count": 85,
   "metadata": {},
   "outputs": [],
   "source": [
    "label_encoder = LabelEncoder()\n",
    "\n",
    "mobile_df_imputed['os'] = label_encoder.fit_transform(mobile_df_imputed['os'])"
   ]
  },
  {
   "cell_type": "code",
   "execution_count": 86,
   "metadata": {},
   "outputs": [],
   "source": [
    "# binary encoding the fast charging \n",
    "\n",
    "mobile_df_imputed.fastCharging = mobile_df_imputed.fastCharging.map({'Yes':1, 'No':0})"
   ]
  },
  {
   "cell_type": "code",
   "execution_count": 87,
   "metadata": {},
   "outputs": [],
   "source": [
    "# Ordinal encoding the processorCores\n",
    "\n",
    "processor_core_cat = pd.Categorical(mobile_df_imputed.processorCores, \n",
    "                                    categories = ['Octa', 'Hexa', 'Quad', 'Dual'], ordered=True)\n",
    "processor_core_labels, _ = pd.factorize(processor_core_cat, sort=True)\n",
    "mobile_df_imputed.processorCores = processor_core_labels"
   ]
  },
  {
   "cell_type": "code",
   "execution_count": 88,
   "metadata": {},
   "outputs": [],
   "source": [
    "for col in ['brandName', 'os', 'fastCharging', 'processorCores', 'display_type', 'yearOfRelease']:\n",
    "    mobile_df_imputed[col] = mobile_df_imputed[col].astype('category')"
   ]
  },
  {
   "cell_type": "code",
   "execution_count": 89,
   "metadata": {},
   "outputs": [
    {
     "data": {
      "text/plain": [
       "<matplotlib.axes._subplots.AxesSubplot at 0x2087b4add88>"
      ]
     },
     "execution_count": 89,
     "metadata": {},
     "output_type": "execute_result"
    },
    {
     "data": {
      "image/png": "[encoded data removed]",
      "text/plain": [
       "<Figure size 720x360 with 2 Axes>"
      ]
     },
     "metadata": {
      "needs_background": "light"
     },
     "output_type": "display_data"
    }
   ],
   "source": [
    "plt.figure(figsize=(10,5))\n",
    "sns.heatmap(mobile_df_imputed.corr(), annot=True)"
   ]
  },
  {
   "cell_type": "markdown",
   "metadata": {},
   "source": [
    "# Model Building"
   ]
  },
  {
   "cell_type": "code",
   "execution_count": 90,
   "metadata": {},
   "outputs": [],
   "source": [
    "mobile_final_df = mobile_df_imputed.copy(deep=True)"
   ]
  },
  {
   "cell_type": "code",
   "execution_count": 91,
   "metadata": {},
   "outputs": [
    {
     "data": {
      "text/html": [
       "<div>\n",
       "<style scoped>\n",
       "    .dataframe tbody tr th:only-of-type {\n",
       "        vertical-align: middle;\n",
       "    }\n",
       "\n",
       "    .dataframe tbody tr th {\n",
       "        vertical-align: top;\n",
       "    }\n",
       "\n",
       "    .dataframe thead th {\n",
       "        text-align: right;\n",
       "    }\n",
       "</style>\n",
       "<table border=\"1\" class=\"dataframe\">\n",
       "  <thead>\n",
       "    <tr style=\"text-align: right;\">\n",
       "      <th></th>\n",
       "      <th>brandName</th>\n",
       "      <th>os</th>\n",
       "      <th>osVersion</th>\n",
       "      <th>screenSizeInInches</th>\n",
       "      <th>rearCamera</th>\n",
       "      <th>frontCamera</th>\n",
       "      <th>batteryCapacity</th>\n",
       "      <th>fastCharging</th>\n",
       "      <th>cpuSpeed</th>\n",
       "      <th>processorCores</th>\n",
       "      <th>ramCapacity</th>\n",
       "      <th>weight</th>\n",
       "      <th>internalStorage</th>\n",
       "      <th>externalStorage</th>\n",
       "      <th>yearOfRelease</th>\n",
       "      <th>price</th>\n",
       "      <th>display_type</th>\n",
       "      <th>pixel_width</th>\n",
       "      <th>pixel_height</th>\n",
       "    </tr>\n",
       "  </thead>\n",
       "  <tbody>\n",
       "    <tr>\n",
       "      <th>0</th>\n",
       "      <td>4</td>\n",
       "      <td>0</td>\n",
       "      <td>10.0</td>\n",
       "      <td>6.44</td>\n",
       "      <td>63.0</td>\n",
       "      <td>32.0</td>\n",
       "      <td>4115.0</td>\n",
       "      <td>1</td>\n",
       "      <td>15.4</td>\n",
       "      <td>0</td>\n",
       "      <td>8.0</td>\n",
       "      <td>184.0</td>\n",
       "      <td>128.0</td>\n",
       "      <td>0</td>\n",
       "      <td>2020</td>\n",
       "      <td>27999</td>\n",
       "      <td>0</td>\n",
       "      <td>1080</td>\n",
       "      <td>2400</td>\n",
       "    </tr>\n",
       "    <tr>\n",
       "      <th>1</th>\n",
       "      <td>4</td>\n",
       "      <td>0</td>\n",
       "      <td>10.0</td>\n",
       "      <td>6.44</td>\n",
       "      <td>63.0</td>\n",
       "      <td>32.0</td>\n",
       "      <td>4115.0</td>\n",
       "      <td>1</td>\n",
       "      <td>15.4</td>\n",
       "      <td>0</td>\n",
       "      <td>6.0</td>\n",
       "      <td>184.0</td>\n",
       "      <td>64.0</td>\n",
       "      <td>0</td>\n",
       "      <td>2020</td>\n",
       "      <td>24999</td>\n",
       "      <td>0</td>\n",
       "      <td>1080</td>\n",
       "      <td>2400</td>\n",
       "    </tr>\n",
       "    <tr>\n",
       "      <th>2</th>\n",
       "      <td>4</td>\n",
       "      <td>0</td>\n",
       "      <td>10.0</td>\n",
       "      <td>6.44</td>\n",
       "      <td>63.0</td>\n",
       "      <td>32.0</td>\n",
       "      <td>4115.0</td>\n",
       "      <td>1</td>\n",
       "      <td>15.4</td>\n",
       "      <td>0</td>\n",
       "      <td>12.0</td>\n",
       "      <td>184.0</td>\n",
       "      <td>256.0</td>\n",
       "      <td>0</td>\n",
       "      <td>2020</td>\n",
       "      <td>29999</td>\n",
       "      <td>0</td>\n",
       "      <td>1080</td>\n",
       "      <td>2400</td>\n",
       "    </tr>\n",
       "    <tr>\n",
       "      <th>3</th>\n",
       "      <td>6</td>\n",
       "      <td>0</td>\n",
       "      <td>10.0</td>\n",
       "      <td>6.67</td>\n",
       "      <td>63.0</td>\n",
       "      <td>16.0</td>\n",
       "      <td>5020.0</td>\n",
       "      <td>1</td>\n",
       "      <td>15.4</td>\n",
       "      <td>0</td>\n",
       "      <td>6.0</td>\n",
       "      <td>209.0</td>\n",
       "      <td>128.0</td>\n",
       "      <td>0</td>\n",
       "      <td>2020</td>\n",
       "      <td>16999</td>\n",
       "      <td>6</td>\n",
       "      <td>1080</td>\n",
       "      <td>2400</td>\n",
       "    </tr>\n",
       "    <tr>\n",
       "      <th>4</th>\n",
       "      <td>6</td>\n",
       "      <td>0</td>\n",
       "      <td>10.0</td>\n",
       "      <td>6.67</td>\n",
       "      <td>63.0</td>\n",
       "      <td>16.0</td>\n",
       "      <td>5020.0</td>\n",
       "      <td>1</td>\n",
       "      <td>15.4</td>\n",
       "      <td>0</td>\n",
       "      <td>6.0</td>\n",
       "      <td>209.0</td>\n",
       "      <td>64.0</td>\n",
       "      <td>0</td>\n",
       "      <td>2020</td>\n",
       "      <td>13999</td>\n",
       "      <td>6</td>\n",
       "      <td>1080</td>\n",
       "      <td>2400</td>\n",
       "    </tr>\n",
       "  </tbody>\n",
       "</table>\n",
       "</div>"
      ],
      "text/plain": [
       "  brandName os  osVersion  screenSizeInInches  rearCamera  frontCamera  \\\n",
       "0         4  0       10.0                6.44        63.0         32.0   \n",
       "1         4  0       10.0                6.44        63.0         32.0   \n",
       "2         4  0       10.0                6.44        63.0         32.0   \n",
       "3         6  0       10.0                6.67        63.0         16.0   \n",
       "4         6  0       10.0                6.67        63.0         16.0   \n",
       "\n",
       "   batteryCapacity fastCharging  cpuSpeed processorCores  ramCapacity  weight  \\\n",
       "0           4115.0            1      15.4              0          8.0   184.0   \n",
       "1           4115.0            1      15.4              0          6.0   184.0   \n",
       "2           4115.0            1      15.4              0         12.0   184.0   \n",
       "3           5020.0            1      15.4              0          6.0   209.0   \n",
       "4           5020.0            1      15.4              0          6.0   209.0   \n",
       "\n",
       "   internalStorage  externalStorage yearOfRelease  price display_type  \\\n",
       "0            128.0                0          2020  27999            0   \n",
       "1             64.0                0          2020  24999            0   \n",
       "2            256.0                0          2020  29999            0   \n",
       "3            128.0                0          2020  16999            6   \n",
       "4             64.0                0          2020  13999            6   \n",
       "\n",
       "  pixel_width pixel_height  \n",
       "0        1080         2400  \n",
       "1        1080         2400  \n",
       "2        1080         2400  \n",
       "3        1080         2400  \n",
       "4        1080         2400  "
      ]
     },
     "execution_count": 91,
     "metadata": {},
     "output_type": "execute_result"
    }
   ],
   "source": [
    "mobile_final_df.head()"
   ]
  },
  {
   "cell_type": "code",
   "execution_count": 92,
   "metadata": {},
   "outputs": [
    {
     "name": "stdout",
     "output_type": "stream",
     "text": [
      "<class 'pandas.core.frame.DataFrame'>\n",
      "Int64Index: 828 entries, 0 to 1365\n",
      "Data columns (total 19 columns):\n",
      " #   Column              Non-Null Count  Dtype   \n",
      "---  ------              --------------  -----   \n",
      " 0   brandName           828 non-null    category\n",
      " 1   os                  828 non-null    category\n",
      " 2   osVersion           828 non-null    float64 \n",
      " 3   screenSizeInInches  828 non-null    float64 \n",
      " 4   rearCamera          828 non-null    float64 \n",
      " 5   frontCamera         828 non-null    float64 \n",
      " 6   batteryCapacity     828 non-null    float64 \n",
      " 7   fastCharging        828 non-null    category\n",
      " 8   cpuSpeed            828 non-null    float64 \n",
      " 9   processorCores      828 non-null    category\n",
      " 10  ramCapacity         828 non-null    float64 \n",
      " 11  weight              828 non-null    float64 \n",
      " 12  internalStorage     828 non-null    float64 \n",
      " 13  externalStorage     828 non-null    int64   \n",
      " 14  yearOfRelease       828 non-null    category\n",
      " 15  price               828 non-null    int64   \n",
      " 16  display_type        828 non-null    category\n",
      " 17  pixel_width         828 non-null    object  \n",
      " 18  pixel_height        828 non-null    object  \n",
      "dtypes: category(6), float64(9), int64(2), object(2)\n",
      "memory usage: 97.0+ KB\n"
     ]
    }
   ],
   "source": [
    "mobile_final_df.info()"
   ]
  },
  {
   "cell_type": "code",
   "execution_count": 93,
   "metadata": {},
   "outputs": [],
   "source": [
    "for col in ['pixel_width', 'pixel_height']:\n",
    "    mobile_final_df[col] = mobile_final_df[col].astype(int)"
   ]
  },
  {
   "cell_type": "code",
   "execution_count": 94,
   "metadata": {},
   "outputs": [
    {
     "data": {
      "text/plain": [
       "(828, 19)"
      ]
     },
     "execution_count": 94,
     "metadata": {},
     "output_type": "execute_result"
    }
   ],
   "source": [
    "mobile_final_df.shape"
   ]
  },
  {
   "cell_type": "code",
   "execution_count": 95,
   "metadata": {},
   "outputs": [],
   "source": [
    "shuffled_df = mobile_final_df.sample(frac=1, random_state=204)"
   ]
  },
  {
   "cell_type": "code",
   "execution_count": 96,
   "metadata": {},
   "outputs": [],
   "source": [
    "def get_rmse(y_act, y_pred):\n",
    "    return  np.sqrt(mean_squared_error(y_act, y_pred))\n",
    "\n",
    "rmse = make_scorer(get_rmse)"
   ]
  },
  {
   "cell_type": "code",
   "execution_count": 97,
   "metadata": {},
   "outputs": [],
   "source": [
    "def get_scores(pred, test):\n",
    "    print('Mean Absolute Error (MAE):', mean_absolute_error(pred, test))\n",
    "    print('Root Mean Squared Error (RMSE):', np.sqrt(mean_squared_error(pred, test)))"
   ]
  },
  {
   "cell_type": "markdown",
   "metadata": {},
   "source": [
    "**KNN Regressor**"
   ]
  },
  {
   "cell_type": "code",
   "execution_count": 117,
   "metadata": {},
   "outputs": [],
   "source": [
    "knn_df = shuffled_df.copy(deep=True)"
   ]
  },
  {
   "cell_type": "code",
   "execution_count": 118,
   "metadata": {},
   "outputs": [],
   "source": [
    "y_knn = np.log(shuffled_df.price)\n",
    "X_knn = shuffled_df.drop(['price'], axis=1)"
   ]
  },
  {
   "cell_type": "code",
   "execution_count": 119,
   "metadata": {},
   "outputs": [],
   "source": [
    "for col in X_knn.columns:\n",
    "    if col not in ['brandName', 'os', 'fastCharging', 'processorCores', 'yearOfRelease']:\n",
    "        X_knn.loc[:,col] = StandardScaler().fit_transform(np.array(X_knn.loc[:,col]).reshape(-1,1))"
   ]
  },
  {
   "cell_type": "code",
   "execution_count": 120,
   "metadata": {},
   "outputs": [],
   "source": [
    "X_knn = pd.get_dummies(X_knn, drop_first=True)"
   ]
  },
  {
   "cell_type": "code",
   "execution_count": 121,
   "metadata": {},
   "outputs": [
    {
     "data": {
      "text/plain": [
       "Text(0, 0.5, 'Variance Explained')"
      ]
     },
     "execution_count": 121,
     "metadata": {},
     "output_type": "execute_result"
    },
    {
     "data": {
      "image/png": "[encoded data removed]",
      "text/plain": [
       "<Figure size 432x288 with 1 Axes>"
      ]
     },
     "metadata": {
      "needs_background": "light"
     },
     "output_type": "display_data"
    }
   ],
   "source": [
    "pca = PCA().fit(X_knn)\n",
    "plt.plot(np.cumsum(pca.explained_variance_ratio_))\n",
    "plt.xlabel('Number of Components')\n",
    "plt.ylabel('Variance Explained')"
   ]
  },
  {
   "cell_type": "code",
   "execution_count": 122,
   "metadata": {},
   "outputs": [],
   "source": [
    "X_knn = pd.DataFrame(PCA(n_components=12).fit_transform(X_knn), columns=range(1,13,1))"
   ]
  },
  {
   "cell_type": "code",
   "execution_count": 123,
   "metadata": {},
   "outputs": [],
   "source": [
    "X_train_knn, X_test_knn, y_train_knn, y_test_knn = train_test_split(X_knn, y_knn, test_size=0.2, random_state=204)"
   ]
  },
  {
   "cell_type": "code",
   "execution_count": 124,
   "metadata": {},
   "outputs": [],
   "source": [
    "error_rate = []\n",
    "for k in range(1,25,1):\n",
    "    knn_model = KNeighborsRegressor(n_neighbors=k, weights='distance')\n",
    "    knn_model.fit(X_train_knn, y_train_knn)\n",
    "    knn_predictions = knn_model.predict(X_test_knn)\n",
    "    error_rate.append(np.sqrt(mean_squared_error(knn_predictions, y_test_knn)))"
   ]
  },
  {
   "cell_type": "code",
   "execution_count": 125,
   "metadata": {},
   "outputs": [
    {
     "data": {
      "text/plain": [
       "Text(0, 0.5, 'RMSE error rate')"
      ]
     },
     "execution_count": 125,
     "metadata": {},
     "output_type": "execute_result"
    },
    {
     "data": {
      "image/png": "[encoded data removed]",
      "text/plain": [
       "<Figure size 720x360 with 1 Axes>"
      ]
     },
     "metadata": {
      "needs_background": "light"
     },
     "output_type": "display_data"
    }
   ],
   "source": [
    "plt.figure(figsize=(10,5))\n",
    "plt.plot(range(1,25,1), error_rate, linestyle='dashed', marker='o', markerfacecolor='red', markersize=8)\n",
    "plt.xlabel('Number of K')\n",
    "plt.ylabel('RMSE error rate')"
   ]
  },
  {
   "cell_type": "code",
   "execution_count": 126,
   "metadata": {},
   "outputs": [
    {
     "data": {
      "text/plain": [
       "KNeighborsRegressor(n_neighbors=4, weights='distance')"
      ]
     },
     "execution_count": 126,
     "metadata": {},
     "output_type": "execute_result"
    }
   ],
   "source": [
    "final_knn_model = KNeighborsRegressor(n_neighbors=4, weights='distance')\n",
    "final_knn_model.fit(X_train_knn, y_train_knn)"
   ]
  },
  {
   "cell_type": "code",
   "execution_count": 127,
   "metadata": {},
   "outputs": [
    {
     "data": {
      "text/plain": [
       "0.859509508625425"
      ]
     },
     "execution_count": 127,
     "metadata": {},
     "output_type": "execute_result"
    }
   ],
   "source": [
    "final_knn_model.score(X_test_knn, y_test_knn)"
   ]
  },
  {
   "cell_type": "code",
   "execution_count": 128,
   "metadata": {},
   "outputs": [],
   "source": [
    "knn_predictions = final_knn_model.predict(X_test_knn)"
   ]
  },
  {
   "cell_type": "code",
   "execution_count": 129,
   "metadata": {},
   "outputs": [
    {
     "name": "stdout",
     "output_type": "stream",
     "text": [
      "Mean Absolute Error (MAE): 0.21890306213466845\n",
      "Root Mean Squared Error (RMSE): 0.30524035288070794\n"
     ]
    }
   ],
   "source": [
    "get_scores(pred=knn_predictions, test=y_test_knn)"
   ]
  },
  {
   "cell_type": "markdown",
   "metadata": {},
   "source": [
    "**Support Vector Regression**"
   ]
  },
  {
   "cell_type": "code",
   "execution_count": 140,
   "metadata": {},
   "outputs": [],
   "source": [
    "svr_model = SVR()"
   ]
  },
  {
   "cell_type": "code",
   "execution_count": 141,
   "metadata": {},
   "outputs": [
    {
     "data": {
      "text/plain": [
       "0.3500549341583958"
      ]
     },
     "execution_count": 141,
     "metadata": {},
     "output_type": "execute_result"
    }
   ],
   "source": [
    "np.mean(cross_val_score(svr_model, X_train_knn, y_train_knn, scoring=rmse, cv=5, n_jobs=-1))"
   ]
  },
  {
   "cell_type": "code",
   "execution_count": 142,
   "metadata": {},
   "outputs": [],
   "source": [
    "best_svr_model = GridSearchCV(svr_model, param_grid={'C': [0.1,1,10,100,1000], 'gamma': [1, 0.1, 0.01, 0.001, 0.0001]},\n",
    "                              scoring='neg_mean_squared_error', cv=5, n_jobs=-1)"
   ]
  },
  {
   "cell_type": "code",
   "execution_count": 143,
   "metadata": {},
   "outputs": [
    {
     "data": {
      "text/plain": [
       "GridSearchCV(cv=5, estimator=SVR(), n_jobs=-1,\n",
       "             param_grid={'C': [0.1, 1, 10, 100, 1000],\n",
       "                         'gamma': [1, 0.1, 0.01, 0.001, 0.0001]},\n",
       "             scoring='neg_mean_squared_error')"
      ]
     },
     "execution_count": 143,
     "metadata": {},
     "output_type": "execute_result"
    }
   ],
   "source": [
    "best_svr_model.fit(X_train_knn, y_train_knn)"
   ]
  },
  {
   "cell_type": "code",
   "execution_count": 144,
   "metadata": {},
   "outputs": [
    {
     "data": {
      "text/plain": [
       "{'C': 10, 'gamma': 0.01}"
      ]
     },
     "execution_count": 144,
     "metadata": {},
     "output_type": "execute_result"
    }
   ],
   "source": [
    "best_svr_model.best_params_"
   ]
  },
  {
   "cell_type": "code",
   "execution_count": 145,
   "metadata": {},
   "outputs": [
    {
     "data": {
      "text/plain": [
       "0.3466268132296033"
      ]
     },
     "execution_count": 145,
     "metadata": {},
     "output_type": "execute_result"
    }
   ],
   "source": [
    "np.mean(cross_val_score(best_svr_model.best_estimator_, X_train_knn, y_train_knn, scoring=rmse, cv=5, n_jobs=-1))"
   ]
  },
  {
   "cell_type": "code",
   "execution_count": 146,
   "metadata": {},
   "outputs": [],
   "source": [
    "final_svr_model = SVR(C=10, gamma=0.01)"
   ]
  },
  {
   "cell_type": "code",
   "execution_count": 147,
   "metadata": {},
   "outputs": [
    {
     "data": {
      "text/plain": [
       "SVR(C=10, gamma=0.01)"
      ]
     },
     "execution_count": 147,
     "metadata": {},
     "output_type": "execute_result"
    }
   ],
   "source": [
    "final_svr_model.fit(X_train_knn, y_train_knn)"
   ]
  },
  {
   "cell_type": "code",
   "execution_count": 148,
   "metadata": {},
   "outputs": [
    {
     "data": {
      "text/plain": [
       "0.8419550931892148"
      ]
     },
     "execution_count": 148,
     "metadata": {},
     "output_type": "execute_result"
    }
   ],
   "source": [
    "final_svr_model.score(X_test_knn, y_test_knn)"
   ]
  },
  {
   "cell_type": "code",
   "execution_count": 149,
   "metadata": {},
   "outputs": [],
   "source": [
    "svr_predictions = final_svr_model.predict(X_test_knn)"
   ]
  },
  {
   "cell_type": "code",
   "execution_count": 150,
   "metadata": {},
   "outputs": [
    {
     "name": "stdout",
     "output_type": "stream",
     "text": [
      "Mean Absolute Error (MAE): 0.2308565430544729\n",
      "Root Mean Squared Error (RMSE): 0.3237492221102369\n"
     ]
    }
   ],
   "source": [
    "get_scores(pred=svr_predictions, test=y_test_knn)"
   ]
  },
  {
   "cell_type": "markdown",
   "metadata": {},
   "source": [
    "**Random Forest Regression**"
   ]
  },
  {
   "cell_type": "code",
   "execution_count": 98,
   "metadata": {},
   "outputs": [],
   "source": [
    "rf_df = shuffled_df.copy(deep=True)"
   ]
  },
  {
   "cell_type": "code",
   "execution_count": 99,
   "metadata": {},
   "outputs": [],
   "source": [
    "y_rf = np.log(shuffled_df.price)\n",
    "X_rf = shuffled_df.drop(['price'], axis=1)"
   ]
  },
  {
   "cell_type": "code",
   "execution_count": 100,
   "metadata": {},
   "outputs": [],
   "source": [
    "X_train_rf, X_test_rf, y_train_rf, y_test_rf = train_test_split(X_rf, y_rf, test_size=0.2, random_state=204)"
   ]
  },
  {
   "cell_type": "code",
   "execution_count": 103,
   "metadata": {},
   "outputs": [
    {
     "name": "stdout",
     "output_type": "stream",
     "text": [
      "No of estimators 200: 0.0933\n",
      "No of estimators 250: 0.0939\n",
      "No of estimators 300: 0.0938\n",
      "No of estimators 350: 0.0937\n",
      "No of estimators 400: 0.0936\n",
      "No of estimators 450: 0.0938\n",
      "No of estimators 500: 0.0937\n",
      "No of estimators 550: 0.0935\n",
      "No of estimators 600: 0.0934\n",
      "No of estimators 650: 0.0933\n",
      "No of estimators 700: 0.0934\n",
      "No of estimators 750: 0.0935\n",
      "No of estimators 800: 0.0934\n",
      "No of estimators 850: 0.0935\n",
      "No of estimators 900: 0.0934\n",
      "No of estimators 950: 0.0934\n",
      "No of estimators 1000: 0.0934\n"
     ]
    }
   ],
   "source": [
    "for estimator in range(200, 1050, 50):\n",
    "    random_forest = RandomForestRegressor(n_estimators= estimator, random_state=204)\n",
    "    print(\"No of estimators \" + str(estimator) + \": \" + \n",
    "        str(round(np.mean(-cross_val_score(random_forest, X=X_train_rf, y=y_train_rf, cv=5, \n",
    "                                          scoring='neg_mean_squared_error', n_jobs=-1)),4)))"
   ]
  },
  {
   "cell_type": "code",
   "execution_count": 104,
   "metadata": {},
   "outputs": [],
   "source": [
    "rf_model = RandomForestRegressor(n_estimators=200, random_state=204, oob_score=True)\n",
    "best_rf_model = GridSearchCV(rf_model, param_grid={'max_depth':[2,3,6,8,10], 'min_samples_split':[2,4,8,35], \n",
    "                                                   'max_features':[None,'sqrt','log2'], 'min_samples_leaf':[1,2,4,6]}, \n",
    "                             scoring='neg_mean_squared_error', cv=5, n_jobs=-1)"
   ]
  },
  {
   "cell_type": "code",
   "execution_count": 105,
   "metadata": {},
   "outputs": [
    {
     "data": {
      "text/plain": [
       "GridSearchCV(cv=5,\n",
       "             estimator=RandomForestRegressor(n_estimators=200, oob_score=True,\n",
       "                                             random_state=204),\n",
       "             n_jobs=-1,\n",
       "             param_grid={'max_depth': [2, 3, 6, 8, 10],\n",
       "                         'max_features': [None, 'sqrt', 'log2'],\n",
       "                         'min_samples_leaf': [1, 2, 4, 6],\n",
       "                         'min_samples_split': [2, 4, 8, 35]},\n",
       "             scoring='neg_mean_squared_error')"
      ]
     },
     "execution_count": 105,
     "metadata": {},
     "output_type": "execute_result"
    }
   ],
   "source": [
    "best_rf_model.fit(X_train_rf, y_train_rf)"
   ]
  },
  {
   "cell_type": "code",
   "execution_count": 106,
   "metadata": {},
   "outputs": [
    {
     "data": {
      "text/plain": [
       "{'max_depth': 10,\n",
       " 'max_features': 'sqrt',\n",
       " 'min_samples_leaf': 1,\n",
       " 'min_samples_split': 2}"
      ]
     },
     "execution_count": 106,
     "metadata": {},
     "output_type": "execute_result"
    }
   ],
   "source": [
    "best_rf_model.best_params_"
   ]
  },
  {
   "cell_type": "code",
   "execution_count": 107,
   "metadata": {},
   "outputs": [
    {
     "data": {
      "text/plain": [
       "0.28628210430254464"
      ]
     },
     "execution_count": 107,
     "metadata": {},
     "output_type": "execute_result"
    }
   ],
   "source": [
    "np.mean(cross_val_score(best_rf_model.best_estimator_, X_train_rf, y_train_rf, scoring=rmse, cv=5, n_jobs=-1))"
   ]
  },
  {
   "cell_type": "code",
   "execution_count": 108,
   "metadata": {},
   "outputs": [],
   "source": [
    "final_rf_model = RandomForestRegressor(n_estimators=250, max_depth=10, max_features='sqrt', oob_score=True, n_jobs=-1)"
   ]
  },
  {
   "cell_type": "code",
   "execution_count": 109,
   "metadata": {},
   "outputs": [
    {
     "data": {
      "text/plain": [
       "RandomForestRegressor(max_depth=10, max_features='sqrt', n_estimators=250,\n",
       "                      n_jobs=-1, oob_score=True)"
      ]
     },
     "execution_count": 109,
     "metadata": {},
     "output_type": "execute_result"
    }
   ],
   "source": [
    "final_rf_model.fit(X_train_rf, y_train_rf)"
   ]
  },
  {
   "cell_type": "code",
   "execution_count": 110,
   "metadata": {},
   "outputs": [
    {
     "data": {
      "text/plain": [
       "0.8747533902659578"
      ]
     },
     "execution_count": 110,
     "metadata": {},
     "output_type": "execute_result"
    }
   ],
   "source": [
    "final_rf_model.score(X_test_rf, y_test_rf)"
   ]
  },
  {
   "cell_type": "code",
   "execution_count": 111,
   "metadata": {},
   "outputs": [],
   "source": [
    "rf_predictions = final_rf_model.predict(X_test_rf)"
   ]
  },
  {
   "cell_type": "code",
   "execution_count": 112,
   "metadata": {},
   "outputs": [
    {
     "name": "stdout",
     "output_type": "stream",
     "text": [
      "Mean Absolute Error (MAE): 0.2025602340711286\n",
      "Root Mean Squared Error (RMSE): 0.2882049732272642\n"
     ]
    }
   ],
   "source": [
    "get_scores(pred=rf_predictions, test=y_test_rf)"
   ]
  },
  {
   "cell_type": "markdown",
   "metadata": {},
   "source": [
    "**Xtreme Gradient Boosting Machine**"
   ]
  },
  {
   "cell_type": "code",
   "execution_count": 113,
   "metadata": {},
   "outputs": [],
   "source": [
    "xgbm_df = mobile_df_imputed.copy(deep=True)"
   ]
  },
  {
   "cell_type": "code",
   "execution_count": 114,
   "metadata": {},
   "outputs": [],
   "source": [
    "for col in ['brandName', 'os', 'fastCharging', 'processorCores', 'display_type', 'yearOfRelease']:\n",
    "    xgbm_df[col] = xgbm_df[col].astype('category')"
   ]
  },
  {
   "cell_type": "code",
   "execution_count": 115,
   "metadata": {},
   "outputs": [],
   "source": [
    "for col in ['pixel_width', 'pixel_height']:\n",
    "    xgbm_df[col] = xgbm_df[col].astype(int)"
   ]
  },
  {
   "cell_type": "code",
   "execution_count": 116,
   "metadata": {},
   "outputs": [],
   "source": [
    "xgbm_df_dummified = pd.get_dummies(data=xgbm_df, columns=['brandName', 'os', 'fastCharging', 'processorCores', \n",
    "                                                          'display_type', 'yearOfRelease'])"
   ]
  },
  {
   "cell_type": "code",
   "execution_count": 117,
   "metadata": {},
   "outputs": [],
   "source": [
    "shuffled_df_1 = xgbm_df_dummified.sample(frac=1)"
   ]
  },
  {
   "cell_type": "code",
   "execution_count": 118,
   "metadata": {},
   "outputs": [],
   "source": [
    "y_xgb = np.log(shuffled_df_1.price)\n",
    "X_xgb = shuffled_df_1.drop(['price'], axis=1)"
   ]
  },
  {
   "cell_type": "code",
   "execution_count": 119,
   "metadata": {},
   "outputs": [],
   "source": [
    "X_train_xgb, X_test_xgb, y_train_xgb, y_test_xgb = train_test_split(X_xgb, y_xgb, test_size=0.2, random_state=1234)"
   ]
  },
  {
   "cell_type": "code",
   "execution_count": 120,
   "metadata": {},
   "outputs": [],
   "source": [
    "xgbm = xgbr()\n",
    "best_xgbm = GridSearchCV(xgbm, param_grid={'n_estimators':[500,750,1200,2000], 'learning_rate':[0.001,0.01, 0.03, 0.06, 0.1]}, \n",
    "                        n_jobs=-1, scoring='neg_mean_squared_error', cv=5)"
   ]
  },
  {
   "cell_type": "code",
   "execution_count": 121,
   "metadata": {},
   "outputs": [
    {
     "data": {
      "text/plain": [
       "GridSearchCV(cv=5,\n",
       "             estimator=XGBRegressor(base_score=None, booster=None,\n",
       "                                    colsample_bylevel=None,\n",
       "                                    colsample_bynode=None,\n",
       "                                    colsample_bytree=None, gamma=None,\n",
       "                                    gpu_id=None, importance_type='gain',\n",
       "                                    interaction_constraints=None,\n",
       "                                    learning_rate=None, max_delta_step=None,\n",
       "                                    max_depth=None, min_child_weight=None,\n",
       "                                    missing=nan, monotone_constraints=None,\n",
       "                                    n_estimators=100, n_jobs=None,\n",
       "                                    num_parallel_tree=None, random_state=None,\n",
       "                                    reg_alpha=None, reg_lambda=None,\n",
       "                                    scale_pos_weight=None, subsample=None,\n",
       "                                    tree_method=None, validate_parameters=None,\n",
       "                                    verbosity=None),\n",
       "             n_jobs=-1,\n",
       "             param_grid={'learning_rate': [0.001, 0.01, 0.03, 0.06, 0.1],\n",
       "                         'n_estimators': [500, 750, 1200, 2000]},\n",
       "             scoring='neg_mean_squared_error')"
      ]
     },
     "execution_count": 121,
     "metadata": {},
     "output_type": "execute_result"
    }
   ],
   "source": [
    "best_xgbm.fit(X_train_xgb, y_train_xgb)"
   ]
  },
  {
   "cell_type": "code",
   "execution_count": 122,
   "metadata": {},
   "outputs": [
    {
     "data": {
      "text/plain": [
       "{'learning_rate': 0.06, 'n_estimators': 500}"
      ]
     },
     "execution_count": 122,
     "metadata": {},
     "output_type": "execute_result"
    }
   ],
   "source": [
    "best_xgbm.best_params_"
   ]
  },
  {
   "cell_type": "code",
   "execution_count": 123,
   "metadata": {},
   "outputs": [
    {
     "data": {
      "text/plain": [
       "0.30172500777575983"
      ]
     },
     "execution_count": 123,
     "metadata": {},
     "output_type": "execute_result"
    }
   ],
   "source": [
    "np.mean(cross_val_score(best_xgbm.best_estimator_, X_train_xgb, y_train_xgb, scoring=rmse, cv=5, n_jobs=-1))"
   ]
  },
  {
   "cell_type": "code",
   "execution_count": 124,
   "metadata": {},
   "outputs": [],
   "source": [
    "xgbm = xgbr(n_estimators=500, learning_rate=0.06)\n",
    "best_xgbm = GridSearchCV(xgbm, param_grid={'min_child_weight':[1,0.01,0.1,5],'max_depth':[2,3,4,6,10], 'gamma':[0.001, 0.01, 0.1, 5, 10]}, \n",
    "                        n_jobs=-1, scoring='neg_mean_squared_error', cv=5)"
   ]
  },
  {
   "cell_type": "code",
   "execution_count": 125,
   "metadata": {},
   "outputs": [
    {
     "data": {
      "text/plain": [
       "GridSearchCV(cv=5,\n",
       "             estimator=XGBRegressor(base_score=None, booster=None,\n",
       "                                    colsample_bylevel=None,\n",
       "                                    colsample_bynode=None,\n",
       "                                    colsample_bytree=None, gamma=None,\n",
       "                                    gpu_id=None, importance_type='gain',\n",
       "                                    interaction_constraints=None,\n",
       "                                    learning_rate=0.06, max_delta_step=None,\n",
       "                                    max_depth=None, min_child_weight=None,\n",
       "                                    missing=nan, monotone_constraints=None,\n",
       "                                    n_estimators=500, n_jobs=None,\n",
       "                                    num_parallel_tree=None, random_state=None,\n",
       "                                    reg_alpha=None, reg_lambda=None,\n",
       "                                    scale_pos_weight=None, subsample=None,\n",
       "                                    tree_method=None, validate_parameters=None,\n",
       "                                    verbosity=None),\n",
       "             n_jobs=-1,\n",
       "             param_grid={'gamma': [0.001, 0.01, 0.1, 5, 10],\n",
       "                         'max_depth': [2, 3, 4, 6, 10],\n",
       "                         'min_child_weight': [1, 0.01, 0.1, 5]},\n",
       "             scoring='neg_mean_squared_error')"
      ]
     },
     "execution_count": 125,
     "metadata": {},
     "output_type": "execute_result"
    }
   ],
   "source": [
    "best_xgbm.fit(X_train_xgb, y_train_xgb)"
   ]
  },
  {
   "cell_type": "code",
   "execution_count": 126,
   "metadata": {},
   "outputs": [
    {
     "data": {
      "text/plain": [
       "{'gamma': 0.01, 'max_depth': 6, 'min_child_weight': 1}"
      ]
     },
     "execution_count": 126,
     "metadata": {},
     "output_type": "execute_result"
    }
   ],
   "source": [
    "best_xgbm.best_params_"
   ]
  },
  {
   "cell_type": "code",
   "execution_count": 127,
   "metadata": {},
   "outputs": [
    {
     "data": {
      "text/plain": [
       "0.2989133462070577"
      ]
     },
     "execution_count": 127,
     "metadata": {},
     "output_type": "execute_result"
    }
   ],
   "source": [
    "np.mean(cross_val_score(best_xgbm.best_estimator_, X_train_xgb, y_train_xgb, scoring=rmse, cv=5, n_jobs=-1))"
   ]
  },
  {
   "cell_type": "code",
   "execution_count": 154,
   "metadata": {},
   "outputs": [],
   "source": [
    "gbm_model_1 = xgbr(n_estimators=500, learning_rate=0.06, gamma=0.1, max_depth=6, min_child_weight=5, random_state=402,\n",
    "                  colsample_bytree=0.4, colsample_bylevel=0.4, reg_lambda=0.001)"
   ]
  },
  {
   "cell_type": "code",
   "execution_count": 156,
   "metadata": {},
   "outputs": [
    {
     "data": {
      "text/plain": [
       "0.2887414492661285"
      ]
     },
     "execution_count": 156,
     "metadata": {},
     "output_type": "execute_result"
    }
   ],
   "source": [
    "np.mean(cross_val_score(gbm_model_1, X_train_xgb, y_train_xgb, scoring=rmse, cv=5, n_jobs=-1))"
   ]
  },
  {
   "cell_type": "code",
   "execution_count": 157,
   "metadata": {},
   "outputs": [],
   "source": [
    "final_xgbm = xgbr(n_estimators=500, learning_rate=0.06, gamma=0.1, max_depth=6, min_child_weight=5, random_state=402,\n",
    "                  colsample_bytree=0.4, colsample_bylevel=0.4, reg_lambda=0.001)"
   ]
  },
  {
   "cell_type": "code",
   "execution_count": 158,
   "metadata": {},
   "outputs": [
    {
     "data": {
      "text/plain": [
       "XGBRegressor(base_score=0.5, booster='gbtree', colsample_bylevel=0.4,\n",
       "             colsample_bynode=1, colsample_bytree=0.4, gamma=0.1, gpu_id=-1,\n",
       "             importance_type='gain', interaction_constraints='',\n",
       "             learning_rate=0.06, max_delta_step=0, max_depth=6,\n",
       "             min_child_weight=5, missing=nan, monotone_constraints='()',\n",
       "             n_estimators=500, n_jobs=0, num_parallel_tree=1, random_state=402,\n",
       "             reg_alpha=0, reg_lambda=0.001, scale_pos_weight=1, subsample=1,\n",
       "             tree_method='exact', validate_parameters=1, verbosity=None)"
      ]
     },
     "execution_count": 158,
     "metadata": {},
     "output_type": "execute_result"
    }
   ],
   "source": [
    "final_xgbm.fit(X_train_xgb, y_train_xgb)"
   ]
  },
  {
   "cell_type": "code",
   "execution_count": 159,
   "metadata": {},
   "outputs": [
    {
     "data": {
      "text/plain": [
       "0.8902017994767528"
      ]
     },
     "execution_count": 159,
     "metadata": {},
     "output_type": "execute_result"
    }
   ],
   "source": [
    "final_xgbm.score(X_test_xgb, y_test_xgb)"
   ]
  },
  {
   "cell_type": "code",
   "execution_count": 160,
   "metadata": {},
   "outputs": [],
   "source": [
    "xgbm_predictions = final_xgbm.predict(X_test_xgb)"
   ]
  },
  {
   "cell_type": "code",
   "execution_count": 161,
   "metadata": {},
   "outputs": [
    {
     "name": "stdout",
     "output_type": "stream",
     "text": [
      "Mean Absolute Error (MAE): 0.19801235595182515\n",
      "Root Mean Squared Error (RMSE): 0.27863242407967653\n"
     ]
    }
   ],
   "source": [
    "get_scores(pred=xgbm_predictions, test=y_test_xgb)"
   ]
  },
  {
   "cell_type": "code",
   "execution_count": null,
   "metadata": {},
   "outputs": [],
   "source": []
  }
 ],
 "metadata": {
  "kernelspec": {
   "display_name": "Python 3",
   "language": "python",
   "name": "python3"
  },
  "language_info": {
   "codemirror_mode": {
    "name": "ipython",
    "version": 3
   },
   "file_extension": ".py",
   "mimetype": "text/x-python",
   "name": "python",
   "nbconvert_exporter": "python",
   "pygments_lexer": "ipython3",
   "version": "3.7.7"
  }
 },
 "nbformat": 4,
 "nbformat_minor": 4
}
