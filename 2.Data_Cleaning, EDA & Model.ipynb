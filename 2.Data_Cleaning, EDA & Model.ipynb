{
 "cells": [
  {
   "cell_type": "code",
   "execution_count": 146,
   "metadata": {},
   "outputs": [],
   "source": [
    "# Importing neccessary packages\n",
    "\n",
    "import numpy as np\n",
    "import pandas as pd\n",
    "import re\n",
    "import matplotlib.pyplot as plt\n",
    "import seaborn as sns\n",
    "from fancyimpute import KNN\n",
    "from sklearn.preprocessing import LabelEncoder, StandardScaler\n",
    "from sklearn.model_selection import train_test_split,GridSearchCV, cross_val_score\n",
    "from sklearn.ensemble import RandomForestRegressor, GradientBoostingRegressor\n",
    "from xgboost import XGBRegressor as xgbr\n",
    "from sklearn.metrics import mean_absolute_error, mean_squared_error, make_scorer\n",
    "%matplotlib inline"
   ]
  },
  {
   "cell_type": "markdown",
   "metadata": {},
   "source": [
    "# Data Cleaning"
   ]
  },
  {
   "cell_type": "code",
   "execution_count": 5,
   "metadata": {},
   "outputs": [
    {
     "data": {
      "text/html": [
       "<div>\n",
       "<style scoped>\n",
       "    .dataframe tbody tr th:only-of-type {\n",
       "        vertical-align: middle;\n",
       "    }\n",
       "\n",
       "    .dataframe tbody tr th {\n",
       "        vertical-align: top;\n",
       "    }\n",
       "\n",
       "    .dataframe thead th {\n",
       "        text-align: right;\n",
       "    }\n",
       "</style>\n",
       "<table border=\"1\" class=\"dataframe\">\n",
       "  <thead>\n",
       "    <tr style=\"text-align: right;\">\n",
       "      <th></th>\n",
       "      <th>brandName</th>\n",
       "      <th>os</th>\n",
       "      <th>osVersion</th>\n",
       "      <th>screenSizeInInches</th>\n",
       "      <th>displayType</th>\n",
       "      <th>resolutionInPixels</th>\n",
       "      <th>pixelDensity</th>\n",
       "      <th>rearCamera</th>\n",
       "      <th>frontCamera</th>\n",
       "      <th>batteryCapacity</th>\n",
       "      <th>fastCharging</th>\n",
       "      <th>cpuSpeed</th>\n",
       "      <th>processorCores</th>\n",
       "      <th>ramCapacity</th>\n",
       "      <th>gpuType</th>\n",
       "      <th>weight</th>\n",
       "      <th>internalStorage</th>\n",
       "      <th>externalStorage</th>\n",
       "      <th>price</th>\n",
       "    </tr>\n",
       "  </thead>\n",
       "  <tbody>\n",
       "    <tr>\n",
       "      <th>0</th>\n",
       "      <td>OnePlus</td>\n",
       "      <td>Android</td>\n",
       "      <td>10</td>\n",
       "      <td>6.44</td>\n",
       "      <td>NaN</td>\n",
       "      <td>1080 x 2400</td>\n",
       "      <td>402</td>\n",
       "      <td>48 + 8 + 5 + 2</td>\n",
       "      <td>32</td>\n",
       "      <td>4115</td>\n",
       "      <td>Yes</td>\n",
       "      <td>1x2.4 GHz, 1x2.2 GHz, 6x1.8 GHz</td>\n",
       "      <td>Octa-core</td>\n",
       "      <td>8 GB</td>\n",
       "      <td>Adreno 620</td>\n",
       "      <td>184</td>\n",
       "      <td>128 GB</td>\n",
       "      <td>NaN</td>\n",
       "      <td>27999</td>\n",
       "    </tr>\n",
       "    <tr>\n",
       "      <th>1</th>\n",
       "      <td>OnePlus</td>\n",
       "      <td>Android</td>\n",
       "      <td>10</td>\n",
       "      <td>6.44</td>\n",
       "      <td>NaN</td>\n",
       "      <td>1080 x 2400</td>\n",
       "      <td>402</td>\n",
       "      <td>48 + 8 + 5 + 2</td>\n",
       "      <td>32</td>\n",
       "      <td>4115</td>\n",
       "      <td>Yes</td>\n",
       "      <td>1x2.4 GHz, 1x2.2 GHz, 6x1.8 GHz</td>\n",
       "      <td>Octa-core</td>\n",
       "      <td>6 GB</td>\n",
       "      <td>Adreno 620</td>\n",
       "      <td>184</td>\n",
       "      <td>64GB</td>\n",
       "      <td>NaN</td>\n",
       "      <td>24999</td>\n",
       "    </tr>\n",
       "  </tbody>\n",
       "</table>\n",
       "</div>"
      ],
      "text/plain": [
       "  brandName       os osVersion screenSizeInInches displayType  \\\n",
       "0   OnePlus  Android        10               6.44         NaN   \n",
       "1   OnePlus  Android        10               6.44         NaN   \n",
       "\n",
       "  resolutionInPixels pixelDensity      rearCamera frontCamera batteryCapacity  \\\n",
       "0        1080 x 2400          402  48 + 8 + 5 + 2          32            4115   \n",
       "1        1080 x 2400          402  48 + 8 + 5 + 2          32            4115   \n",
       "\n",
       "  fastCharging                         cpuSpeed processorCores ramCapacity  \\\n",
       "0          Yes  1x2.4 GHz, 1x2.2 GHz, 6x1.8 GHz      Octa-core        8 GB   \n",
       "1          Yes  1x2.4 GHz, 1x2.2 GHz, 6x1.8 GHz      Octa-core        6 GB   \n",
       "\n",
       "      gpuType weight internalStorage externalStorage  price  \n",
       "0  Adreno 620    184          128 GB             NaN  27999  \n",
       "1  Adreno 620    184            64GB             NaN  24999  "
      ]
     },
     "execution_count": 5,
     "metadata": {},
     "output_type": "execute_result"
    }
   ],
   "source": [
    "# Exported the database table created as csv and read as pandas dataframe\n",
    "\n",
    "mobile_df = pd.read_csv('MobileData.csv')\n",
    "mobile_df.head(2)"
   ]
  },
  {
   "cell_type": "code",
   "execution_count": 6,
   "metadata": {},
   "outputs": [
    {
     "name": "stdout",
     "output_type": "stream",
     "text": [
      "<class 'pandas.core.frame.DataFrame'>\n",
      "RangeIndex: 10576 entries, 0 to 10575\n",
      "Data columns (total 19 columns):\n",
      " #   Column              Non-Null Count  Dtype \n",
      "---  ------              --------------  ----- \n",
      " 0   brandName           10574 non-null  object\n",
      " 1   os                  10298 non-null  object\n",
      " 2   osVersion           10218 non-null  object\n",
      " 3   screenSizeInInches  10561 non-null  object\n",
      " 4   displayType         9644 non-null   object\n",
      " 5   resolutionInPixels  10278 non-null  object\n",
      " 6   pixelDensity        9146 non-null   object\n",
      " 7   rearCamera          10505 non-null  object\n",
      " 8   frontCamera         10259 non-null  object\n",
      " 9   batteryCapacity     10507 non-null  object\n",
      " 10  fastCharging        2854 non-null   object\n",
      " 11  cpuSpeed            9241 non-null   object\n",
      " 12  processorCores      9986 non-null   object\n",
      " 13  ramCapacity         10393 non-null  object\n",
      " 14  gpuType             7524 non-null   object\n",
      " 15  weight              8310 non-null   object\n",
      " 16  internalStorage     10411 non-null  object\n",
      " 17  externalStorage     7864 non-null   object\n",
      " 18  price               10576 non-null  int64 \n",
      "dtypes: int64(1), object(18)\n",
      "memory usage: 1.5+ MB\n"
     ]
    }
   ],
   "source": [
    "# Getting the info of the data to chank for null values and datatypes\n",
    "\n",
    "mobile_df.info()"
   ]
  },
  {
   "cell_type": "code",
   "execution_count": 7,
   "metadata": {},
   "outputs": [],
   "source": [
    "# Filling all NaN values with 0\n",
    "\n",
    "mobile_df = mobile_df.fillna(np.nan)"
   ]
  },
  {
   "cell_type": "code",
   "execution_count": 8,
   "metadata": {},
   "outputs": [],
   "source": [
    "# Dropping all rows where brand name is not present \n",
    "\n",
    "mobile_df = mobile_df.loc[mobile_df.brandName!=0]"
   ]
  },
  {
   "cell_type": "code",
   "execution_count": 9,
   "metadata": {},
   "outputs": [],
   "source": [
    "# Correct misspelled word and add in the same category level\n",
    "# Keep the popular option in the category level and code all other options as 'Others'\n",
    "\n",
    "def get_binned_values(col_dict, colName, code_others):\n",
    "    \n",
    "    popular_values = [item for item in col_dict.keys()]\n",
    "\n",
    "    for key, value in col_dict.items():\n",
    "        mobile_df.loc[mobile_df[colName].str.lower().isin(value), colName] = key\n",
    "    \n",
    "    if code_others:\n",
    "        mobile_df.loc[~mobile_df[colName].isin(popular_values), colName] = 'Others'"
   ]
  },
  {
   "cell_type": "code",
   "execution_count": 10,
   "metadata": {},
   "outputs": [],
   "source": [
    "# Extract only the numerical values from a string\n",
    "\n",
    "def get_numerical_value(colName, pattern):\n",
    "    mobile_df[colName] = mobile_df[colName].apply(lambda x: float(re.findall(pattern, str(x))[0]) \n",
    "                                                  if len(re.findall(pattern, str(x))) != 0 else 0.0)"
   ]
  },
  {
   "cell_type": "code",
   "execution_count": 11,
   "metadata": {},
   "outputs": [],
   "source": [
    "# As TB,GB,MB and KB is attatched to some values, removing GB from the values.\n",
    "# Some value are in TB, MB and KB, converting to GB values.\n",
    "\n",
    "def convert_to_gb(series):\n",
    "    external_storage = []\n",
    "    for val in series:\n",
    "        converted_value = re.findall('\\d+', str(val))\n",
    "        if val == 0 or str(val).lower() == 'no' or len(converted_value)==0: \n",
    "            external_storage.append(0)\n",
    "        elif 'TB' in str(val):\n",
    "            external_storage.append(round(int(converted_value[0])*1000,2))\n",
    "        elif 'MB' in str(val):\n",
    "            external_storage.append(round(int(converted_value[0])*0.001,2))\n",
    "        elif 'KB' in str(val):\n",
    "            external_storage.append(round(int(converted_value[0])*0.000001,2))\n",
    "        else:\n",
    "            external_storage.append(int(re.findall('\\d+', str(val))[0]))\n",
    "    external_storage = pd.DataFrame({'storage_GB':external_storage})\n",
    "    return external_storage"
   ]
  },
  {
   "cell_type": "code",
   "execution_count": 12,
   "metadata": {},
   "outputs": [],
   "source": [
    "# add all the pixel values present in the rear and front camera\n",
    "\n",
    "def add_pixels(colName):\n",
    "    mobile_df[colName] = mobile_df[colName].apply(lambda x: re.findall('\\d*[.]?\\d+', str(x)))\n",
    "    mobile_df[colName] = mobile_df[colName].apply(lambda x: round(sum([float(elem) for elem in x]),2) \n",
    "                                                        if len(x) > 0 else np.nan)"
   ]
  },
  {
   "cell_type": "code",
   "execution_count": 13,
   "metadata": {},
   "outputs": [
    {
     "data": {
      "text/plain": [
       "array(['OnePlus', 'Redmi', 'Samsung', 'Realme', 'POCO', 'Oneplus',\n",
       "       'REALME', 'VIVO', 'Vivo', 'Reliance', 'Oppo', 'Apple', 'Poco',\n",
       "       'Motorola', 'Infinix', 'Xiaomi', 'Realme C2', 'iQOO', 'Asus',\n",
       "       'Centric', 'Nokia', 'Moto', 'samsung', 'Tecno', 'Huawei', 'vivo',\n",
       "       'Itel', 'Jio', 'Micromax', 'Honor', 'Blackberry', 'VIivo', 'Tenor',\n",
       "       'Black Shark', 'Lenovo', 'ZTE', 'Google', 'iQoo', 'LG', 'Coolpad',\n",
       "       'BLU', 'Hauwei', 'Sony', 'Nubia', 'Lava', 'Gionee', 'Karbonn',\n",
       "       'Microsoft', '10.or', 'BlackBerry', 'Unihertz', 'HTc', 'inFocus',\n",
       "       'Razer', 'Alcatel', 'vIVO', 'HTC', 'IQOO', 'Brandeis', 'Smartron',\n",
       "       'LeEco', 'Techno', 'Obi', 'Meizu', 'Nextbit', 'Mobiistar',\n",
       "       'Lephone', 'Jivi', 'Dete', 'Xolo', 'Sharp', 'Flipkart',\n",
       "       'Panasonic', 'Ringing Bells', 'Comio', 'InFocus', 'YU',\n",
       "       'Caterpillar', 'Lumigon', 'Swipe', 'comio', 'mPhone', 'Infocus',\n",
       "       'Cat', 'Anee', 'Xccess', 'Tambo', 'M Tech', 'Chilli', 'Lyf',\n",
       "       'Celkon', 'Fox Mobiles', 'Kodak', 'IKALL', 'LYF', 'i Smart',\n",
       "       'Kult', 'Sirin', 'Yota', '360', 'Intex', 'Detel', 'SAmsung',\n",
       "       'TP-LINK', 'Vernee', 'Elephone', 'Spice', 'Elari', 'Homtom',\n",
       "       'iVOOMi', 'Namotel', 'Videocon', 'iVoomi', 'Acer', 'Ziox', 'Nuu',\n",
       "       'iBall', 'Creo', 'Blu', 'Trio', 'Philips', 'Zen', 'Sansui', 'TCL',\n",
       "       'Darago', 'M-Tech', 'Reach', 'iVooMi', 'UR MOBILE', 'Ziox Mobiles',\n",
       "       'Vodafone', 'Mtech', 'Vaio', 'Innelo', 'iNTEX', 'TP Link', 'BQ',\n",
       "       'Ulefone', 'UMI', 'Zopo', 'ChampOne', 'Josh', 'Eccess', 'Docoss',\n",
       "       'Kenxindia', 'Archos', 'QiKU', 'OKWU', 'Mafe', 'MIcromax', 'Intel',\n",
       "       'Gfive', 'SeniorWorld', 'Aqua', nan, 'iBerry', 'WickedLeak',\n",
       "       'Onida', 'Phicomm', 'LEnovo', 'YAAO', 'UMIDIGI', 'INtex',\n",
       "       'Wickedleak', 'Kestrel', 'Hyve', 'Lenovo S5 Pro GT'], dtype=object)"
      ]
     },
     "execution_count": 13,
     "metadata": {},
     "output_type": "execute_result"
    }
   ],
   "source": [
    "mobile_df.brandName.unique()"
   ]
  },
  {
   "cell_type": "code",
   "execution_count": 14,
   "metadata": {},
   "outputs": [],
   "source": [
    "# Many brand values are duplicated because of captilization of letters. Binning those as one single brand.\n",
    "\n",
    "# Considering only major market players and binning all other brands as 'Others'\n",
    "\n",
    "brands_dict = {'OnePlus': ['oneplus'], 'Redmi': ['redmi'], 'Samsung': ['samsung'], 'Realme': ['realme', 'realme c2'], \n",
    "          'Poco': ['poco'], 'Nokia': ['nokia'], 'Vivo': ['vivo', 'viivo'], 'Oppo': ['oppo'], 'Apple': ['apple'],\n",
    "          'Motorola': ['motorola', 'moto'], 'Xiaomi': ['xiaomi'], 'Asus': ['asus'], 'Huawei': ['huawei', 'hauwei'],\n",
    "          'Honor': ['honor'], 'Google': ['google'], 'HTC': ['htc'], 'Lenovo':['lenovo', 'lenovo s5 pro gt']}\n",
    "\n",
    "get_binned_values(col_dict=brands_dict, colName='brandName', code_others=True)"
   ]
  },
  {
   "cell_type": "code",
   "execution_count": 15,
   "metadata": {},
   "outputs": [],
   "source": [
    "# Many OS names are misspelled.\n",
    "\n",
    "# Android and iOS are considered as major OS options and all other os options are marked as others\n",
    "\n",
    "os_dict = {'Android': ['android', 'android one', 'android go', 'android pie', 'andoid', 'android & flyme'], 'iOS': ['ios']}\n",
    "\n",
    "get_binned_values(col_dict=os_dict, colName='os', code_others=True)"
   ]
  },
  {
   "cell_type": "code",
   "execution_count": 16,
   "metadata": {},
   "outputs": [],
   "source": [
    "# extracting only the numerical value and removing any text attached to the value\n",
    "\n",
    "get_numerical_value(colName='osVersion', pattern='^\\d*[.]?\\d')"
   ]
  },
  {
   "cell_type": "code",
   "execution_count": 17,
   "metadata": {},
   "outputs": [],
   "source": [
    "# extracting only the numerical value and removing any text attached to the value\n",
    "\n",
    "get_numerical_value(colName='screenSizeInInches', pattern='^\\d*[.]?\\d')"
   ]
  },
  {
   "cell_type": "code",
   "execution_count": 18,
   "metadata": {},
   "outputs": [],
   "source": [
    "# Dropping display type as large number different gpu types \n",
    "# and also binning them don't make sense because each display is unique.\n",
    "\n",
    "mobile_df.drop(['displayType'], axis=1, inplace=True)"
   ]
  },
  {
   "cell_type": "code",
   "execution_count": 19,
   "metadata": {},
   "outputs": [],
   "source": [
    "# Dropping because ppi and screen inches are given.\n",
    "\n",
    "mobile_df.drop(['resolutionInPixels'], axis=1, inplace=True)"
   ]
  },
  {
   "cell_type": "code",
   "execution_count": 20,
   "metadata": {},
   "outputs": [],
   "source": [
    "# getting only numerical values. removing texts like ppi atached to it.\n",
    "\n",
    "get_numerical_value(colName='pixelDensity', pattern='\\d+')"
   ]
  },
  {
   "cell_type": "code",
   "execution_count": 21,
   "metadata": {},
   "outputs": [],
   "source": [
    "# adding all pixel values offered by each rear camera  \n",
    "\n",
    "add_pixels(colName='rearCamera')"
   ]
  },
  {
   "cell_type": "code",
   "execution_count": 22,
   "metadata": {},
   "outputs": [],
   "source": [
    "# adding all pixel values offered by each front camera \n",
    "\n",
    "add_pixels(colName='frontCamera')"
   ]
  },
  {
   "cell_type": "code",
   "execution_count": 23,
   "metadata": {},
   "outputs": [],
   "source": [
    "# Getting only numerical value. Removing texts like Mah attached to the values.\n",
    "\n",
    "get_numerical_value(colName='batteryCapacity', pattern='\\d+')"
   ]
  },
  {
   "cell_type": "code",
   "execution_count": 24,
   "metadata": {},
   "outputs": [],
   "source": [
    "# Replacing no for all values other than Yes\n",
    "\n",
    "fast_charging_dict = {'No': ['usb', 'no', 'na']}\n",
    "\n",
    "get_binned_values(col_dict=fast_charging_dict, colName='fastCharging', code_others=False)\n",
    "\n",
    "mobile_df.fastCharging = mobile_df.fastCharging.fillna('No')"
   ]
  },
  {
   "cell_type": "code",
   "execution_count": 25,
   "metadata": {},
   "outputs": [],
   "source": [
    "# calculating entire cpu speed by combining all speed offered by each core of the cpu\n",
    "\n",
    "cpu_speed = []\n",
    "for item in mobile_df.cpuSpeed:\n",
    "    temp = re.findall('\\d*[x]\\d*[.]?\\d+|\\d*[.]?\\d+', str(item).lower())\n",
    "    x = []\n",
    "    for elem in temp:\n",
    "        x1 = elem.split('x')\n",
    "        x.append(float(x1[0])*float(x1[1]) if len(x1)>1 else float(x1[0]))\n",
    "    if 'ghz' in str(item).lower():\n",
    "        cpu_speed.append(round(sum(x),2))\n",
    "    elif 'mhz' in str(item).lower():\n",
    "        cpu_speed.append(round(sum(x)*0.001,2))\n",
    "    else:\n",
    "        cpu_speed.append(np.nan)\n",
    "cpuSpeed = pd.DataFrame({'speed':cpu_speed})\n",
    "\n",
    "mobile_df.cpuSpeed = cpuSpeed['speed'].values"
   ]
  },
  {
   "cell_type": "code",
   "execution_count": 26,
   "metadata": {},
   "outputs": [],
   "source": [
    "# Binning misspelled words in to single processor types\n",
    "\n",
    "processor_cores_dict = {\n",
    "    'Octa': ['octa-core', 'octa', '1.8ghz octa', 'octa', 'octa-core', 'octa core', '1x2.84 ghz, 3x2.42 ghz,4x1.8 ghz'], \n",
    "    'Hexa': ['hexa-core', 'hexa', 'hexa core'],\n",
    "    'Quad': ['quad', 'quad-core'],\n",
    "    'Dual': ['dual', 'dual core'],\n",
    "    'Single': ['single']}\n",
    "\n",
    "get_binned_values(col_dict=processor_cores_dict, colName='processorCores', code_others=False)\n",
    "\n",
    "mobile_df.processorCores = mobile_df.processorCores.replace(to_replace='No', value=np.nan)"
   ]
  },
  {
   "cell_type": "code",
   "execution_count": 27,
   "metadata": {},
   "outputs": [],
   "source": [
    "#Getting only numeric values. Removing text like GB, MB attached to it and also converting all values in GB.\n",
    "\n",
    "mobile_df.ramCapacity = convert_to_gb(series=mobile_df.ramCapacity).values"
   ]
  },
  {
   "cell_type": "code",
   "execution_count": 28,
   "metadata": {},
   "outputs": [],
   "source": [
    "# Dropping gpu type as large number different gpu types \n",
    "# and also binning them don't make sense because each gpu is unique in ability\n",
    "\n",
    "mobile_df.drop(['gpuType'], axis=1, inplace=True)"
   ]
  },
  {
   "cell_type": "code",
   "execution_count": 29,
   "metadata": {},
   "outputs": [],
   "source": [
    "# Getting only numerical values. Removing text like 'g' attached to it\n",
    "\n",
    "get_numerical_value(colName='weight', pattern='^\\d*[.]?\\d')"
   ]
  },
  {
   "cell_type": "code",
   "execution_count": 30,
   "metadata": {},
   "outputs": [],
   "source": [
    "# Getting only numeric values. Removing text like GB, MB attached to it and also converting all values in GB.\n",
    "\n",
    "mobile_df.internalStorage = convert_to_gb(series=mobile_df.internalStorage).values"
   ]
  },
  {
   "cell_type": "code",
   "execution_count": 31,
   "metadata": {},
   "outputs": [],
   "source": [
    "# Getting only numeric values. Removing text like GB, MB attached to it and also converting all values in GB.\n",
    "\n",
    "mobile_df.externalStorage = convert_to_gb(series=mobile_df.externalStorage).values"
   ]
  },
  {
   "cell_type": "markdown",
   "metadata": {},
   "source": [
    "# Exploratory Data Analysis"
   ]
  },
  {
   "cell_type": "code",
   "execution_count": 32,
   "metadata": {},
   "outputs": [
    {
     "data": {
      "text/html": [
       "<div>\n",
       "<style scoped>\n",
       "    .dataframe tbody tr th:only-of-type {\n",
       "        vertical-align: middle;\n",
       "    }\n",
       "\n",
       "    .dataframe tbody tr th {\n",
       "        vertical-align: top;\n",
       "    }\n",
       "\n",
       "    .dataframe thead th {\n",
       "        text-align: right;\n",
       "    }\n",
       "</style>\n",
       "<table border=\"1\" class=\"dataframe\">\n",
       "  <thead>\n",
       "    <tr style=\"text-align: right;\">\n",
       "      <th></th>\n",
       "      <th>osVersion</th>\n",
       "      <th>screenSizeInInches</th>\n",
       "      <th>pixelDensity</th>\n",
       "      <th>rearCamera</th>\n",
       "      <th>frontCamera</th>\n",
       "      <th>batteryCapacity</th>\n",
       "      <th>cpuSpeed</th>\n",
       "      <th>ramCapacity</th>\n",
       "      <th>weight</th>\n",
       "      <th>internalStorage</th>\n",
       "      <th>externalStorage</th>\n",
       "      <th>price</th>\n",
       "    </tr>\n",
       "  </thead>\n",
       "  <tbody>\n",
       "    <tr>\n",
       "      <th>count</th>\n",
       "      <td>10576.000000</td>\n",
       "      <td>10576.000000</td>\n",
       "      <td>10576.000000</td>\n",
       "      <td>10457.000000</td>\n",
       "      <td>10143.000000</td>\n",
       "      <td>10576.000000</td>\n",
       "      <td>9044.000000</td>\n",
       "      <td>10576.000000</td>\n",
       "      <td>10576.000000</td>\n",
       "      <td>10576.000000</td>\n",
       "      <td>10576.000000</td>\n",
       "      <td>10576.000000</td>\n",
       "    </tr>\n",
       "    <tr>\n",
       "      <th>mean</th>\n",
       "      <td>7.285902</td>\n",
       "      <td>5.559351</td>\n",
       "      <td>308.833585</td>\n",
       "      <td>23.292682</td>\n",
       "      <td>10.832819</td>\n",
       "      <td>3337.416320</td>\n",
       "      <td>3.032614</td>\n",
       "      <td>3.935304</td>\n",
       "      <td>134.096946</td>\n",
       "      <td>67.770363</td>\n",
       "      <td>186.540847</td>\n",
       "      <td>20378.084058</td>\n",
       "    </tr>\n",
       "    <tr>\n",
       "      <th>std</th>\n",
       "      <td>2.502859</td>\n",
       "      <td>0.912661</td>\n",
       "      <td>149.546484</td>\n",
       "      <td>21.884681</td>\n",
       "      <td>8.150420</td>\n",
       "      <td>1002.441947</td>\n",
       "      <td>4.769147</td>\n",
       "      <td>11.294966</td>\n",
       "      <td>105.824411</td>\n",
       "      <td>78.706692</td>\n",
       "      <td>329.955861</td>\n",
       "      <td>26661.796253</td>\n",
       "    </tr>\n",
       "    <tr>\n",
       "      <th>min</th>\n",
       "      <td>0.000000</td>\n",
       "      <td>0.000000</td>\n",
       "      <td>0.000000</td>\n",
       "      <td>0.080000</td>\n",
       "      <td>0.080000</td>\n",
       "      <td>0.000000</td>\n",
       "      <td>0.000000</td>\n",
       "      <td>0.000000</td>\n",
       "      <td>0.000000</td>\n",
       "      <td>0.000000</td>\n",
       "      <td>0.000000</td>\n",
       "      <td>100.000000</td>\n",
       "    </tr>\n",
       "    <tr>\n",
       "      <th>25%</th>\n",
       "      <td>6.000000</td>\n",
       "      <td>5.000000</td>\n",
       "      <td>267.000000</td>\n",
       "      <td>12.000000</td>\n",
       "      <td>5.000000</td>\n",
       "      <td>2800.000000</td>\n",
       "      <td>1.400000</td>\n",
       "      <td>2.000000</td>\n",
       "      <td>125.000000</td>\n",
       "      <td>16.000000</td>\n",
       "      <td>0.000000</td>\n",
       "      <td>7500.000000</td>\n",
       "    </tr>\n",
       "    <tr>\n",
       "      <th>50%</th>\n",
       "      <td>7.100000</td>\n",
       "      <td>5.500000</td>\n",
       "      <td>326.000000</td>\n",
       "      <td>15.000000</td>\n",
       "      <td>8.000000</td>\n",
       "      <td>3300.000000</td>\n",
       "      <td>1.900000</td>\n",
       "      <td>3.000000</td>\n",
       "      <td>160.000000</td>\n",
       "      <td>32.000000</td>\n",
       "      <td>128.000000</td>\n",
       "      <td>12999.000000</td>\n",
       "    </tr>\n",
       "    <tr>\n",
       "      <th>75%</th>\n",
       "      <td>9.000000</td>\n",
       "      <td>6.300000</td>\n",
       "      <td>403.000000</td>\n",
       "      <td>24.000000</td>\n",
       "      <td>16.000000</td>\n",
       "      <td>4000.000000</td>\n",
       "      <td>2.300000</td>\n",
       "      <td>4.000000</td>\n",
       "      <td>180.000000</td>\n",
       "      <td>64.000000</td>\n",
       "      <td>256.000000</td>\n",
       "      <td>23990.000000</td>\n",
       "    </tr>\n",
       "    <tr>\n",
       "      <th>max</th>\n",
       "      <td>30.000000</td>\n",
       "      <td>7.800000</td>\n",
       "      <td>801.000000</td>\n",
       "      <td>168.300000</td>\n",
       "      <td>61.000000</td>\n",
       "      <td>10900.000000</td>\n",
       "      <td>80.800000</td>\n",
       "      <td>512.000000</td>\n",
       "      <td>4030.000000</td>\n",
       "      <td>512.000000</td>\n",
       "      <td>2000.000000</td>\n",
       "      <td>900000.000000</td>\n",
       "    </tr>\n",
       "  </tbody>\n",
       "</table>\n",
       "</div>"
      ],
      "text/plain": [
       "          osVersion  screenSizeInInches  pixelDensity    rearCamera  \\\n",
       "count  10576.000000        10576.000000  10576.000000  10457.000000   \n",
       "mean       7.285902            5.559351    308.833585     23.292682   \n",
       "std        2.502859            0.912661    149.546484     21.884681   \n",
       "min        0.000000            0.000000      0.000000      0.080000   \n",
       "25%        6.000000            5.000000    267.000000     12.000000   \n",
       "50%        7.100000            5.500000    326.000000     15.000000   \n",
       "75%        9.000000            6.300000    403.000000     24.000000   \n",
       "max       30.000000            7.800000    801.000000    168.300000   \n",
       "\n",
       "        frontCamera  batteryCapacity     cpuSpeed   ramCapacity        weight  \\\n",
       "count  10143.000000     10576.000000  9044.000000  10576.000000  10576.000000   \n",
       "mean      10.832819      3337.416320     3.032614      3.935304    134.096946   \n",
       "std        8.150420      1002.441947     4.769147     11.294966    105.824411   \n",
       "min        0.080000         0.000000     0.000000      0.000000      0.000000   \n",
       "25%        5.000000      2800.000000     1.400000      2.000000    125.000000   \n",
       "50%        8.000000      3300.000000     1.900000      3.000000    160.000000   \n",
       "75%       16.000000      4000.000000     2.300000      4.000000    180.000000   \n",
       "max       61.000000     10900.000000    80.800000    512.000000   4030.000000   \n",
       "\n",
       "       internalStorage  externalStorage          price  \n",
       "count     10576.000000     10576.000000   10576.000000  \n",
       "mean         67.770363       186.540847   20378.084058  \n",
       "std          78.706692       329.955861   26661.796253  \n",
       "min           0.000000         0.000000     100.000000  \n",
       "25%          16.000000         0.000000    7500.000000  \n",
       "50%          32.000000       128.000000   12999.000000  \n",
       "75%          64.000000       256.000000   23990.000000  \n",
       "max         512.000000      2000.000000  900000.000000  "
      ]
     },
     "execution_count": 32,
     "metadata": {},
     "output_type": "execute_result"
    }
   ],
   "source": [
    "# describing numerical features\n",
    "\n",
    "mobile_df.describe()"
   ]
  },
  {
   "cell_type": "code",
   "execution_count": 33,
   "metadata": {},
   "outputs": [
    {
     "data": {
      "text/html": [
       "<div>\n",
       "<style scoped>\n",
       "    .dataframe tbody tr th:only-of-type {\n",
       "        vertical-align: middle;\n",
       "    }\n",
       "\n",
       "    .dataframe tbody tr th {\n",
       "        vertical-align: top;\n",
       "    }\n",
       "\n",
       "    .dataframe thead th {\n",
       "        text-align: right;\n",
       "    }\n",
       "</style>\n",
       "<table border=\"1\" class=\"dataframe\">\n",
       "  <thead>\n",
       "    <tr style=\"text-align: right;\">\n",
       "      <th></th>\n",
       "      <th>brandName</th>\n",
       "      <th>os</th>\n",
       "      <th>fastCharging</th>\n",
       "      <th>processorCores</th>\n",
       "    </tr>\n",
       "  </thead>\n",
       "  <tbody>\n",
       "    <tr>\n",
       "      <th>count</th>\n",
       "      <td>10576</td>\n",
       "      <td>10576</td>\n",
       "      <td>10576</td>\n",
       "      <td>9986</td>\n",
       "    </tr>\n",
       "    <tr>\n",
       "      <th>unique</th>\n",
       "      <td>18</td>\n",
       "      <td>3</td>\n",
       "      <td>2</td>\n",
       "      <td>6</td>\n",
       "    </tr>\n",
       "    <tr>\n",
       "      <th>top</th>\n",
       "      <td>Others</td>\n",
       "      <td>Android</td>\n",
       "      <td>No</td>\n",
       "      <td>Octa</td>\n",
       "    </tr>\n",
       "    <tr>\n",
       "      <th>freq</th>\n",
       "      <td>4074</td>\n",
       "      <td>9759</td>\n",
       "      <td>7778</td>\n",
       "      <td>6496</td>\n",
       "    </tr>\n",
       "  </tbody>\n",
       "</table>\n",
       "</div>"
      ],
      "text/plain": [
       "       brandName       os fastCharging processorCores\n",
       "count      10576    10576        10576           9986\n",
       "unique        18        3            2              6\n",
       "top       Others  Android           No           Octa\n",
       "freq        4074     9759         7778           6496"
      ]
     },
     "execution_count": 33,
     "metadata": {},
     "output_type": "execute_result"
    }
   ],
   "source": [
    "mobile_df.describe(include=object)"
   ]
  },
  {
   "cell_type": "code",
   "execution_count": 34,
   "metadata": {},
   "outputs": [],
   "source": [
    "mobile_df.drop_duplicates(inplace=True)"
   ]
  },
  {
   "cell_type": "code",
   "execution_count": 35,
   "metadata": {},
   "outputs": [
    {
     "data": {
      "text/plain": [
       "(2328, 16)"
      ]
     },
     "execution_count": 35,
     "metadata": {},
     "output_type": "execute_result"
    }
   ],
   "source": [
    "mobile_df.shape"
   ]
  },
  {
   "cell_type": "code",
   "execution_count": 36,
   "metadata": {},
   "outputs": [],
   "source": [
    "# 0 value in this column represents missing values. replacing with nan values.\n",
    "\n",
    "for col in ['osVersion', 'screenSizeInInches', 'pixelDensity', 'batteryCapacity', 'cpuSpeed', 'ramCapacity', \n",
    "            'weight', 'internalStorage']:\n",
    "    \n",
    "    mobile_df[col] = mobile_df[col].apply(lambda x: np.nan if (x == 0 or x == 0.0) else x)"
   ]
  },
  {
   "cell_type": "code",
   "execution_count": 37,
   "metadata": {},
   "outputs": [],
   "source": [
    "# calculating percentage of missing values\n",
    "\n",
    "def missing_val_perc(df):\n",
    "    for col in df.columns:\n",
    "        print(\"Percentage of missing values in \" + col + \": \" + str(round(mobile_df[col].isna().sum()/mobile_df.shape[0],2)))"
   ]
  },
  {
   "cell_type": "code",
   "execution_count": 38,
   "metadata": {},
   "outputs": [
    {
     "name": "stdout",
     "output_type": "stream",
     "text": [
      "Percentage of missing values in brandName: 0.0\n",
      "Percentage of missing values in os: 0.0\n",
      "Percentage of missing values in osVersion: 0.05\n",
      "Percentage of missing values in screenSizeInInches: 0.0\n",
      "Percentage of missing values in pixelDensity: 0.16\n",
      "Percentage of missing values in rearCamera: 0.02\n",
      "Percentage of missing values in frontCamera: 0.06\n",
      "Percentage of missing values in batteryCapacity: 0.01\n",
      "Percentage of missing values in fastCharging: 0.0\n",
      "Percentage of missing values in cpuSpeed: 0.14\n",
      "Percentage of missing values in processorCores: 0.07\n",
      "Percentage of missing values in ramCapacity: 0.03\n",
      "Percentage of missing values in weight: 0.28\n",
      "Percentage of missing values in internalStorage: 0.03\n",
      "Percentage of missing values in externalStorage: 0.0\n",
      "Percentage of missing values in price: 0.0\n"
     ]
    }
   ],
   "source": [
    "missing_val_perc(df=mobile_df)"
   ]
  },
  {
   "cell_type": "code",
   "execution_count": 39,
   "metadata": {},
   "outputs": [],
   "source": [
    "# Dropping rows having missing values more than 5\n",
    "\n",
    "index_nums = [index for index, val in enumerate(mobile_df.isna().sum(axis=1)) if val>4]\n",
    "mobile_df.drop(mobile_df.index[index_nums], inplace=True)"
   ]
  },
  {
   "cell_type": "code",
   "execution_count": 40,
   "metadata": {},
   "outputs": [
    {
     "data": {
      "text/plain": [
       "(2228, 16)"
      ]
     },
     "execution_count": 40,
     "metadata": {},
     "output_type": "execute_result"
    }
   ],
   "source": [
    "mobile_df.shape"
   ]
  },
  {
   "cell_type": "code",
   "execution_count": 41,
   "metadata": {},
   "outputs": [],
   "source": [
    "def cat_col_box_plot(colName, figSize):\n",
    "    fig, ax = plt.subplots(figsize=figSize)\n",
    "    fig = sns.boxplot(x=colName, y=\"price\", data=mobile_df)\n",
    "    fig.axis(ymin=0, ymax=200000)"
   ]
  },
  {
   "cell_type": "code",
   "execution_count": 42,
   "metadata": {},
   "outputs": [
    {
     "data": {
      "image/png": "[encoded data removed]",
      "text/plain": [
       "<Figure size 1080x360 with 1 Axes>"
      ]
     },
     "metadata": {
      "needs_background": "light"
     },
     "output_type": "display_data"
    }
   ],
   "source": [
    "cat_col_box_plot(colName='brandName', figSize=(15,5))"
   ]
  },
  {
   "cell_type": "code",
   "execution_count": 43,
   "metadata": {},
   "outputs": [],
   "source": [
    "mobile_df = mobile_df[~((mobile_df.brandName=='OnePlus')&(mobile_df.price<20000))]"
   ]
  },
  {
   "cell_type": "code",
   "execution_count": 44,
   "metadata": {},
   "outputs": [],
   "source": [
    "mobile_df = mobile_df[~((mobile_df.brandName=='Others')&(mobile_df.price>75000))]"
   ]
  },
  {
   "cell_type": "code",
   "execution_count": 45,
   "metadata": {},
   "outputs": [
    {
     "data": {
      "image/png": "[encoded data removed]",
      "text/plain": [
       "<Figure size 504x360 with 1 Axes>"
      ]
     },
     "metadata": {
      "needs_background": "light"
     },
     "output_type": "display_data"
    }
   ],
   "source": [
    "cat_col_box_plot(colName='os', figSize=(7,5))"
   ]
  },
  {
   "cell_type": "code",
   "execution_count": 46,
   "metadata": {},
   "outputs": [],
   "source": [
    "mobile_df = mobile_df[~((mobile_df.os=='Others')&(mobile_df.price>20000))]"
   ]
  },
  {
   "cell_type": "code",
   "execution_count": 47,
   "metadata": {},
   "outputs": [
    {
     "data": {
      "image/png": "[encoded data removed]",
      "text/plain": [
       "<Figure size 576x360 with 1 Axes>"
      ]
     },
     "metadata": {
      "needs_background": "light"
     },
     "output_type": "display_data"
    }
   ],
   "source": [
    "cat_col_box_plot('processorCores', (8,5))"
   ]
  },
  {
   "cell_type": "code",
   "execution_count": 48,
   "metadata": {},
   "outputs": [],
   "source": [
    "mobile_df = mobile_df[~((mobile_df.processorCores=='Single')&(mobile_df.price>5000))]"
   ]
  },
  {
   "cell_type": "code",
   "execution_count": 49,
   "metadata": {},
   "outputs": [
    {
     "data": {
      "text/plain": [
       "<matplotlib.axes._subplots.AxesSubplot at 0x23f13380d08>"
      ]
     },
     "execution_count": 49,
     "metadata": {},
     "output_type": "execute_result"
    },
    {
     "data": {
      "image/png": "[encoded data removed]",
      "text/plain": [
       "<Figure size 432x288 with 1 Axes>"
      ]
     },
     "metadata": {
      "needs_background": "light"
     },
     "output_type": "display_data"
    }
   ],
   "source": [
    "sns.scatterplot(mobile_df.osVersion, mobile_df.price, hue=mobile_df.os)"
   ]
  },
  {
   "cell_type": "code",
   "execution_count": 50,
   "metadata": {},
   "outputs": [
    {
     "data": {
      "text/plain": [
       "<matplotlib.axes._subplots.AxesSubplot at 0x23f1367e088>"
      ]
     },
     "execution_count": 50,
     "metadata": {},
     "output_type": "execute_result"
    },
    {
     "data": {
      "image/png": "[encoded data removed]",
      "text/plain": [
       "<Figure size 1080x360 with 2 Axes>"
      ]
     },
     "metadata": {
      "needs_background": "light"
     },
     "output_type": "display_data"
    }
   ],
   "source": [
    "fig, ax = plt.subplots(1,2, figsize=(15,5))\n",
    "sns.scatterplot(mobile_df.screenSizeInInches, mobile_df.price, ax=ax[0])\n",
    "sns.boxplot([mobile_df.screenSizeInInches], ax=ax[1])"
   ]
  },
  {
   "cell_type": "code",
   "execution_count": 51,
   "metadata": {},
   "outputs": [
    {
     "data": {
      "text/plain": [
       "<matplotlib.axes._subplots.AxesSubplot at 0x23f13720d08>"
      ]
     },
     "execution_count": 51,
     "metadata": {},
     "output_type": "execute_result"
    },
    {
     "data": {
      "image/png": "[encoded data removed]",
      "text/plain": [
       "<Figure size 432x288 with 1 Axes>"
      ]
     },
     "metadata": {
      "needs_background": "light"
     },
     "output_type": "display_data"
    }
   ],
   "source": [
    "screensize_3 = mobile_df[mobile_df.screenSizeInInches<=3]\n",
    "sns.scatterplot(screensize_3.screenSizeInInches, screensize_3.price)"
   ]
  },
  {
   "cell_type": "code",
   "execution_count": 52,
   "metadata": {},
   "outputs": [],
   "source": [
    "mobile_df = mobile_df[~((mobile_df.screenSizeInInches<=3)&(mobile_df.price>10000))]"
   ]
  },
  {
   "cell_type": "code",
   "execution_count": 53,
   "metadata": {},
   "outputs": [
    {
     "data": {
      "text/plain": [
       "<matplotlib.axes._subplots.AxesSubplot at 0x23f133e40c8>"
      ]
     },
     "execution_count": 53,
     "metadata": {},
     "output_type": "execute_result"
    },
    {
     "data": {
      "image/png": "[encoded data removed]",
      "text/plain": [
       "<Figure size 432x288 with 1 Axes>"
      ]
     },
     "metadata": {
      "needs_background": "light"
     },
     "output_type": "display_data"
    }
   ],
   "source": [
    "sns.scatterplot(x='ramCapacity', y=\"price\", data=mobile_df)"
   ]
  },
  {
   "cell_type": "code",
   "execution_count": 54,
   "metadata": {},
   "outputs": [],
   "source": [
    "mobile_df = mobile_df[~(mobile_df.ramCapacity>400)]"
   ]
  },
  {
   "cell_type": "code",
   "execution_count": 55,
   "metadata": {},
   "outputs": [
    {
     "data": {
      "image/png": "[encoded data removed]",
      "text/plain": [
       "<Figure size 432x288 with 1 Axes>"
      ]
     },
     "metadata": {
      "needs_background": "light"
     },
     "output_type": "display_data"
    }
   ],
   "source": [
    "fig = sns.scatterplot(mobile_df.ramCapacity, mobile_df.price)"
   ]
  },
  {
   "cell_type": "code",
   "execution_count": 56,
   "metadata": {},
   "outputs": [
    {
     "data": {
      "text/plain": [
       "<matplotlib.axes._subplots.AxesSubplot at 0x23f12b91f48>"
      ]
     },
     "execution_count": 56,
     "metadata": {},
     "output_type": "execute_result"
    },
    {
     "data": {
      "image/png": "[encoded data removed]",
      "text/plain": [
       "<Figure size 432x288 with 1 Axes>"
      ]
     },
     "metadata": {
      "needs_background": "light"
     },
     "output_type": "display_data"
    }
   ],
   "source": [
    "sns.scatterplot(mobile_df.cpuSpeed, mobile_df.price)"
   ]
  },
  {
   "cell_type": "code",
   "execution_count": 57,
   "metadata": {},
   "outputs": [],
   "source": [
    "mobile_df = mobile_df[~(mobile_df.cpuSpeed>30)]"
   ]
  },
  {
   "cell_type": "code",
   "execution_count": 58,
   "metadata": {},
   "outputs": [
    {
     "data": {
      "text/plain": [
       "<matplotlib.axes._subplots.AxesSubplot at 0x23f134cef88>"
      ]
     },
     "execution_count": 58,
     "metadata": {},
     "output_type": "execute_result"
    },
    {
     "data": {
      "image/png": "[encoded data removed]",
      "text/plain": [
       "<Figure size 432x288 with 1 Axes>"
      ]
     },
     "metadata": {
      "needs_background": "light"
     },
     "output_type": "display_data"
    }
   ],
   "source": [
    "sns.scatterplot(mobile_df.pixelDensity, mobile_df.price)"
   ]
  },
  {
   "cell_type": "code",
   "execution_count": 59,
   "metadata": {},
   "outputs": [
    {
     "data": {
      "text/plain": [
       "<matplotlib.axes._subplots.AxesSubplot at 0x23f13295a08>"
      ]
     },
     "execution_count": 59,
     "metadata": {},
     "output_type": "execute_result"
    },
    {
     "data": {
      "image/png": "[encoded data removed]",
      "text/plain": [
       "<Figure size 432x288 with 1 Axes>"
      ]
     },
     "metadata": {
      "needs_background": "light"
     },
     "output_type": "display_data"
    }
   ],
   "source": [
    "sns.scatterplot(mobile_df.rearCamera, mobile_df.price)"
   ]
  },
  {
   "cell_type": "code",
   "execution_count": 60,
   "metadata": {},
   "outputs": [
    {
     "data": {
      "text/plain": [
       "<matplotlib.axes._subplots.AxesSubplot at 0x23f133a2708>"
      ]
     },
     "execution_count": 60,
     "metadata": {},
     "output_type": "execute_result"
    },
    {
     "data": {
      "image/png": "[encoded data removed]",
      "text/plain": [
       "<Figure size 432x288 with 1 Axes>"
      ]
     },
     "metadata": {
      "needs_background": "light"
     },
     "output_type": "display_data"
    }
   ],
   "source": [
    "sns.scatterplot(mobile_df.frontCamera, mobile_df.price)"
   ]
  },
  {
   "cell_type": "code",
   "execution_count": 61,
   "metadata": {},
   "outputs": [
    {
     "data": {
      "text/plain": [
       "<matplotlib.axes._subplots.AxesSubplot at 0x23f13220e08>"
      ]
     },
     "execution_count": 61,
     "metadata": {},
     "output_type": "execute_result"
    },
    {
     "data": {
      "image/png": "[encoded data removed]",
      "text/plain": [
       "<Figure size 432x288 with 1 Axes>"
      ]
     },
     "metadata": {
      "needs_background": "light"
     },
     "output_type": "display_data"
    }
   ],
   "source": [
    "sns.scatterplot(mobile_df.batteryCapacity, mobile_df.price)"
   ]
  },
  {
   "cell_type": "code",
   "execution_count": 62,
   "metadata": {},
   "outputs": [],
   "source": [
    "mobile_df = mobile_df[~(mobile_df.batteryCapacity>8000)]"
   ]
  },
  {
   "cell_type": "code",
   "execution_count": 63,
   "metadata": {},
   "outputs": [
    {
     "data": {
      "text/plain": [
       "<matplotlib.axes._subplots.AxesSubplot at 0x23f12ca2e88>"
      ]
     },
     "execution_count": 63,
     "metadata": {},
     "output_type": "execute_result"
    },
    {
     "data": {
      "image/png": "[encoded data removed]",
      "text/plain": [
       "<Figure size 432x288 with 1 Axes>"
      ]
     },
     "metadata": {
      "needs_background": "light"
     },
     "output_type": "display_data"
    }
   ],
   "source": [
    "sns.scatterplot(mobile_df.internalStorage, mobile_df.price)"
   ]
  },
  {
   "cell_type": "code",
   "execution_count": 64,
   "metadata": {},
   "outputs": [],
   "source": [
    "mobile_df = mobile_df[~((mobile_df.internalStorage>400)&(mobile_df.price<25000))]"
   ]
  },
  {
   "cell_type": "code",
   "execution_count": 65,
   "metadata": {},
   "outputs": [
    {
     "data": {
      "text/plain": [
       "<matplotlib.axes._subplots.AxesSubplot at 0x23f1351a648>"
      ]
     },
     "execution_count": 65,
     "metadata": {},
     "output_type": "execute_result"
    },
    {
     "data": {
      "image/png": "[encoded data removed]",
      "text/plain": [
       "<Figure size 432x288 with 1 Axes>"
      ]
     },
     "metadata": {
      "needs_background": "light"
     },
     "output_type": "display_data"
    }
   ],
   "source": [
    "sns.scatterplot(mobile_df.externalStorage, mobile_df.price)"
   ]
  },
  {
   "cell_type": "code",
   "execution_count": 66,
   "metadata": {},
   "outputs": [
    {
     "data": {
      "text/plain": [
       "<matplotlib.axes._subplots.AxesSubplot at 0x23f1339bd08>"
      ]
     },
     "execution_count": 66,
     "metadata": {},
     "output_type": "execute_result"
    },
    {
     "data": {
      "image/png": "[encoded data removed]",
      "text/plain": [
       "<Figure size 432x288 with 1 Axes>"
      ]
     },
     "metadata": {
      "needs_background": "light"
     },
     "output_type": "display_data"
    }
   ],
   "source": [
    "sns.scatterplot(mobile_df.weight, mobile_df.price)"
   ]
  },
  {
   "cell_type": "code",
   "execution_count": 67,
   "metadata": {},
   "outputs": [],
   "source": [
    "mobile_df = mobile_df[~(mobile_df.weight>1000)]"
   ]
  },
  {
   "cell_type": "code",
   "execution_count": 68,
   "metadata": {},
   "outputs": [],
   "source": [
    "brandName_cat = pd.Categorical(mobile_df.brandName, \n",
    "                                    categories = ['Samsung', 'Apple', 'Google', 'Huawei', 'OnePlus', 'Xiaomi',\n",
    "                                                  'Redmi', 'Realme', 'Poco', 'Oppo', 'Vivo', \n",
    "                                                  'Asus', 'Nokia', 'Lenovo', 'HTC', 'Motorola', \n",
    "                                                  'Honor', ''], ordered=True)\n",
    "brandName_cat_labels, _ = pd.factorize(brandName_cat, sort=True)\n",
    "mobile_df.brandName = brandName_cat_labels"
   ]
  },
  {
   "cell_type": "code",
   "execution_count": 69,
   "metadata": {},
   "outputs": [],
   "source": [
    "# Label encoding the brand name and os feature\n",
    "\n",
    "label_encoder = LabelEncoder()\n",
    "\n",
    "mobile_df['os'] = label_encoder.fit_transform(mobile_df['os'])"
   ]
  },
  {
   "cell_type": "code",
   "execution_count": 70,
   "metadata": {},
   "outputs": [],
   "source": [
    "# binary encoding the fast charging \n",
    "\n",
    "mobile_df.fastCharging = mobile_df.fastCharging.map({'Yes':1, 'No':0})"
   ]
  },
  {
   "cell_type": "code",
   "execution_count": 71,
   "metadata": {},
   "outputs": [],
   "source": [
    "# Ordinal encoding the processorCores\n",
    "\n",
    "processor_core_cat = pd.Categorical(mobile_df.processorCores, \n",
    "                                    categories = ['Deca', 'Octa', 'Hexa', 'Quad', 'Dual', 'Single'], ordered=True)\n",
    "processor_core_labels, _ = pd.factorize(processor_core_cat, sort=True)\n",
    "mobile_df.processorCores = processor_core_labels\n",
    "\n",
    "mobile_df.processorCores = mobile_df.processorCores.replace(to_replace=-1, value=np.nan)"
   ]
  },
  {
   "cell_type": "code",
   "execution_count": 72,
   "metadata": {},
   "outputs": [],
   "source": [
    "for col in ['brandName', 'os', 'fastCharging', 'processorCores']:\n",
    "    mobile_df[col] = mobile_df[col].astype('category')"
   ]
  },
  {
   "cell_type": "code",
   "execution_count": 73,
   "metadata": {},
   "outputs": [],
   "source": [
    "mobile_df_imputed = mobile_df.copy(deep=True)"
   ]
  },
  {
   "cell_type": "code",
   "execution_count": 74,
   "metadata": {},
   "outputs": [
    {
     "name": "stdout",
     "output_type": "stream",
     "text": [
      "Imputing row 1/2209 with 0 missing, elapsed time: 0.691\n",
      "Imputing row 101/2209 with 0 missing, elapsed time: 0.693\n",
      "Imputing row 201/2209 with 1 missing, elapsed time: 0.694\n",
      "Imputing row 301/2209 with 2 missing, elapsed time: 0.695\n",
      "Imputing row 401/2209 with 3 missing, elapsed time: 0.697\n",
      "Imputing row 501/2209 with 0 missing, elapsed time: 0.698\n",
      "Imputing row 601/2209 with 0 missing, elapsed time: 0.700\n",
      "Imputing row 701/2209 with 0 missing, elapsed time: 0.701\n",
      "Imputing row 801/2209 with 1 missing, elapsed time: 0.702\n",
      "Imputing row 901/2209 with 0 missing, elapsed time: 0.704\n",
      "Imputing row 1001/2209 with 0 missing, elapsed time: 0.706\n",
      "Imputing row 1101/2209 with 0 missing, elapsed time: 0.708\n",
      "Imputing row 1201/2209 with 1 missing, elapsed time: 0.710\n",
      "Imputing row 1301/2209 with 2 missing, elapsed time: 0.712\n",
      "Imputing row 1401/2209 with 0 missing, elapsed time: 0.714\n",
      "Imputing row 1501/2209 with 0 missing, elapsed time: 0.716\n",
      "Imputing row 1601/2209 with 0 missing, elapsed time: 0.718\n",
      "Imputing row 1701/2209 with 0 missing, elapsed time: 0.719\n",
      "Imputing row 1801/2209 with 0 missing, elapsed time: 0.722\n",
      "Imputing row 1901/2209 with 0 missing, elapsed time: 0.723\n",
      "Imputing row 2001/2209 with 0 missing, elapsed time: 0.725\n",
      "Imputing row 2101/2209 with 1 missing, elapsed time: 0.727\n",
      "Imputing row 2201/2209 with 0 missing, elapsed time: 0.729\n"
     ]
    }
   ],
   "source": [
    "knn_imputer = KNN()\n",
    "mobile_df_imputed = knn_imputer.fit_transform(mobile_df_imputed)"
   ]
  },
  {
   "cell_type": "code",
   "execution_count": 75,
   "metadata": {},
   "outputs": [],
   "source": [
    "mobile_df = pd.DataFrame(mobile_df_imputed, columns=mobile_df.columns)"
   ]
  },
  {
   "cell_type": "code",
   "execution_count": 76,
   "metadata": {},
   "outputs": [],
   "source": [
    "mobile_df_int = mobile_df[['brandName', 'os', 'fastCharging', 'processorCores', 'pixelDensity', 'batteryCapacity', \n",
    "                           'weight', 'price']].apply(lambda x: x.astype(int))\n",
    "mobile_float = mobile_df.drop(['brandName', 'os', 'fastCharging', 'processorCores', 'pixelDensity', 'batteryCapacity', \n",
    "                               'weight', 'price'], axis=1)\n",
    "mobile_df = pd.concat([mobile_float, mobile_df_int], axis=1)"
   ]
  },
  {
   "cell_type": "markdown",
   "metadata": {},
   "source": [
    "# Model Building"
   ]
  },
  {
   "cell_type": "code",
   "execution_count": 77,
   "metadata": {},
   "outputs": [],
   "source": [
    "mobile_final_df = mobile_df.copy(deep=True)"
   ]
  },
  {
   "cell_type": "code",
   "execution_count": 78,
   "metadata": {},
   "outputs": [
    {
     "data": {
      "text/html": [
       "<div>\n",
       "<style scoped>\n",
       "    .dataframe tbody tr th:only-of-type {\n",
       "        vertical-align: middle;\n",
       "    }\n",
       "\n",
       "    .dataframe tbody tr th {\n",
       "        vertical-align: top;\n",
       "    }\n",
       "\n",
       "    .dataframe thead th {\n",
       "        text-align: right;\n",
       "    }\n",
       "</style>\n",
       "<table border=\"1\" class=\"dataframe\">\n",
       "  <thead>\n",
       "    <tr style=\"text-align: right;\">\n",
       "      <th></th>\n",
       "      <th>osVersion</th>\n",
       "      <th>screenSizeInInches</th>\n",
       "      <th>rearCamera</th>\n",
       "      <th>frontCamera</th>\n",
       "      <th>cpuSpeed</th>\n",
       "      <th>ramCapacity</th>\n",
       "      <th>internalStorage</th>\n",
       "      <th>externalStorage</th>\n",
       "      <th>brandName</th>\n",
       "      <th>os</th>\n",
       "      <th>fastCharging</th>\n",
       "      <th>processorCores</th>\n",
       "      <th>pixelDensity</th>\n",
       "      <th>batteryCapacity</th>\n",
       "      <th>weight</th>\n",
       "      <th>price</th>\n",
       "    </tr>\n",
       "  </thead>\n",
       "  <tbody>\n",
       "    <tr>\n",
       "      <th>0</th>\n",
       "      <td>10.0</td>\n",
       "      <td>6.4</td>\n",
       "      <td>63.0</td>\n",
       "      <td>32.0</td>\n",
       "      <td>15.4</td>\n",
       "      <td>8.0</td>\n",
       "      <td>128.0</td>\n",
       "      <td>0.0</td>\n",
       "      <td>4</td>\n",
       "      <td>0</td>\n",
       "      <td>1</td>\n",
       "      <td>1</td>\n",
       "      <td>402</td>\n",
       "      <td>4115</td>\n",
       "      <td>184</td>\n",
       "      <td>27999</td>\n",
       "    </tr>\n",
       "    <tr>\n",
       "      <th>1</th>\n",
       "      <td>10.0</td>\n",
       "      <td>6.4</td>\n",
       "      <td>63.0</td>\n",
       "      <td>32.0</td>\n",
       "      <td>15.4</td>\n",
       "      <td>6.0</td>\n",
       "      <td>64.0</td>\n",
       "      <td>0.0</td>\n",
       "      <td>4</td>\n",
       "      <td>0</td>\n",
       "      <td>1</td>\n",
       "      <td>1</td>\n",
       "      <td>402</td>\n",
       "      <td>4115</td>\n",
       "      <td>184</td>\n",
       "      <td>24999</td>\n",
       "    </tr>\n",
       "    <tr>\n",
       "      <th>2</th>\n",
       "      <td>10.0</td>\n",
       "      <td>6.4</td>\n",
       "      <td>63.0</td>\n",
       "      <td>32.0</td>\n",
       "      <td>15.4</td>\n",
       "      <td>12.0</td>\n",
       "      <td>256.0</td>\n",
       "      <td>0.0</td>\n",
       "      <td>4</td>\n",
       "      <td>0</td>\n",
       "      <td>1</td>\n",
       "      <td>1</td>\n",
       "      <td>402</td>\n",
       "      <td>4115</td>\n",
       "      <td>184</td>\n",
       "      <td>29999</td>\n",
       "    </tr>\n",
       "    <tr>\n",
       "      <th>3</th>\n",
       "      <td>10.0</td>\n",
       "      <td>6.6</td>\n",
       "      <td>63.0</td>\n",
       "      <td>16.0</td>\n",
       "      <td>15.4</td>\n",
       "      <td>6.0</td>\n",
       "      <td>128.0</td>\n",
       "      <td>0.0</td>\n",
       "      <td>6</td>\n",
       "      <td>0</td>\n",
       "      <td>1</td>\n",
       "      <td>1</td>\n",
       "      <td>395</td>\n",
       "      <td>5020</td>\n",
       "      <td>209</td>\n",
       "      <td>16999</td>\n",
       "    </tr>\n",
       "    <tr>\n",
       "      <th>4</th>\n",
       "      <td>10.0</td>\n",
       "      <td>6.6</td>\n",
       "      <td>63.0</td>\n",
       "      <td>16.0</td>\n",
       "      <td>15.4</td>\n",
       "      <td>6.0</td>\n",
       "      <td>64.0</td>\n",
       "      <td>0.0</td>\n",
       "      <td>6</td>\n",
       "      <td>0</td>\n",
       "      <td>1</td>\n",
       "      <td>1</td>\n",
       "      <td>395</td>\n",
       "      <td>5020</td>\n",
       "      <td>209</td>\n",
       "      <td>13999</td>\n",
       "    </tr>\n",
       "  </tbody>\n",
       "</table>\n",
       "</div>"
      ],
      "text/plain": [
       "   osVersion  screenSizeInInches  rearCamera  frontCamera  cpuSpeed  \\\n",
       "0       10.0                 6.4        63.0         32.0      15.4   \n",
       "1       10.0                 6.4        63.0         32.0      15.4   \n",
       "2       10.0                 6.4        63.0         32.0      15.4   \n",
       "3       10.0                 6.6        63.0         16.0      15.4   \n",
       "4       10.0                 6.6        63.0         16.0      15.4   \n",
       "\n",
       "   ramCapacity  internalStorage  externalStorage  brandName  os  fastCharging  \\\n",
       "0          8.0            128.0              0.0          4   0             1   \n",
       "1          6.0             64.0              0.0          4   0             1   \n",
       "2         12.0            256.0              0.0          4   0             1   \n",
       "3          6.0            128.0              0.0          6   0             1   \n",
       "4          6.0             64.0              0.0          6   0             1   \n",
       "\n",
       "   processorCores  pixelDensity  batteryCapacity  weight  price  \n",
       "0               1           402             4115     184  27999  \n",
       "1               1           402             4115     184  24999  \n",
       "2               1           402             4115     184  29999  \n",
       "3               1           395             5020     209  16999  \n",
       "4               1           395             5020     209  13999  "
      ]
     },
     "execution_count": 78,
     "metadata": {},
     "output_type": "execute_result"
    }
   ],
   "source": [
    "mobile_final_df.head()"
   ]
  },
  {
   "cell_type": "code",
   "execution_count": 79,
   "metadata": {},
   "outputs": [
    {
     "name": "stdout",
     "output_type": "stream",
     "text": [
      "<class 'pandas.core.frame.DataFrame'>\n",
      "RangeIndex: 2209 entries, 0 to 2208\n",
      "Data columns (total 16 columns):\n",
      " #   Column              Non-Null Count  Dtype  \n",
      "---  ------              --------------  -----  \n",
      " 0   osVersion           2209 non-null   float64\n",
      " 1   screenSizeInInches  2209 non-null   float64\n",
      " 2   rearCamera          2209 non-null   float64\n",
      " 3   frontCamera         2209 non-null   float64\n",
      " 4   cpuSpeed            2209 non-null   float64\n",
      " 5   ramCapacity         2209 non-null   float64\n",
      " 6   internalStorage     2209 non-null   float64\n",
      " 7   externalStorage     2209 non-null   float64\n",
      " 8   brandName           2209 non-null   int32  \n",
      " 9   os                  2209 non-null   int32  \n",
      " 10  fastCharging        2209 non-null   int32  \n",
      " 11  processorCores      2209 non-null   int32  \n",
      " 12  pixelDensity        2209 non-null   int32  \n",
      " 13  batteryCapacity     2209 non-null   int32  \n",
      " 14  weight              2209 non-null   int32  \n",
      " 15  price               2209 non-null   int32  \n",
      "dtypes: float64(8), int32(8)\n",
      "memory usage: 207.2 KB\n"
     ]
    }
   ],
   "source": [
    "mobile_final_df.info()"
   ]
  },
  {
   "cell_type": "code",
   "execution_count": 80,
   "metadata": {},
   "outputs": [],
   "source": [
    "for col in ['brandName', 'os', 'fastCharging', 'processorCores']:\n",
    "    mobile_final_df[col] = mobile_final_df[col].astype('category')"
   ]
  },
  {
   "cell_type": "code",
   "execution_count": 81,
   "metadata": {},
   "outputs": [
    {
     "data": {
      "text/plain": [
       "(2209, 16)"
      ]
     },
     "execution_count": 81,
     "metadata": {},
     "output_type": "execute_result"
    }
   ],
   "source": [
    "mobile_final_df.shape"
   ]
  },
  {
   "cell_type": "code",
   "execution_count": 82,
   "metadata": {},
   "outputs": [],
   "source": [
    "shuffled_df = mobile_final_df.sample(frac=1)"
   ]
  },
  {
   "cell_type": "code",
   "execution_count": 83,
   "metadata": {},
   "outputs": [],
   "source": [
    "y = np.log(shuffled_df.price)\n",
    "X = shuffled_df.drop(['price'], axis=1)"
   ]
  },
  {
   "cell_type": "code",
   "execution_count": 84,
   "metadata": {},
   "outputs": [],
   "source": [
    "X_train, X_test, y_train, y_test = train_test_split(X, y, test_size=0.2, random_state=1234)"
   ]
  },
  {
   "cell_type": "code",
   "execution_count": 85,
   "metadata": {},
   "outputs": [],
   "source": [
    "def get_rmse(y_act, y_pred):\n",
    "    return  np.sqrt(mean_squared_error(y_act, y_pred))\n",
    "\n",
    "rmse = make_scorer(get_rmse)"
   ]
  },
  {
   "cell_type": "code",
   "execution_count": 86,
   "metadata": {},
   "outputs": [],
   "source": [
    "def get_scores(pred, test):\n",
    "    print('Mean Absolute Error (MAE):', mean_absolute_error(pred, test))\n",
    "    print('Root Mean Squared Error (RMSE):', np.sqrt(mean_squared_error(pred, test)))"
   ]
  },
  {
   "cell_type": "markdown",
   "metadata": {},
   "source": [
    "**Random Forest Model**"
   ]
  },
  {
   "cell_type": "code",
   "execution_count": 87,
   "metadata": {},
   "outputs": [
    {
     "name": "stdout",
     "output_type": "stream",
     "text": [
      "No of estimators 50: 0.3793\n",
      "No of estimators 100: 0.3769\n",
      "No of estimators 150: 0.3751\n",
      "No of estimators 200: 0.3757\n",
      "No of estimators 250: 0.3757\n",
      "No of estimators 300: 0.3757\n",
      "No of estimators 350: 0.3766\n",
      "No of estimators 400: 0.3754\n",
      "No of estimators 450: 0.3742\n",
      "No of estimators 500: 0.3754\n",
      "No of estimators 550: 0.3747\n",
      "No of estimators 600: 0.3751\n",
      "No of estimators 650: 0.3756\n",
      "No of estimators 700: 0.3753\n",
      "No of estimators 750: 0.3753\n",
      "No of estimators 800: 0.3746\n",
      "No of estimators 850: 0.3751\n",
      "No of estimators 900: 0.3753\n",
      "No of estimators 950: 0.3754\n"
     ]
    }
   ],
   "source": [
    "for estimator in range(50, 1000, 50):\n",
    "    random_forest = RandomForestRegressor(n_estimators= estimator)\n",
    "    print(\"No of estimators \" + str(estimator) + \": \" + \n",
    "          str(round(np.mean(cross_val_score(random_forest, X=X_train, y=y_train, cv=5, scoring=rmse, n_jobs=-1)),4)))"
   ]
  },
  {
   "cell_type": "code",
   "execution_count": 88,
   "metadata": {},
   "outputs": [],
   "source": [
    "random_forest = RandomForestRegressor(n_estimators=450, random_state=402)\n",
    "best_random_forest = GridSearchCV(random_forest, param_grid={'max_depth':[6,12,20], 'bootstrap':[True, False],\n",
    "                                                             'min_samples_split':[2,10,90], 'min_samples_leaf':[1,3,6,10],\n",
    "                                                             'max_features':[None, 'sqrt', 'log2']}, \n",
    "                                  scoring='neg_mean_squared_error', n_jobs=-1, cv=5)"
   ]
  },
  {
   "cell_type": "code",
   "execution_count": 89,
   "metadata": {},
   "outputs": [
    {
     "data": {
      "text/plain": [
       "GridSearchCV(cv=5,\n",
       "             estimator=RandomForestRegressor(n_estimators=450,\n",
       "                                             random_state=402),\n",
       "             n_jobs=-1,\n",
       "             param_grid={'bootstrap': [True, False], 'max_depth': [6, 12, 20],\n",
       "                         'max_features': [None, 'sqrt', 'log2'],\n",
       "                         'min_samples_leaf': [1, 3, 6, 10],\n",
       "                         'min_samples_split': [2, 10, 90]},\n",
       "             scoring='neg_mean_squared_error')"
      ]
     },
     "execution_count": 89,
     "metadata": {},
     "output_type": "execute_result"
    }
   ],
   "source": [
    "best_random_forest.fit(X_train, y_train)"
   ]
  },
  {
   "cell_type": "code",
   "execution_count": 90,
   "metadata": {},
   "outputs": [
    {
     "data": {
      "text/plain": [
       "{'bootstrap': False,\n",
       " 'max_depth': 20,\n",
       " 'max_features': 'sqrt',\n",
       " 'min_samples_leaf': 1,\n",
       " 'min_samples_split': 10}"
      ]
     },
     "execution_count": 90,
     "metadata": {},
     "output_type": "execute_result"
    }
   ],
   "source": [
    "best_random_forest.best_params_"
   ]
  },
  {
   "cell_type": "code",
   "execution_count": 91,
   "metadata": {},
   "outputs": [
    {
     "data": {
      "text/plain": [
       "array([0.36067684, 0.35094643, 0.4004564 , 0.35137318, 0.35136678])"
      ]
     },
     "execution_count": 91,
     "metadata": {},
     "output_type": "execute_result"
    }
   ],
   "source": [
    "cross_val_score(best_random_forest.best_estimator_, X_train, y_train, scoring=rmse, n_jobs=-1)"
   ]
  },
  {
   "cell_type": "code",
   "execution_count": 93,
   "metadata": {},
   "outputs": [],
   "source": [
    "final_rf_model = RandomForestRegressor(n_estimators=450, max_depth=20, min_samples_split=10, max_features='sqrt',\n",
    "                                       oob_score=True, n_jobs=-1)"
   ]
  },
  {
   "cell_type": "code",
   "execution_count": 94,
   "metadata": {},
   "outputs": [
    {
     "data": {
      "text/plain": [
       "RandomForestRegressor(max_depth=20, max_features='sqrt', min_samples_split=10,\n",
       "                      n_estimators=450, n_jobs=-1, oob_score=True)"
      ]
     },
     "execution_count": 94,
     "metadata": {},
     "output_type": "execute_result"
    }
   ],
   "source": [
    "final_rf_model.fit(X_train, y_train)"
   ]
  },
  {
   "cell_type": "code",
   "execution_count": 95,
   "metadata": {},
   "outputs": [
    {
     "data": {
      "text/plain": [
       "0.8304787590756412"
      ]
     },
     "execution_count": 95,
     "metadata": {},
     "output_type": "execute_result"
    }
   ],
   "source": [
    "final_rf_model.score(X_test, y_test)"
   ]
  },
  {
   "cell_type": "code",
   "execution_count": 96,
   "metadata": {},
   "outputs": [
    {
     "data": {
      "text/plain": [
       "pixelDensity          0.192784\n",
       "cpuSpeed              0.153495\n",
       "internalStorage       0.130998\n",
       "ramCapacity           0.118190\n",
       "rearCamera            0.108216\n",
       "screenSizeInInches    0.045087\n",
       "frontCamera           0.044760\n",
       "batteryCapacity       0.039671\n",
       "brandName             0.034506\n",
       "weight                0.033830\n",
       "processorCores        0.032620\n",
       "osVersion             0.029264\n",
       "externalStorage       0.020050\n",
       "os                    0.011416\n",
       "fastCharging          0.005114\n",
       "dtype: float64"
      ]
     },
     "execution_count": 96,
     "metadata": {},
     "output_type": "execute_result"
    }
   ],
   "source": [
    "feature_imp = pd.Series(final_rf_model.feature_importances_, index=X_train.columns).sort_values(ascending=False)\n",
    "feature_imp"
   ]
  },
  {
   "cell_type": "code",
   "execution_count": 97,
   "metadata": {},
   "outputs": [],
   "source": [
    "rf_predictions = final_rf_model.predict(X_test)"
   ]
  },
  {
   "cell_type": "code",
   "execution_count": 98,
   "metadata": {},
   "outputs": [
    {
     "name": "stdout",
     "output_type": "stream",
     "text": [
      "Mean Absolute Error (MAE): 0.2555539876670692\n",
      "Root Mean Squared Error (RMSE): 0.3638146560900438\n"
     ]
    }
   ],
   "source": [
    "get_scores(pred=rf_predictions, test=y_test)"
   ]
  },
  {
   "cell_type": "markdown",
   "metadata": {},
   "source": [
    "**Gradient Boosting Machine**"
   ]
  },
  {
   "cell_type": "code",
   "execution_count": 99,
   "metadata": {},
   "outputs": [],
   "source": [
    "gbm = GradientBoostingRegressor()\n",
    "best_gbm = GridSearchCV(gbm, param_grid={'n_estimators':[750,1200,2000], 'learning_rate':[0.01, 0.03, 0.06, 0.1]}, \n",
    "                        n_jobs=-1, scoring='neg_mean_squared_error', cv=5)"
   ]
  },
  {
   "cell_type": "code",
   "execution_count": 100,
   "metadata": {},
   "outputs": [
    {
     "data": {
      "text/plain": [
       "GridSearchCV(cv=5, estimator=GradientBoostingRegressor(), n_jobs=-1,\n",
       "             param_grid={'learning_rate': [0.01, 0.03, 0.06, 0.1],\n",
       "                         'n_estimators': [750, 1200, 2000]},\n",
       "             scoring='neg_mean_squared_error')"
      ]
     },
     "execution_count": 100,
     "metadata": {},
     "output_type": "execute_result"
    }
   ],
   "source": [
    "best_gbm.fit(X_train, y_train)"
   ]
  },
  {
   "cell_type": "code",
   "execution_count": 101,
   "metadata": {},
   "outputs": [
    {
     "data": {
      "text/plain": [
       "{'learning_rate': 0.03, 'n_estimators': 750}"
      ]
     },
     "execution_count": 101,
     "metadata": {},
     "output_type": "execute_result"
    }
   ],
   "source": [
    "best_gbm.best_params_"
   ]
  },
  {
   "cell_type": "code",
   "execution_count": 102,
   "metadata": {},
   "outputs": [
    {
     "data": {
      "text/plain": [
       "array([0.37522373, 0.3550392 , 0.40530308, 0.34316586, 0.34860426])"
      ]
     },
     "execution_count": 102,
     "metadata": {},
     "output_type": "execute_result"
    }
   ],
   "source": [
    "cross_val_score(best_gbm.best_estimator_, X_train, y_train, scoring=rmse, cv=5, n_jobs=-1)"
   ]
  },
  {
   "cell_type": "code",
   "execution_count": 103,
   "metadata": {},
   "outputs": [],
   "source": [
    "gbm = GradientBoostingRegressor(n_estimators=750, learning_rate=0.03, random_state=402)\n",
    "best_gbm = GridSearchCV(gbm, param_grid={'min_samples_split':[2,10,90], 'min_samples_leaf':[1,3,6,10], 'max_depth':[2,3]}, \n",
    "                        n_jobs=-1, scoring='neg_mean_squared_error', cv=5)"
   ]
  },
  {
   "cell_type": "code",
   "execution_count": 104,
   "metadata": {},
   "outputs": [
    {
     "data": {
      "text/plain": [
       "GridSearchCV(cv=5,\n",
       "             estimator=GradientBoostingRegressor(learning_rate=0.03,\n",
       "                                                 n_estimators=750,\n",
       "                                                 random_state=402),\n",
       "             n_jobs=-1,\n",
       "             param_grid={'max_depth': [2, 3], 'min_samples_leaf': [1, 3, 6, 10],\n",
       "                         'min_samples_split': [2, 10, 90]},\n",
       "             scoring='neg_mean_squared_error')"
      ]
     },
     "execution_count": 104,
     "metadata": {},
     "output_type": "execute_result"
    }
   ],
   "source": [
    "best_gbm.fit(X_train, y_train)"
   ]
  },
  {
   "cell_type": "code",
   "execution_count": 105,
   "metadata": {},
   "outputs": [
    {
     "data": {
      "text/plain": [
       "{'max_depth': 3, 'min_samples_leaf': 1, 'min_samples_split': 2}"
      ]
     },
     "execution_count": 105,
     "metadata": {},
     "output_type": "execute_result"
    }
   ],
   "source": [
    "best_gbm.best_params_"
   ]
  },
  {
   "cell_type": "code",
   "execution_count": 106,
   "metadata": {},
   "outputs": [
    {
     "data": {
      "text/plain": [
       "array([0.37451056, 0.35530105, 0.40569224, 0.34334231, 0.34893813])"
      ]
     },
     "execution_count": 106,
     "metadata": {},
     "output_type": "execute_result"
    }
   ],
   "source": [
    "cross_val_score(best_gbm.best_estimator_, X_train, y_train, scoring=rmse, cv=5, n_jobs=-1)"
   ]
  },
  {
   "cell_type": "code",
   "execution_count": 107,
   "metadata": {},
   "outputs": [],
   "source": [
    "final_gbm = GradientBoostingRegressor(n_estimators=750, learning_rate=0.03, random_state=402)"
   ]
  },
  {
   "cell_type": "code",
   "execution_count": 108,
   "metadata": {},
   "outputs": [
    {
     "data": {
      "text/plain": [
       "GradientBoostingRegressor(learning_rate=0.03, n_estimators=750,\n",
       "                          random_state=402)"
      ]
     },
     "execution_count": 108,
     "metadata": {},
     "output_type": "execute_result"
    }
   ],
   "source": [
    "final_gbm.fit(X_train, y_train)"
   ]
  },
  {
   "cell_type": "code",
   "execution_count": 109,
   "metadata": {},
   "outputs": [
    {
     "data": {
      "text/plain": [
       "0.8306297397861054"
      ]
     },
     "execution_count": 109,
     "metadata": {},
     "output_type": "execute_result"
    }
   ],
   "source": [
    "final_gbm.score(X_test, y_test)"
   ]
  },
  {
   "cell_type": "code",
   "execution_count": 110,
   "metadata": {},
   "outputs": [],
   "source": [
    "gbm_predictions = final_gbm.predict(X_test)"
   ]
  },
  {
   "cell_type": "code",
   "execution_count": 111,
   "metadata": {},
   "outputs": [
    {
     "name": "stdout",
     "output_type": "stream",
     "text": [
      "Mean Absolute Error (MAE): 0.257819754097159\n",
      "Root Mean Squared Error (RMSE): 0.3636526078689566\n"
     ]
    }
   ],
   "source": [
    "get_scores(pred=gbm_predictions, test=y_test)"
   ]
  },
  {
   "cell_type": "markdown",
   "metadata": {},
   "source": [
    "**Xtreme Gradient Boosting Machine**"
   ]
  },
  {
   "cell_type": "code",
   "execution_count": 113,
   "metadata": {},
   "outputs": [],
   "source": [
    "xgbm_df = mobile_df.copy(deep=True)"
   ]
  },
  {
   "cell_type": "code",
   "execution_count": 116,
   "metadata": {},
   "outputs": [],
   "source": [
    "for col in ['brandName', 'os', 'fastCharging', 'processorCores']:\n",
    "    xgbm_df[col] = xgbm_df[col].astype('category')"
   ]
  },
  {
   "cell_type": "code",
   "execution_count": 119,
   "metadata": {},
   "outputs": [],
   "source": [
    "dummies = pd.get_dummies(data=xgbm_df, columns=['brandName', 'os', 'fastCharging', 'processorCores'])"
   ]
  },
  {
   "cell_type": "code",
   "execution_count": 121,
   "metadata": {},
   "outputs": [],
   "source": [
    "shuffled_df = dummies.sample(frac=1)"
   ]
  },
  {
   "cell_type": "code",
   "execution_count": 122,
   "metadata": {},
   "outputs": [],
   "source": [
    "y = np.log(shuffled_df.price)\n",
    "X = shuffled_df.drop(['price'], axis=1)"
   ]
  },
  {
   "cell_type": "code",
   "execution_count": 123,
   "metadata": {},
   "outputs": [],
   "source": [
    "X_train, X_test, y_train, y_test = train_test_split(X, y, test_size=0.2, random_state=1234)"
   ]
  },
  {
   "cell_type": "code",
   "execution_count": 126,
   "metadata": {},
   "outputs": [],
   "source": [
    "xgbm = xgbr()\n",
    "best_xgbm = GridSearchCV(xgbm, param_grid={'n_estimators':[500,750,1200,2000], 'learning_rate':[0.001,0.01, 0.03, 0.06, 0.1]}, \n",
    "                        n_jobs=-1, scoring='neg_mean_squared_error', cv=5)"
   ]
  },
  {
   "cell_type": "code",
   "execution_count": 127,
   "metadata": {},
   "outputs": [
    {
     "data": {
      "text/plain": [
       "GridSearchCV(cv=5,\n",
       "             estimator=XGBRegressor(base_score=None, booster=None,\n",
       "                                    colsample_bylevel=None,\n",
       "                                    colsample_bynode=None,\n",
       "                                    colsample_bytree=None, gamma=None,\n",
       "                                    gpu_id=None, importance_type='gain',\n",
       "                                    interaction_constraints=None,\n",
       "                                    learning_rate=None, max_delta_step=None,\n",
       "                                    max_depth=None, min_child_weight=None,\n",
       "                                    missing=nan, monotone_constraints=None,\n",
       "                                    n_estimators=100, n_jobs=None,\n",
       "                                    num_parallel_tree=None, random_state=None,\n",
       "                                    reg_alpha=None, reg_lambda=None,\n",
       "                                    scale_pos_weight=None, subsample=None,\n",
       "                                    tree_method=None, validate_parameters=None,\n",
       "                                    verbosity=None),\n",
       "             n_jobs=-1,\n",
       "             param_grid={'learning_rate': [0.001, 0.01, 0.03, 0.06, 0.1],\n",
       "                         'n_estimators': [500, 750, 1200, 2000]},\n",
       "             scoring='neg_mean_squared_error')"
      ]
     },
     "execution_count": 127,
     "metadata": {},
     "output_type": "execute_result"
    }
   ],
   "source": [
    "best_xgbm.fit(X_train, y_train)"
   ]
  },
  {
   "cell_type": "code",
   "execution_count": 128,
   "metadata": {},
   "outputs": [
    {
     "data": {
      "text/plain": [
       "{'learning_rate': 0.01, 'n_estimators': 750}"
      ]
     },
     "execution_count": 128,
     "metadata": {},
     "output_type": "execute_result"
    }
   ],
   "source": [
    "best_xgbm.best_params_"
   ]
  },
  {
   "cell_type": "code",
   "execution_count": 161,
   "metadata": {},
   "outputs": [
    {
     "data": {
      "text/plain": [
       "array([0.35052527, 0.37345151, 0.36781656, 0.38730235, 0.33943315])"
      ]
     },
     "execution_count": 161,
     "metadata": {},
     "output_type": "execute_result"
    }
   ],
   "source": [
    "cross_val_score(best_xgbm.best_estimator_, X_train, y_train, scoring=rmse, cv=5, n_jobs=-1)"
   ]
  },
  {
   "cell_type": "code",
   "execution_count": 167,
   "metadata": {},
   "outputs": [],
   "source": [
    "xgbm = xgbr(n_estimators=750, learning_rate=0.01)\n",
    "best_xgbm = GridSearchCV(xgbm, param_grid={'min_child_weight':[1,0.01,0.1,5],'max_depth':[2,3,4,6,12,18], 'gamma':[0.001, 0.01, 0.1, 5, 10]}, \n",
    "                        n_jobs=-1, scoring='neg_mean_squared_error', cv=5)"
   ]
  },
  {
   "cell_type": "code",
   "execution_count": 168,
   "metadata": {},
   "outputs": [
    {
     "data": {
      "text/plain": [
       "GridSearchCV(cv=5,\n",
       "             estimator=XGBRegressor(base_score=None, booster=None,\n",
       "                                    colsample_bylevel=None,\n",
       "                                    colsample_bynode=None,\n",
       "                                    colsample_bytree=None, gamma=None,\n",
       "                                    gpu_id=None, importance_type='gain',\n",
       "                                    interaction_constraints=None,\n",
       "                                    learning_rate=0.01, max_delta_step=None,\n",
       "                                    max_depth=None, min_child_weight=None,\n",
       "                                    missing=nan, monotone_constraints=None,\n",
       "                                    n_estimators=750, n_jobs=None,\n",
       "                                    num_parallel_tree=None, random_state=None,\n",
       "                                    reg_alpha=None, reg_lambda=None,\n",
       "                                    scale_pos_weight=None, subsample=None,\n",
       "                                    tree_method=None, validate_parameters=None,\n",
       "                                    verbosity=None),\n",
       "             n_jobs=-1,\n",
       "             param_grid={'gamma': [0.001, 0.01, 0.1, 5, 10],\n",
       "                         'max_depth': [2, 3, 4, 6, 12, 18],\n",
       "                         'min_child_weight': [1, 0.01, 0.1, 5]},\n",
       "             scoring='neg_mean_squared_error')"
      ]
     },
     "execution_count": 168,
     "metadata": {},
     "output_type": "execute_result"
    }
   ],
   "source": [
    "best_xgbm.fit(X_train, y_train)"
   ]
  },
  {
   "cell_type": "code",
   "execution_count": 169,
   "metadata": {},
   "outputs": [
    {
     "data": {
      "text/plain": [
       "{'gamma': 0.1, 'max_depth': 6, 'min_child_weight': 1}"
      ]
     },
     "execution_count": 169,
     "metadata": {},
     "output_type": "execute_result"
    }
   ],
   "source": [
    "best_xgbm.best_params_"
   ]
  },
  {
   "cell_type": "code",
   "execution_count": 170,
   "metadata": {},
   "outputs": [
    {
     "data": {
      "text/plain": [
       "-0.13256819745604137"
      ]
     },
     "execution_count": 170,
     "metadata": {},
     "output_type": "execute_result"
    }
   ],
   "source": [
    "best_xgbm.best_score_"
   ]
  },
  {
   "cell_type": "code",
   "execution_count": 171,
   "metadata": {},
   "outputs": [
    {
     "data": {
      "text/plain": [
       "array([0.35052527, 0.37345151, 0.36781656, 0.38730235, 0.33943315])"
      ]
     },
     "execution_count": 171,
     "metadata": {},
     "output_type": "execute_result"
    }
   ],
   "source": [
    "cross_val_score(best_xgbm.best_estimator_, X_train, y_train, scoring=rmse, cv=5, n_jobs=-1)"
   ]
  },
  {
   "cell_type": "code",
   "execution_count": 172,
   "metadata": {},
   "outputs": [],
   "source": [
    "final_xgbm = xgbr(n_estimators=750, learning_rate=0.01, gamma=0.1, max_depth=6, min_child_weight=1,\n",
    "                  random_state=402)"
   ]
  },
  {
   "cell_type": "code",
   "execution_count": 173,
   "metadata": {},
   "outputs": [
    {
     "data": {
      "text/plain": [
       "XGBRegressor(base_score=0.5, booster='gbtree', colsample_bylevel=1,\n",
       "             colsample_bynode=1, colsample_bytree=1, gamma=0.1, gpu_id=-1,\n",
       "             importance_type='gain', interaction_constraints='',\n",
       "             learning_rate=0.01, max_delta_step=0, max_depth=6,\n",
       "             min_child_weight=1, missing=nan, monotone_constraints='()',\n",
       "             n_estimators=750, n_jobs=0, num_parallel_tree=1, random_state=402,\n",
       "             reg_alpha=0, reg_lambda=1, scale_pos_weight=1, subsample=1,\n",
       "             tree_method='exact', validate_parameters=1, verbosity=None)"
      ]
     },
     "execution_count": 173,
     "metadata": {},
     "output_type": "execute_result"
    }
   ],
   "source": [
    "final_xgbm.fit(X_train, y_train)"
   ]
  },
  {
   "cell_type": "code",
   "execution_count": 174,
   "metadata": {},
   "outputs": [
    {
     "data": {
      "text/plain": [
       "0.7933419730778093"
      ]
     },
     "execution_count": 174,
     "metadata": {},
     "output_type": "execute_result"
    }
   ],
   "source": [
    "final_xgbm.score(X_test, y_test)"
   ]
  },
  {
   "cell_type": "code",
   "execution_count": 175,
   "metadata": {},
   "outputs": [],
   "source": [
    "xgbm_predictions = final_xgbm.predict(X_test)"
   ]
  },
  {
   "cell_type": "code",
   "execution_count": 176,
   "metadata": {},
   "outputs": [
    {
     "name": "stdout",
     "output_type": "stream",
     "text": [
      "Mean Absolute Error (MAE): 0.25824488621903363\n",
      "Root Mean Squared Error (RMSE): 0.3579631724264337\n"
     ]
    }
   ],
   "source": [
    "get_scores(pred=xgbm_predictions, test=y_test)"
   ]
  },
  {
   "cell_type": "code",
   "execution_count": null,
   "metadata": {},
   "outputs": [],
   "source": []
  }
 ],
 "metadata": {
  "kernelspec": {
   "display_name": "Python 3",
   "language": "python",
   "name": "python3"
  },
  "language_info": {
   "codemirror_mode": {
    "name": "ipython",
    "version": 3
   },
   "file_extension": ".py",
   "mimetype": "text/x-python",
   "name": "python",
   "nbconvert_exporter": "python",
   "pygments_lexer": "ipython3",
   "version": "3.7.7"
  }
 },
 "nbformat": 4,
 "nbformat_minor": 4
}
