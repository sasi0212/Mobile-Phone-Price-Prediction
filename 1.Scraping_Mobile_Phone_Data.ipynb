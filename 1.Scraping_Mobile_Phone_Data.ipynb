{
 "cells": [
  {
   "cell_type": "code",
   "execution_count": 1,
   "metadata": {},
   "outputs": [],
   "source": [
    "# Importing neccessary packages\n",
    "\n",
    "import requests as rqst\n",
    "from bs4 import BeautifulSoup as bs\n",
    "import sqlite3\n",
    "import datetime as dt\n",
    "import re"
   ]
  },
  {
   "cell_type": "code",
   "execution_count": 2,
   "metadata": {},
   "outputs": [],
   "source": [
    "baseUrlToBeLoaded = \"https://www.digit.in/\""
   ]
  },
  {
   "cell_type": "code",
   "execution_count": 3,
   "metadata": {},
   "outputs": [],
   "source": [
    "# Creating soup object for every html loaded, so that it can be parsed \n",
    "\n",
    "def get_soup_object(soup_link):\n",
    "    mobilesPage = rqst.get(soup_link)\n",
    "    mobilesPageSoup = bs(mobilesPage.text, 'html.parser')\n",
    "    return mobilesPageSoup"
   ]
  },
  {
   "cell_type": "code",
   "execution_count": null,
   "metadata": {},
   "outputs": [],
   "source": [
    "# Parsing the homepage of the website and getting redirect link to mobile information page\n",
    "\n",
    "homePageSoup = get_soup_object(soup_link=baseUrlToBeLoaded)\n",
    "mobile_page_redirect = [link.get('href') for link in homePageSoup.find_all('a') if link.text.strip() == 'Latest Mobiles']"
   ]
  },
  {
   "cell_type": "code",
   "execution_count": null,
   "metadata": {},
   "outputs": [],
   "source": [
    "# Getting redirect links for every mobile phone present in the website.\n",
    "\n",
    "redirects = []\n",
    "def mobile_redirects(page_link):\n",
    "    pageObjects = get_soup_object(soup_link=page_link)\n",
    "    for link in pageObjects.find_all('div', class_ = 'head-line'):\n",
    "        redirects.append(link.find('a').get('href'))\n",
    "    return pageObjects"
   ]
  },
  {
   "cell_type": "code",
   "execution_count": null,
   "metadata": {},
   "outputs": [],
   "source": [
    "# Getting number of mobile phones present in the site to calculate no of pages to be loaded.\n",
    "\n",
    "soupObject = get_soup_object(soup_link=mobile_page_redirect[0])\n",
    "no_of_results = int(soupObject.find('div', class_ = 'block-feature').find('h5').text.strip().split()[0])\n",
    "no_of_pages = no_of_results//10\n",
    "\n",
    "# Loading every page and getting redirect links for every mobile present in that page.\n",
    "\n",
    "for page_no in range(1,no_of_pages+1):\n",
    "    pageSoup = soupObject\n",
    "    page_links = [link.get('href') for link in pageSoup.find_all('a', class_ = 'page-link') \n",
    "                  if link.text.strip()== str(page_no)]\n",
    "    new_page_soup = mobile_redirects(page_link=page_links[0])\n",
    "    soupObject = new_page_soup"
   ]
  },
  {
   "cell_type": "code",
   "execution_count": null,
   "metadata": {},
   "outputs": [],
   "source": [
    "''' Writing redirect links to a text file. So if program got terminated or interruped and data in the redirect links list\n",
    "get lost. To avoid repeating over to get redirect links it is wriiten to file'''\n",
    "\n",
    "with open(\"redirect_links.txt\", \"w\") as output:\n",
    "    for link in redirects:\n",
    "        output.write(link + \"\\n\")"
   ]
  },
  {
   "cell_type": "code",
   "execution_count": 4,
   "metadata": {},
   "outputs": [],
   "source": [
    "# reading all redirect links from the text file saved.\n",
    "\n",
    "file = open( \"redirect_links.txt\", \"r\" )\n",
    "redirect_links = []\n",
    "for line in file:\n",
    "    redirect_links.append(line)"
   ]
  },
  {
   "cell_type": "code",
   "execution_count": 5,
   "metadata": {},
   "outputs": [],
   "source": [
    "# Important specs are only considered to select as the feature for the model.\n",
    "\n",
    "specs_interested = ['Manufacturer', 'Operating System', 'Os Version', 'Screen Size (In Inches)', 'Display Technology',\n",
    "                    'Screen Resolution (In Pixels)', 'Pixel Density (Ppi)','Rear Camera Megapixel', \n",
    "                    'Front Camera Megapixel', 'Battery Capacity (Mah)', 'Support For Fast Charging', 'Cpu Speed',\n",
    "                    'Processor Cores', 'Ram', 'Gpu', 'Weight (In Grams)', 'Storage', 'Removable Storage (Maximum)']"
   ]
  },
  {
   "cell_type": "code",
   "execution_count": 6,
   "metadata": {},
   "outputs": [
    {
     "data": {
      "text/plain": [
       "<sqlite3.Cursor at 0x1c738ce5dc0>"
      ]
     },
     "execution_count": 6,
     "metadata": {},
     "output_type": "execute_result"
    }
   ],
   "source": [
    "# Creating database and table.\n",
    "\n",
    "dbConnection = sqlite3.connect('MobileDeviceData.sqlite')\n",
    "dbCursor = dbConnection.cursor()\n",
    "\n",
    "dbCursor.executescript('''\n",
    "drop table if exists MobileData;\n",
    "\n",
    "create table MobileData(\n",
    "    brandName text,\n",
    "    os text,\n",
    "    osVersion text,\n",
    "    screenSizeInInches text,\n",
    "    displayType text,\n",
    "    resolutionInPixels text,\n",
    "    pixelDensity text,\n",
    "    rearCamera text,\n",
    "    frontCamera text,\n",
    "    batteryCapacity text,\n",
    "    fastCharging text,\n",
    "    cpuSpeed text,\n",
    "    processorCores text,\n",
    "    ramCapacity text,\n",
    "    gpuType text,\n",
    "    weight text,\n",
    "    internalStorage text,\n",
    "    externalStorage text,\n",
    "    yearOfRelease text,\n",
    "    price integer\n",
    ");\n",
    "    \n",
    "''')"
   ]
  },
  {
   "cell_type": "code",
   "execution_count": 7,
   "metadata": {},
   "outputs": [],
   "source": [
    "# Getting all the specification of the mobile available in the mobile page.\n",
    "\n",
    "def getting_spec_list(tables):\n",
    "    spec_list = {}\n",
    "    for table in tables:\n",
    "        table_body = table.find('tbody')\n",
    "        for row in table_body.find_all('tr'):\n",
    "            datas = row.find_all('td')\n",
    "            cols = [data.text.strip() for data in datas]\n",
    "            spec_list[cols[0]] = cols[2]\n",
    "    return spec_list"
   ]
  },
  {
   "cell_type": "code",
   "execution_count": 8,
   "metadata": {},
   "outputs": [],
   "source": [
    "# Getting the data of the specifications we are interest in.\n",
    "\n",
    "def get_spec_data(specs):\n",
    "    specs_data = []\n",
    "    for spec in specs_interested:\n",
    "        if spec in specs.keys():\n",
    "            specs_data.append(specs[spec])\n",
    "        else:\n",
    "            specs_data.append('NA')\n",
    "    return specs_data"
   ]
  },
  {
   "cell_type": "code",
   "execution_count": 9,
   "metadata": {},
   "outputs": [],
   "source": [
    "# Getting price along with the other specifications.\n",
    "\n",
    "def get_all_data(soupObject, year):\n",
    "    if soupObject.find('div', class_ = 'Block-price') != None:\n",
    "        price = soupObject.find('div', class_ = 'Block-price').find('b').text.strip()\n",
    "        price = int(''.join(re.findall('\\d*[,]?\\d+', price)[0].split(',')))\n",
    "    else:\n",
    "        return\n",
    "    tables_info = soupObject.find('div', class_ = 'Basic-info-tab').find_all('table')\n",
    "    spec_list = getting_spec_list(tables=tables_info)\n",
    "    spec_data = get_spec_data(specs=spec_list)\n",
    "    dbCursor.execute('''insert or ignore into MobileData (brandName,os,osVersion,screenSizeInInches,displayType,\n",
    "                        resolutionInPixels,pixelDensity,rearCamera,frontCamera,batteryCapacity,fastCharging,cpuSpeed,\n",
    "                        processorCores,ramCapacity,gpuType,weight,internalStorage,externalStorage,yearOfRelease,price) \n",
    "                        values (?,?,?,?,?,?,?,?,?,?,?,?,?,?,?,?,?,?,?,?)''', \n",
    "                     (spec_data[0],spec_data[1],spec_data[2],spec_data[3],spec_data[4],spec_data[5],spec_data[6],\n",
    "                      spec_data[7],spec_data[8],spec_data[9],spec_data[10],spec_data[11],spec_data[12],spec_data[13],\n",
    "                      spec_data[14],spec_data[15],spec_data[16],spec_data[17],year,price,))\n",
    "    dbConnection.commit()"
   ]
  },
  {
   "cell_type": "code",
   "execution_count": 11,
   "metadata": {},
   "outputs": [],
   "source": [
    "# Scrapping only the mobile phones that are released five years back till now \n",
    "# Scrapping the data and also scrappping all the variants available for the mobile phone.\n",
    "\n",
    "for mobile in redirect_links:\n",
    "    productSoup = get_soup_object(soup_link=mobile[:-1])\n",
    "    current_year = dt.datetime.now().year\n",
    "    years_considered = [year for year in range(current_year, current_year-3, -1)]\n",
    "    temp = productSoup.find_all('div', class_ = 'Block-status')\n",
    "    if len(temp) != 0:\n",
    "        release_year = int(temp[-2].find('b').text.strip().split('-')[-1])\n",
    "    else: continue\n",
    "    if release_year in years_considered:\n",
    "        variants_link = [link.find('a').get('href') for link in productSoup.find_all('div', class_ = 'Variant-size') \n",
    "                         if link.find('a') != None]\n",
    "        get_all_data(soupObject=productSoup, year=release_year)\n",
    "        if len(variants_link) != 0:\n",
    "            for variant in variants_link:\n",
    "                soup_object = get_soup_object(soup_link=variant)\n",
    "                get_all_data(soupObject=soup_object, year=release_year)"
   ]
  },
  {
   "cell_type": "code",
   "execution_count": null,
   "metadata": {},
   "outputs": [],
   "source": []
  },
  {
   "cell_type": "code",
   "execution_count": null,
   "metadata": {},
   "outputs": [],
   "source": []
  },
  {
   "cell_type": "code",
   "execution_count": null,
   "metadata": {},
   "outputs": [],
   "source": []
  }
 ],
 "metadata": {
  "kernelspec": {
   "display_name": "Python 3",
   "language": "python",
   "name": "python3"
  },
  "language_info": {
   "codemirror_mode": {
    "name": "ipython",
    "version": 3
   },
   "file_extension": ".py",
   "mimetype": "text/x-python",
   "name": "python",
   "nbconvert_exporter": "python",
   "pygments_lexer": "ipython3",
   "version": "3.7.7"
  }
 },
 "nbformat": 4,
 "nbformat_minor": 4
}
